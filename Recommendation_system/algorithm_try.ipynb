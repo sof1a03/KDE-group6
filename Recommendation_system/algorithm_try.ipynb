{
 "cells": [
  {
   "cell_type": "code",
   "execution_count": 26,
   "id": "eb42c100-a9e3-4336-a5e3-b2f0033e2fc2",
   "metadata": {},
   "outputs": [
    {
     "name": "stdout",
     "output_type": "stream",
     "text": [
      "Name: pandas\n",
      "Version: 1.5.3\n",
      "Summary: Powerful data structures for data analysis, time series, and statistics\n",
      "Home-page: https://pandas.pydata.org\n",
      "Author: The Pandas Development Team\n",
      "Author-email: pandas-dev@python.org\n",
      "License: BSD-3-Clause\n",
      "Location: /root/miniconda3/lib/python3.12/site-packages\n",
      "Requires: numpy, numpy, python-dateutil, pytz\n",
      "Required-by: pykeen\n",
      "Note: you may need to restart the kernel to use updated packages.\n"
     ]
    }
   ],
   "source": [
    "pip show pandas"
   ]
  },
  {
   "cell_type": "code",
   "execution_count": 28,
   "id": "9a419d97-d7fd-4a76-925a-4bbcbb36b0c4",
   "metadata": {},
   "outputs": [
    {
     "name": "stdout",
     "output_type": "stream",
     "text": [
      "Name: pykeen\n",
      "Version: 1.11.0\n",
      "Summary: A package for training and evaluating multimodal knowledge graph embeddings\n",
      "Home-page: \n",
      "Author: \n",
      "Author-email: Mehdi Ali <pykeen2019@gmail.com>, Max Berrendorf <max.berrendorf@gmail.com>, Laurent Vermue <pykeen2019@gmail.com>, Charles Tapley Hoyt <cthoyt@gmail.com>\n",
      "License: MIT License\n",
      "\n",
      "Copyright (c) 2019-2024 PyKEEN Project Team\n",
      "\n",
      "Permission is hereby granted, free of charge, to any person obtaining a copy\n",
      "of this software and associated documentation files (the \"Software\"), to deal\n",
      "in the Software without restriction, including without limitation the rights\n",
      "to use, copy, modify, merge, publish, distribute, sublicense, and/or sell\n",
      "copies of the Software, and to permit persons to whom the Software is\n",
      "furnished to do so, subject to the following conditions:\n",
      "\n",
      "The above copyright notice and this permission notice shall be included in all\n",
      "copies or substantial portions of the Software.\n",
      "\n",
      "THE SOFTWARE IS PROVIDED \"AS IS\", WITHOUT WARRANTY OF ANY KIND, EXPRESS OR\n",
      "IMPLIED, INCLUDING BUT NOT LIMITED TO THE WARRANTIES OF MERCHANTABILITY,\n",
      "FITNESS FOR A PARTICULAR PURPOSE AND NONINFRINGEMENT. IN NO EVENT SHALL THE\n",
      "AUTHORS OR COPYRIGHT HOLDERS BE LIABLE FOR ANY CLAIM, DAMAGES OR OTHER\n",
      "LIABILITY, WHETHER IN AN ACTION OF CONTRACT, TORT OR OTHERWISE, ARISING FROM,\n",
      "OUT OF OR IN CONNECTION WITH THE SOFTWARE OR THE USE OR OTHER DEALINGS IN THE\n",
      "SOFTWARE.\n",
      "\n",
      "Location: /root/miniconda3/lib/python3.12/site-packages\n",
      "Requires: class-resolver, click, click-default-group, dataclasses-json, docdata, more-click, more-itertools, numpy, optuna, pandas, pystow, pyyaml, requests, scikit-learn, scipy, tabulate, torch, torch-max-mem, torch-ppr, tqdm, typing-extensions\n",
      "Required-by: \n",
      "Note: you may need to restart the kernel to use updated packages.\n"
     ]
    }
   ],
   "source": [
    "pip show pykeen"
   ]
  },
  {
   "cell_type": "code",
   "execution_count": 29,
   "id": "27fe39ec-9a32-4c50-9717-c3d0ecb4a67f",
   "metadata": {},
   "outputs": [
    {
     "name": "stdout",
     "output_type": "stream",
     "text": [
      "Name: torch\n",
      "Version: 2.5.1+cu124\n",
      "Summary: Tensors and Dynamic neural networks in Python with strong GPU acceleration\n",
      "Home-page: https://pytorch.org/\n",
      "Author: PyTorch Team\n",
      "Author-email: packages@pytorch.org\n",
      "License: BSD-3-Clause\n",
      "Location: /root/miniconda3/lib/python3.12/site-packages\n",
      "Requires: filelock, fsspec, jinja2, networkx, nvidia-cublas-cu12, nvidia-cuda-cupti-cu12, nvidia-cuda-nvrtc-cu12, nvidia-cuda-runtime-cu12, nvidia-cudnn-cu12, nvidia-cufft-cu12, nvidia-curand-cu12, nvidia-cusolver-cu12, nvidia-cusparse-cu12, nvidia-nccl-cu12, nvidia-nvjitlink-cu12, nvidia-nvtx-cu12, setuptools, sympy, triton, typing-extensions\n",
      "Required-by: pykeen, torch-max-mem, torch-ppr, torchvision\n",
      "Note: you may need to restart the kernel to use updated packages.\n"
     ]
    }
   ],
   "source": [
    "pip show torch"
   ]
  },
  {
   "cell_type": "code",
   "execution_count": 1,
   "id": "704bd76b-5e63-4e3a-a3a8-a6659cad7738",
   "metadata": {},
   "outputs": [],
   "source": [
    "import numpy as np\n",
    "import pandas as pd\n",
    "from rdflib import Graph, Literal, RDF, URIRef, Namespace\n",
    "import networkx as nx\n",
    "from node2vec import Node2Vec\n",
    "from pykeen.triples import TriplesFactory\n",
    "from pykeen.pipeline import pipeline"
   ]
  },
  {
   "cell_type": "code",
   "execution_count": 2,
   "id": "b690af0f-2b7d-4f3d-8a28-f6f9d1180317",
   "metadata": {},
   "outputs": [],
   "source": [
    "csv_file_path = \"sample_dataset.csv\"\n",
    "rdf_output_path = \"owlshelves.ttl\"\n",
    "node2vec_output_path = \"node2vec_embeddings.vec\"\n",
    "transe_output_path = \"transe_model\""
   ]
  },
  {
   "cell_type": "code",
   "execution_count": 3,
   "id": "6bd361de-aa98-4be6-85fb-5fffff103d60",
   "metadata": {},
   "outputs": [],
   "source": [
    "def csv_to_rdf(csv_file_path, rdf_output_path):\n",
    "    data = pd.read_csv(csv_file_path)\n",
    "    g = Graph()\n",
    "    EX = Namespace(\"http://example.org/\")\n",
    "    g.bind(\"ex\", EX)\n",
    "    \n",
    "    for _, row in data.iterrows():\n",
    "        user = URIRef(EX[f\"user/{row['User-ID']}\"])\n",
    "        book = URIRef(EX[f\"book/{row['ISBN']}\"])\n",
    "        rating = Literal(row['Book-Rating'])\n",
    "        author = Literal(row['Book-Author'])\n",
    "        title = Literal(row['Book-Title'])\n",
    "\n",
    "        g.add((user, RDF.type, EX.User))\n",
    "        g.add((book, RDF.type, EX.Book))\n",
    "        g.add((user, EX.rated, book))\n",
    "        g.add((book, EX.rating, rating))\n",
    "        g.add((book, EX.author, author))\n",
    "        g.add((book, EX.title, title))\n",
    "    \n",
    "    g.serialize(destination=rdf_output_path, format=\"turtle\")\n",
    "    return rdf_output_path"
   ]
  },
  {
   "cell_type": "code",
   "execution_count": 4,
   "id": "786220c5-4f7e-4518-a31e-cfd95cf5a702",
   "metadata": {},
   "outputs": [],
   "source": [
    "def rdf_to_networkx_optimized(rdf_file, chunk_size=1000):\n",
    "    print(f\"Loading RDF file: {rdf_file}\")\n",
    "    g = Graph()\n",
    "    g.parse(rdf_file, format=\"turtle\")\n",
    "    \n",
    "    print(\"Converting RDF to NetworkX graph...\")\n",
    "    nx_graph = nx.Graph()\n",
    "    count = 0\n",
    "\n",
    "    for subj, pred, obj in g:\n",
    "        nx_graph.add_edge(str(subj), str(obj), relation=str(pred))\n",
    "        count += 1\n",
    "\n",
    "        if count % (chunk_size*10000) == 0:\n",
    "            print(f\"Processed {count} triples...\")\n",
    "    \n",
    "    print(f\"Finished converting {count} triples to NetworkX graph.\")\n",
    "    return nx_graph"
   ]
  },
  {
   "cell_type": "code",
   "execution_count": 5,
   "id": "7535fae4-efa8-4068-8bd5-cd5383481538",
   "metadata": {},
   "outputs": [],
   "source": [
    "from torch_geometric.nn import Node2Vec\n",
    "from torch_geometric.utils import from_networkx\n",
    "import networkx as nx\n",
    "import torch\n",
    "\n",
    "def generate_node2vec_embeddings_torch(nx_graph, output_path, dimensions=32, walk_length=10, num_walks=5, use_gpu=True):\n",
    "    data = from_networkx(nx_graph)\n",
    "    device = torch.device('cuda' if torch.cuda.is_available() and use_gpu else 'cpu')\n",
    "    \n",
    "    context_size = min(10, walk_length)\n",
    "    node2vec = Node2Vec(\n",
    "        edge_index=data.edge_index,\n",
    "        embedding_dim=dimensions,\n",
    "        walk_length=walk_length,\n",
    "        context_size=context_size,\n",
    "        walks_per_node=num_walks,\n",
    "        num_negative_samples=1,\n",
    "        sparse=True\n",
    "    ).to(device)\n",
    "\n",
    "    optimizer = torch.optim.SparseAdam(node2vec.parameters(), lr=0.01)\n",
    "\n",
    "    for epoch in range(1, 101):\n",
    "        optimizer.zero_grad()\n",
    "        # Ensure batch tensor is on CPU\n",
    "        batch = torch.arange(data.num_nodes, device='cpu')  # Force batch to be on CPU\n",
    "        pos_rw = node2vec.pos_sample(batch)  # Positive random walks\n",
    "        neg_rw = node2vec.neg_sample(batch)  # Negative random walks\n",
    "        loss = node2vec.loss(pos_rw.to(device), neg_rw.to(device))  # Compute loss\n",
    "        loss.backward()\n",
    "        optimizer.step()\n",
    "        if epoch % 10 == 0:\n",
    "            print(f'Epoch {epoch}, Loss: {loss.item():.4f}')\n",
    "\n",
    "    embeddings = node2vec.forward()\n",
    "    embeddings = embeddings.cpu().detach().numpy()\n",
    "\n",
    "    with open(output_path, 'w') as f:\n",
    "        f.write(f\"{embeddings.shape[0]} {embeddings.shape[1]}\\n\")\n",
    "        for idx, emb in enumerate(embeddings):\n",
    "            f.write(f\"{idx} \" + \" \".join(map(str, emb)) + \"\\n\")\n",
    "\n",
    "    return output_path"
   ]
  },
  {
   "cell_type": "code",
   "execution_count": 8,
   "id": "671cd2d8-b8a5-4bf8-9d82-2023a31685be",
   "metadata": {
    "scrolled": true
   },
   "outputs": [
    {
     "name": "stdout",
     "output_type": "stream",
     "text": [
      "Loading RDF file: owlshelves.ttl\n",
      "Converting RDF to NetworkX graph...\n",
      "Finished converting 7419854 triples to NetworkX graph.\n"
     ]
    }
   ],
   "source": [
    "if __name__ == \"__main__\":\n",
    "    \n",
    "    rdf_file = \"owlshelves.ttl\"\n",
    "    nx_graph = rdf_to_networkx_optimized(rdf_file)"
   ]
  },
  {
   "cell_type": "code",
   "execution_count": 9,
   "id": "ffe77020-4f80-43a2-a6ad-ed9619cbb681",
   "metadata": {},
   "outputs": [
    {
     "name": "stdout",
     "output_type": "stream",
     "text": [
      "Generating Node2Vec embeddings...\n",
      "Epoch 10, Loss: 4.2190\n",
      "Epoch 20, Loss: 3.7611\n",
      "Epoch 30, Loss: 3.3381\n",
      "Epoch 40, Loss: 2.9752\n",
      "Epoch 50, Loss: 2.6669\n",
      "Epoch 60, Loss: 2.4447\n",
      "Epoch 70, Loss: 2.2192\n",
      "Epoch 80, Loss: 2.0774\n",
      "Epoch 90, Loss: 1.9324\n",
      "Epoch 100, Loss: 1.8270\n",
      "Node2Vec embeddings saved to: node2vec_embeddings.vec\n"
     ]
    }
   ],
   "source": [
    "print(\"Generating Node2Vec embeddings...\")\n",
    "G = nx.fast_gnp_random_graph(1000, 0.01)\n",
    "node2vec_file = generate_node2vec_embeddings_torch(G, \"node2vec_embeddings.vec\")\n",
    "print(f\"Node2Vec embeddings saved to: {node2vec_file}\")"
   ]
  },
  {
   "cell_type": "code",
   "execution_count": 10,
   "id": "0f398f52-ea42-46cd-bd9f-4bd3d703f155",
   "metadata": {},
   "outputs": [
    {
     "name": "stdout",
     "output_type": "stream",
     "text": [
      "Loading node embeddings and text data...\n",
      "Generating embeddings for text data...\n",
      "Combining node and text embeddings...\n",
      "Clustering embeddings...\n",
      "Visualizing clusters...\n"
     ]
    },
    {
     "data": {
      "image/png": "[encoded data removed]",
      "text/plain": [
       "<Figure size 1000x800 with 1 Axes>"
      ]
     },
     "metadata": {},
     "output_type": "display_data"
    }
   ],
   "source": [
    "import os\n",
    "import numpy as np\n",
    "from sklearn.cluster import AgglomerativeClustering\n",
    "from sklearn.decomposition import PCA\n",
    "import matplotlib.pyplot as plt\n",
    "from sklearn.preprocessing import LabelEncoder\n",
    "\n",
    "# Limit the number of threads used by multithreading libraries for optimization\n",
    "os.environ[\"OMP_NUM_THREADS\"] = \"1\"\n",
    "os.environ[\"OPENBLAS_NUM_THREADS\"] = \"1\"\n",
    "os.environ[\"MKL_NUM_THREADS\"] = \"1\"\n",
    "os.environ[\"VECLIB_MAXIMUM_THREADS\"] = \"1\"\n",
    "os.environ[\"NUMEXPR_NUM_THREADS\"] = \"1\"\n",
    "\n",
    "def load_embeddings_and_text(vec_file_path):\n",
    "    \"\"\"Load node embeddings and discrete text data\"\"\"\n",
    "    with open(vec_file_path, 'r') as f:\n",
    "        lines = f.readlines()\n",
    "    \n",
    "    node_embeddings = {}\n",
    "    text_data = {}\n",
    "    for line in lines[1:]: \n",
    "        parts = line.strip().split()\n",
    "        node_id = parts[0]\n",
    "        try:\n",
    "            embedding = np.array([float(x) for x in parts[1:]])\n",
    "            node_embeddings[node_id] = embedding\n",
    "        except ValueError:\n",
    "            text_data[node_id] = \" \".join(parts[1:])\n",
    "    return node_embeddings, text_data\n",
    "\n",
    "def generate_embeddings(text_data, embedding_dim=50):\n",
    "    # Map text categories to integers\n",
    "    label_encoder = LabelEncoder()\n",
    "    text_ids = list(text_data.keys())\n",
    "    text_corpus = list(text_data.values())\n",
    "    text_labels = label_encoder.fit_transform(text_corpus)\n",
    "    \n",
    "    # Generate random embeddings for each category\n",
    "    unique_categories = len(label_encoder.classes_)\n",
    "    embedding_matrix = np.random.rand(unique_categories, embedding_dim)\n",
    "    \n",
    "    # Map each text to its corresponding embedding vector\n",
    "    text_embeddings = np.array([embedding_matrix[label] for label in text_labels])\n",
    "    return text_ids, text_embeddings\n",
    "\n",
    "def combine_embeddings_optimized(node_embeddings, text_ids, text_vectors, text_vector_dim):\n",
    "    embeddings = []\n",
    "    numeric_dim = len(next(iter(node_embeddings.values()))) if node_embeddings else 0\n",
    "    max_num_dims = numeric_dim + text_vector_dim\n",
    "\n",
    "    for node_id, numeric_embedding in node_embeddings.items():\n",
    "        try:\n",
    "            if text_vectors is not None and node_id in text_ids:\n",
    "                text_index = text_ids.index(node_id)\n",
    "                text_embedding = text_vectors[text_index]\n",
    "                combined = np.concatenate([numeric_embedding, text_embedding])\n",
    "            else:\n",
    "                combined = np.concatenate([numeric_embedding, np.zeros(max_num_dims - numeric_dim)])\n",
    "            embeddings.append(combined)\n",
    "        except Exception as e:\n",
    "            print(f\"Error processing node {node_id}: {e}\")\n",
    "            continue\n",
    "\n",
    "    max_len = max(len(emb) for emb in embeddings)\n",
    "    embeddings = [np.pad(emb, (0, max_len - len(emb))) for emb in embeddings]\n",
    "    \n",
    "    return np.array(embeddings)\n",
    "\n",
    "def cluster_embeddings(embeddings, num_clusters):\n",
    "    clustering = AgglomerativeClustering(n_clusters=num_clusters)\n",
    "    cluster_labels = clustering.fit_predict(embeddings)\n",
    "    return cluster_labels\n",
    "\n",
    "def visualize_clusters(embeddings, cluster_labels):\n",
    "    pca = PCA(n_components=2)\n",
    "    reduced_embeddings = pca.fit_transform(embeddings)\n",
    "    \n",
    "    plt.figure(figsize=(10, 8))\n",
    "    for cluster_id in np.unique(cluster_labels):\n",
    "        cluster_points = reduced_embeddings[cluster_labels == cluster_id]\n",
    "        plt.scatter(cluster_points[:, 0], cluster_points[:, 1], label=f\"Cluster {cluster_id}\")\n",
    "    \n",
    "    plt.title(\"Node and Text Embeddings Clustering\")\n",
    "    plt.xlabel(\"PCA Component 1\")\n",
    "    plt.ylabel(\"PCA Component 2\")\n",
    "    plt.legend()\n",
    "    plt.show()\n",
    "\n",
    "if __name__ == \"__main__\":\n",
    "    vec_file_path = 'node2vec_embeddings.vec'\n",
    "\n",
    "    print(\"Loading node embeddings and text data...\")\n",
    "    node_embeddings, text_data = load_embeddings_and_text(vec_file_path)\n",
    "\n",
    "    print(\"Generating embeddings for text data...\")\n",
    "    if text_data:\n",
    "        text_ids, text_vectors = generate_embeddings(text_data, embedding_dim=50)\n",
    "    else:\n",
    "        text_ids, text_vectors = [], None\n",
    "\n",
    "    print(\"Combining node and text embeddings...\")\n",
    "    combined_embeddings = combine_embeddings_optimized(node_embeddings, text_ids, text_vectors, text_vector_dim=50)\n",
    "\n",
    "    print(\"Clustering embeddings...\")\n",
    "    num_clusters = 3\n",
    "    cluster_labels = cluster_embeddings(combined_embeddings, num_clusters)\n",
    "\n",
    "    print(\"Visualizing clusters...\")\n",
    "    visualize_clusters(combined_embeddings, cluster_labels)\n"
   ]
  },
  {
   "cell_type": "code",
   "execution_count": 4,
   "id": "f1a5b50a-f62d-4d82-814e-66c855ca63a9",
   "metadata": {},
   "outputs": [],
   "source": [
    "import numpy as np\n",
    "import rdflib\n",
    "from pykeen.pipeline import pipeline\n",
    "from pykeen.triples import TriplesFactory\n",
    "import torch\n",
    "from sklearn.model_selection import train_test_split\n",
    "\n",
    "\n",
    "def load_rdf_as_triples(rdf_file_path):\n",
    "    rdf_graph = rdflib.Graph()\n",
    "    rdf_graph.parse(rdf_file_path, format=\"turtle\") \n",
    "    triples = [(str(subj), str(pred), str(obj)) for subj, pred, obj in rdf_graph]\n",
    "    return triples\n",
    "\n",
    "def train_transe_model_from_rdf_optimized(triples, output_path, num_epochs=10, embedding_dim=50, batch_size=1024):\n",
    "    triples_array = np.array(triples, dtype=str)\n",
    "    triples_factory = TriplesFactory.from_labeled_triples(triples=triples_array)\n",
    "\n",
    "    device = torch.device('cuda' if torch.cuda.is_available() else 'cpu')\n",
    "    print(f\"Using device: {device}\")\n",
    "\n",
    "    train_triples_array, test_triples_array = train_test_split(triples_array, test_size=0.1, random_state=42)\n",
    "    train_triples_factory = TriplesFactory.from_labeled_triples(triples=train_triples_array)\n",
    "    test_triples_factory = TriplesFactory.from_labeled_triples(triples=test_triples_array)\n",
    "\n",
    "    result = pipeline(\n",
    "        training=train_triples_factory,\n",
    "        testing=test_triples_factory,\n",
    "        validation=None,\n",
    "        model=\"TransE\",\n",
    "        model_kwargs=dict(embedding_dim=embedding_dim),\n",
    "        training_kwargs=dict(num_epochs=num_epochs, batch_size=batch_size),\n",
    "        device=device,\n",
    "    )\n",
    "\n",
    "    result.save_to_directory(output_path)\n",
    "\n",
    "    return result, train_triples_factory\n",
    "def predict_top_books(user_id, triples_factory, model_result, top_n=5):\n",
    "\n",
    "    trained_model = model_result.model\n",
    "    entity_to_id = triples_factory.entity_to_id\n",
    "    id_to_entity = {v: k for k, v in entity_to_id.items()}\n",
    "\n",
    "    if user_id not in entity_to_id:\n",
    "        raise ValueError(f\"USER-ID {user_id} does not exist\")\n",
    "\n",
    "    user_embedding = trained_model.entity_representations[0](torch.tensor([entity_to_id[user_id]]))\n",
    "\n",
    "    all_entities = list(entity_to_id.keys())\n",
    "    similarities = []\n",
    "    for entity in all_entities:\n",
    "        if entity.startswith(\"Book-Title\"):\n",
    "            entity_embedding = trained_model.entity_representations[0](torch.tensor([entity_to_id[entity]]))\n",
    "            similarity = -np.linalg.norm(user_embedding.detach().numpy() - entity_embedding.detach().numpy())\n",
    "            similarities.append((entity, similarity))\n",
    "\n",
    "    similarities.sort(key=lambda x: x[1], reverse=True)\n",
    "    top_books = [entity for entity, _ in similarities[:top_n]]\n",
    "    return [id_to_entity[book] for book in top_books]"
   ]
  },
  {
   "cell_type": "code",
   "execution_count": 5,
   "id": "85077723-50c4-4930-b421-ec75ed9315cb",
   "metadata": {},
   "outputs": [
    {
     "name": "stdout",
     "output_type": "stream",
     "text": [
      "Loading triples from RDF...\n",
      "Training TransE model...\n",
      "Using device: cuda\n"
     ]
    },
    {
     "name": "stderr",
     "output_type": "stream",
     "text": [
      "No random seed is specified. Setting to 1160557680.\n"
     ]
    },
    {
     "data": {
      "application/vnd.jupyter.widget-view+json": {
       "model_id": "8de8b5e7233c4dc7921d5536f1ebea7a",
       "version_major": 2,
       "version_minor": 0
      },
      "text/plain": [
       "Training epochs on cuda:0:   0%|          | 0/20 [00:00<?, ?epoch/s]"
      ]
     },
     "metadata": {},
     "output_type": "display_data"
    },
    {
     "data": {
      "application/vnd.jupyter.widget-view+json": {
       "model_id": "80fd9c10b51c4039aec50b499a033cc2",
       "version_major": 2,
       "version_minor": 0
      },
      "text/plain": [
       "Training batches on cuda:0:   0%|          | 0/6522 [00:00<?, ?batch/s]"
      ]
     },
     "metadata": {},
     "output_type": "display_data"
    },
    {
     "data": {
      "application/vnd.jupyter.widget-view+json": {
       "model_id": "dea0b5ade47343dfb1c2e30bd1500e65",
       "version_major": 2,
       "version_minor": 0
      },
      "text/plain": [
       "Training batches on cuda:0:   0%|          | 0/6522 [00:00<?, ?batch/s]"
      ]
     },
     "metadata": {},
     "output_type": "display_data"
    },
    {
     "data": {
      "application/vnd.jupyter.widget-view+json": {
       "model_id": "4564d2b4eb6e4622a178b4a6a9de8232",
       "version_major": 2,
       "version_minor": 0
      },
      "text/plain": [
       "Training batches on cuda:0:   0%|          | 0/6522 [00:00<?, ?batch/s]"
      ]
     },
     "metadata": {},
     "output_type": "display_data"
    },
    {
     "data": {
      "application/vnd.jupyter.widget-view+json": {
       "model_id": "aea29c84f5fa4c60b3bc7dfbe7e30ddd",
       "version_major": 2,
       "version_minor": 0
      },
      "text/plain": [
       "Training batches on cuda:0:   0%|          | 0/6522 [00:00<?, ?batch/s]"
      ]
     },
     "metadata": {},
     "output_type": "display_data"
    },
    {
     "data": {
      "application/vnd.jupyter.widget-view+json": {
       "model_id": "4b5bbdcf96624531abb388e5173d80d1",
       "version_major": 2,
       "version_minor": 0
      },
      "text/plain": [
       "Training batches on cuda:0:   0%|          | 0/6522 [00:00<?, ?batch/s]"
      ]
     },
     "metadata": {},
     "output_type": "display_data"
    },
    {
     "data": {
      "application/vnd.jupyter.widget-view+json": {
       "model_id": "3e0af7dbe2f74aea93217de8065acf68",
       "version_major": 2,
       "version_minor": 0
      },
      "text/plain": [
       "Training batches on cuda:0:   0%|          | 0/6522 [00:00<?, ?batch/s]"
      ]
     },
     "metadata": {},
     "output_type": "display_data"
    },
    {
     "data": {
      "application/vnd.jupyter.widget-view+json": {
       "model_id": "dd2fe064cf6d4adda4c146df8443b0c6",
       "version_major": 2,
       "version_minor": 0
      },
      "text/plain": [
       "Training batches on cuda:0:   0%|          | 0/6522 [00:00<?, ?batch/s]"
      ]
     },
     "metadata": {},
     "output_type": "display_data"
    },
    {
     "data": {
      "application/vnd.jupyter.widget-view+json": {
       "model_id": "6d696355b24c4298892c0b666539a5b7",
       "version_major": 2,
       "version_minor": 0
      },
      "text/plain": [
       "Training batches on cuda:0:   0%|          | 0/6522 [00:00<?, ?batch/s]"
      ]
     },
     "metadata": {},
     "output_type": "display_data"
    },
    {
     "data": {
      "application/vnd.jupyter.widget-view+json": {
       "model_id": "1c1e1b83bf354eb7a8e9944f3e5cb9ff",
       "version_major": 2,
       "version_minor": 0
      },
      "text/plain": [
       "Training batches on cuda:0:   0%|          | 0/6522 [00:00<?, ?batch/s]"
      ]
     },
     "metadata": {},
     "output_type": "display_data"
    },
    {
     "data": {
      "application/vnd.jupyter.widget-view+json": {
       "model_id": "31af0ba02c7446348ec80c9aeb13d2b2",
       "version_major": 2,
       "version_minor": 0
      },
      "text/plain": [
       "Training batches on cuda:0:   0%|          | 0/6522 [00:00<?, ?batch/s]"
      ]
     },
     "metadata": {},
     "output_type": "display_data"
    },
    {
     "data": {
      "application/vnd.jupyter.widget-view+json": {
       "model_id": "133143199002416c94737616f205ec39",
       "version_major": 2,
       "version_minor": 0
      },
      "text/plain": [
       "Training batches on cuda:0:   0%|          | 0/6522 [00:00<?, ?batch/s]"
      ]
     },
     "metadata": {},
     "output_type": "display_data"
    },
    {
     "data": {
      "application/vnd.jupyter.widget-view+json": {
       "model_id": "4332948e27c54cb9ae619de2972d10f4",
       "version_major": 2,
       "version_minor": 0
      },
      "text/plain": [
       "Training batches on cuda:0:   0%|          | 0/6522 [00:00<?, ?batch/s]"
      ]
     },
     "metadata": {},
     "output_type": "display_data"
    },
    {
     "data": {
      "application/vnd.jupyter.widget-view+json": {
       "model_id": "798eaa859d064866bac8c4755db10c48",
       "version_major": 2,
       "version_minor": 0
      },
      "text/plain": [
       "Training batches on cuda:0:   0%|          | 0/6522 [00:00<?, ?batch/s]"
      ]
     },
     "metadata": {},
     "output_type": "display_data"
    },
    {
     "data": {
      "application/vnd.jupyter.widget-view+json": {
       "model_id": "91787feccf7f4b509cfd7b744b3c825c",
       "version_major": 2,
       "version_minor": 0
      },
      "text/plain": [
       "Training batches on cuda:0:   0%|          | 0/6522 [00:00<?, ?batch/s]"
      ]
     },
     "metadata": {},
     "output_type": "display_data"
    },
    {
     "data": {
      "application/vnd.jupyter.widget-view+json": {
       "model_id": "047d886eed1e40688ad00409252dadfb",
       "version_major": 2,
       "version_minor": 0
      },
      "text/plain": [
       "Training batches on cuda:0:   0%|          | 0/6522 [00:00<?, ?batch/s]"
      ]
     },
     "metadata": {},
     "output_type": "display_data"
    },
    {
     "data": {
      "application/vnd.jupyter.widget-view+json": {
       "model_id": "fa3ac046039443998ec546fde62d125f",
       "version_major": 2,
       "version_minor": 0
      },
      "text/plain": [
       "Training batches on cuda:0:   0%|          | 0/6522 [00:00<?, ?batch/s]"
      ]
     },
     "metadata": {},
     "output_type": "display_data"
    },
    {
     "data": {
      "application/vnd.jupyter.widget-view+json": {
       "model_id": "8751d88c77fe4d67b1b6623db578af6d",
       "version_major": 2,
       "version_minor": 0
      },
      "text/plain": [
       "Training batches on cuda:0:   0%|          | 0/6522 [00:00<?, ?batch/s]"
      ]
     },
     "metadata": {},
     "output_type": "display_data"
    },
    {
     "data": {
      "application/vnd.jupyter.widget-view+json": {
       "model_id": "2357bb5e6b4b400d95e5e60f251634d2",
       "version_major": 2,
       "version_minor": 0
      },
      "text/plain": [
       "Training batches on cuda:0:   0%|          | 0/6522 [00:00<?, ?batch/s]"
      ]
     },
     "metadata": {},
     "output_type": "display_data"
    },
    {
     "data": {
      "application/vnd.jupyter.widget-view+json": {
       "model_id": "cc67956a9857414aa78bbcd6c61257ee",
       "version_major": 2,
       "version_minor": 0
      },
      "text/plain": [
       "Training batches on cuda:0:   0%|          | 0/6522 [00:00<?, ?batch/s]"
      ]
     },
     "metadata": {},
     "output_type": "display_data"
    },
    {
     "data": {
      "application/vnd.jupyter.widget-view+json": {
       "model_id": "a670b4ccc5b548e8ae59b1d4766bf846",
       "version_major": 2,
       "version_minor": 0
      },
      "text/plain": [
       "Training batches on cuda:0:   0%|          | 0/6522 [00:00<?, ?batch/s]"
      ]
     },
     "metadata": {},
     "output_type": "display_data"
    },
    {
     "data": {
      "application/vnd.jupyter.widget-view+json": {
       "model_id": "7170464828ef476fa4f23304a140e1dc",
       "version_major": 2,
       "version_minor": 0
      },
      "text/plain": [
       "Evaluating on cuda:0:   0%|          | 0.00/742k [00:00<?, ?triple/s]"
      ]
     },
     "metadata": {},
     "output_type": "display_data"
    },
    {
     "name": "stderr",
     "output_type": "stream",
     "text": [
      "INFO:pykeen.evaluation.evaluator:Evaluation took 3609.99s seconds\n",
      "INFO:pykeen.triples.triples_factory:Stored TriplesFactory(num_entities=2553302, num_relations=15, create_inverse_triples=False, num_triples=6677868) to file:///autodl-fs/data/output_model_dir/training_triples\n",
      "INFO:pykeen.pipeline.api:Saved to directory: /autodl-fs/data/output_model_dir\n"
     ]
    },
    {
     "name": "stdout",
     "output_type": "stream",
     "text": [
      "Predicting top 5 books for user: http://example.org/owlshelves#135341\n",
      "Top 5 recommended books for user http://example.org/owlshelves#135341:\n"
     ]
    }
   ],
   "source": [
    "if __name__ == \"__main__\":\n",
    "    rdf_file_path = \"owlshelves.ttl\" \n",
    "    output_path = \"output_model_dir\"\n",
    "    num_epochs = 20\n",
    "    embedding_dim = 50\n",
    "    batch_size = 1024\n",
    "\n",
    "    print(\"Loading triples from RDF...\")\n",
    "    triples = load_rdf_as_triples(rdf_file_path)\n",
    "\n",
    "    print(\"Training TransE model...\")\n",
    "    transe_result, triples_factory = train_transe_model_from_rdf_optimized(\n",
    "        triples, output_path, num_epochs=num_epochs, embedding_dim=embedding_dim, batch_size=batch_size\n",
    "    )\n",
    "\n",
    "    user_id = \"http://example.org/owlshelves#135341\"\n",
    "    top_n = 5\n",
    "    print(f\"Predicting top {top_n} books for user: {user_id}\")\n",
    "    recommended_books = predict_top_books(user_id, triples_factory, transe_result, top_n=top_n)\n",
    "\n",
    "    print(f\"Top {top_n} recommended books for user {user_id}:\")\n",
    "    for idx, book in enumerate(recommended_books, 1):\n",
    "        print(f\"{idx}. {book}\")"
   ]
  },
  {
   "cell_type": "code",
   "execution_count": 10,
   "id": "142b71b1-0054-404c-8d6a-abe35d39dff3",
   "metadata": {
    "scrolled": true
   },
   "outputs": [],
   "source": [
    "import torch\n",
    "rdf_file_path = \"owlshelves.ttl\"\n",
    "triples = load_rdf_as_triples(rdf_file_path)"
   ]
  },
  {
   "cell_type": "code",
   "execution_count": 11,
   "id": "4d3e2c4f-a3c2-429b-b3b2-14343cd7fcde",
   "metadata": {},
   "outputs": [
    {
     "name": "stdout",
     "output_type": "stream",
     "text": [
      "TriplesFactory object saved to 'triples_factory.pkl'.\n"
     ]
    }
   ],
   "source": [
    "import pickle\n",
    "triples_factory = TriplesFactory.from_labeled_triples(\n",
    "        triples=np.array(triples, dtype=str)\n",
    "    )\n",
    "with open(\"triples_factory.pkl\", \"wb\") as file:\n",
    "    pickle.dump(triples_factory, file)\n",
    "print(\"TriplesFactory object saved to 'triples_factory.pkl'.\")"
   ]
  },
  {
   "cell_type": "code",
   "execution_count": 14,
   "id": "f9119e93-d349-4fab-a876-95407a73ad44",
   "metadata": {},
   "outputs": [],
   "source": [
    "import os\n",
    "import torch\n",
    "from pykeen.triples import TriplesFactory\n",
    "from pykeen.models import Model\n",
    "import numpy as np\n",
    "\n",
    "def predict_top_books(user_id, triples_factory, trained_model, top_n=5):\n",
    "    entity_to_id = triples_factory.entity_to_id\n",
    "    id_to_entity = {v: k for k, v in entity_to_id.items()}\n",
    "\n",
    "    if user_id not in entity_to_id:\n",
    "        raise ValueError(f\"User ID {user_id} does not exist in the entity mapping.\")\n",
    "\n",
    "    user_idx = entity_to_id[user_id]\n",
    "    entity_embeddings = trained_model.entity_representations[0]\n",
    "\n",
    "    # Check if the user index is valid\n",
    "    max_id = entity_embeddings.max_id\n",
    "    if user_idx >= max_id:\n",
    "        raise ValueError(f\"User index {user_idx} is out of range for the embedding matrix! Max index is {max_id}.\")\n",
    "\n",
    "    # Obtain user embedding\n",
    "    with torch.no_grad():\n",
    "        user_embedding = entity_embeddings(torch.tensor([user_idx], device=trained_model.device)).detach().cpu().numpy()\n",
    "\n",
    "    similarities = []\n",
    "    for entity, idx in entity_to_id.items():\n",
    "        if idx >= max_id:\n",
    "            continue\n",
    "        if \"book\" in entity.lower():  # Only consider books\n",
    "            entity_embedding = entity_embeddings(torch.tensor([idx], device=trained_model.device)).detach().cpu().numpy()\n",
    "            similarity = -np.linalg.norm(user_embedding - entity_embedding)\n",
    "            similarities.append((entity, similarity))\n",
    "\n",
    "    similarities.sort(key=lambda x: x[1], reverse=True)\n",
    "    top_books = [entity for entity, _ in similarities[:top_n]]\n",
    "\n",
    "    # Display recommendations\n",
    "    print(f\"Top {top_n} recommended books for user {user_id}:\")\n",
    "    for idx, book in enumerate(top_books, 1):\n",
    "        print(f\"{idx}. {book}\")\n",
    "\n",
    "    return [id_to_entity[entity_to_id[book]] for book in top_books]"
   ]
  },
  {
   "cell_type": "code",
   "execution_count": 21,
   "id": "f6751a39-6205-4ba0-a172-d07965268574",
   "metadata": {},
   "outputs": [
    {
     "name": "stdout",
     "output_type": "stream",
     "text": [
      "Loading triples...\n",
      "Loading pre-trained model...\n"
     ]
    },
    {
     "name": "stderr",
     "output_type": "stream",
     "text": [
      "/tmp/ipykernel_1167/3890255778.py:19: FutureWarning: You are using `torch.load` with `weights_only=False` (the current default value), which uses the default pickle module implicitly. It is possible to construct malicious pickle data which will execute arbitrary code during unpickling (See https://github.com/pytorch/pytorch/blob/main/SECURITY.md#untrusted-models for more details). In a future release, the default value for `weights_only` will be flipped to `True`. This limits the functions that could be executed during unpickling. Arbitrary objects will no longer be allowed to be loaded via this mode unless they are explicitly allowlisted by the user via `torch.serialization.add_safe_globals`. We recommend you start setting `weights_only=True` for any use case where you don't have full control of the loaded file. Please open an issue on GitHub for any issues related to this experimental feature.\n",
      "  transe_model = torch.load(model_path, map_location=torch.device(\"cpu\")) # Load the model to CPU\n"
     ]
    }
   ],
   "source": [
    "if __name__ == \"__main__\":\n",
    "    rdf_file_path = \"owlshelves.ttl\"  # Path to your RDF file\n",
    "    model_directory = \"transe_model_output\"  # Path to your saved model\n",
    "\n",
    "    # Step 1: Load triples factory\n",
    "    print(\"Loading triples...\")\n",
    "    triples = load_rdf_as_triples(rdf_file_path)\n",
    "    triples_factory = TriplesFactory.from_labeled_triples(\n",
    "        triples=np.array(triples, dtype=str)\n",
    "    )\n",
    "\n",
    "    # Step 2: Load pre-trained TransE model\n",
    "    print(\"Loading pre-trained model...\")\n",
    "import os\n",
    "def load_transe_model():\n",
    "    global transe_model\n",
    "    model_path = \"transe_model_output/trained_model.pkl\"# Path to the serialized TransE model\n",
    "    transe_model = torch.load(model_path, map_location=torch.device(\"cpu\")) # Load the model to CPU\n",
    "trained_model = load_transe_model()"
   ]
  },
  {
   "cell_type": "code",
   "execution_count": 19,
   "id": "a39969be-9668-493c-bd30-f0363cac5aaa",
   "metadata": {},
   "outputs": [
    {
     "ename": "AttributeError",
     "evalue": "'NoneType' object has no attribute 'model'",
     "output_type": "error",
     "traceback": [
      "\u001b[0;31m---------------------------------------------------------------------------\u001b[0m",
      "\u001b[0;31mAttributeError\u001b[0m                            Traceback (most recent call last)",
      "Cell \u001b[0;32mIn[19], line 3\u001b[0m\n\u001b[1;32m      1\u001b[0m user_id \u001b[38;5;241m=\u001b[39m \u001b[38;5;124m\"\u001b[39m\u001b[38;5;124mhttp://example.org/owlshelves#135341\u001b[39m\u001b[38;5;124m\"\u001b[39m  \u001b[38;5;66;03m# Replace with a valid user ID\u001b[39;00m\n\u001b[1;32m      2\u001b[0m top_n \u001b[38;5;241m=\u001b[39m \u001b[38;5;241m5\u001b[39m\n\u001b[0;32m----> 3\u001b[0m recommended_books \u001b[38;5;241m=\u001b[39m \u001b[43mpredict_top_books\u001b[49m\u001b[43m(\u001b[49m\u001b[43muser_id\u001b[49m\u001b[43m,\u001b[49m\u001b[43m \u001b[49m\u001b[43mtriples_factory\u001b[49m\u001b[43m,\u001b[49m\u001b[43m \u001b[49m\u001b[43mtrained_model\u001b[49m\u001b[43m,\u001b[49m\u001b[43m \u001b[49m\u001b[43mtop_n\u001b[49m\u001b[38;5;241;43m=\u001b[39;49m\u001b[43mtop_n\u001b[49m\u001b[43m)\u001b[49m\n",
      "Cell \u001b[0;32mIn[4], line 41\u001b[0m, in \u001b[0;36mpredict_top_books\u001b[0;34m(user_id, triples_factory, model_result, top_n)\u001b[0m\n\u001b[1;32m     39\u001b[0m \u001b[38;5;28;01mdef\u001b[39;00m \u001b[38;5;21mpredict_top_books\u001b[39m(user_id, triples_factory, model_result, top_n\u001b[38;5;241m=\u001b[39m\u001b[38;5;241m5\u001b[39m):\n\u001b[0;32m---> 41\u001b[0m     trained_model \u001b[38;5;241m=\u001b[39m \u001b[43mmodel_result\u001b[49m\u001b[38;5;241;43m.\u001b[39;49m\u001b[43mmodel\u001b[49m\n\u001b[1;32m     42\u001b[0m     entity_to_id \u001b[38;5;241m=\u001b[39m triples_factory\u001b[38;5;241m.\u001b[39mentity_to_id\n\u001b[1;32m     43\u001b[0m     id_to_entity \u001b[38;5;241m=\u001b[39m {v: k \u001b[38;5;28;01mfor\u001b[39;00m k, v \u001b[38;5;129;01min\u001b[39;00m entity_to_id\u001b[38;5;241m.\u001b[39mitems()}\n",
      "\u001b[0;31mAttributeError\u001b[0m: 'NoneType' object has no attribute 'model'"
     ]
    }
   ],
   "source": [
    "user_id = \"http://example.org/owlshelves#135341\"  # Replace with a valid user ID\n",
    "top_n = 5\n",
    "recommended_books = predict_top_books(user_id, triples_factory, trained_model, top_n=top_n)"
   ]
  },
  {
   "cell_type": "code",
   "execution_count": null,
   "id": "cf19cf2a-548b-4e49-bc34-72873554a57d",
   "metadata": {},
   "outputs": [],
   "source": [
    "from pykeen.triples import TriplesFactory\n",
    "import torch\n",
    "import rdflib\n",
    "import random\n",
    "import numpy as np\n",
    "\n",
    "def load_rdf_as_triples(rdf_file_path):\n",
    "    rdf_graph = rdflib.Graph()\n",
    "    rdf_graph.parse(rdf_file_path, format=\"turtle\") \n",
    "    triples = [(str(subj), str(pred), str(obj)) for subj, pred, obj in rdf_graph]\n",
    "    return triples\n",
    "rdf_file_path = \"./OwlshelvesFinal_RDF.ttl\"\n",
    "triples_factory_path = \"./triples_factory.pkl\"\n",
    "\n",
    "# Load TransE model\n",
    "def load_transe_model():\n",
    "    \"\"\"\n",
    "    Load the pre-trained TransE model from the specified directory.\n",
    "    \"\"\"\n",
    "    global transe_model\n",
    "    model_path = f\"{TRANSE_MODEL_DIR}/trained_model.pkl\"# Path to the serialized TransE model\n",
    "    transe_model = torch.load(model_path, map_location=torch.device(\"cpu\")) # Load the model to CPU\n",
    "\n",
    "\n",
    "# TransE-based recommendation logic\n",
    "def predict_top_books_transe(user_id, top_n=5):\n",
    "    \"\"\"\n",
    "    Predict the top book recommendations for a user based on TransE embeddings.\n",
    "    Args:\n",
    "        user_id (str): The ID of the user.\n",
    "        top_n (int): Number of recommendations to return.\n",
    "    Returns:\n",
    "        list: A list of recommended book IDs.\n",
    "    \"\"\"\n",
    "    if not transe_model:  \n",
    "        raise HTTPException(status_code=500, detail=\"TransE model not loaded\")\n",
    "\n",
    "    entity_to_id = transe_model.entity_to_id \n",
    "    if user_id not in entity_to_id:  \n",
    "        raise HTTPException(status_code=404, detail=f\"User {user_id} not found\")\n",
    "\n",
    "    user_embedding = transe_model.entity_representations[0](\n",
    "        torch.tensor([entity_to_id[user_id]])\n",
    "    ).detach().numpy().squeeze()\n",
    "\n",
    "    ''' ATTENTION: I'M NOT SURE THIS PART IS CORRECT, NEED TO CHECK WITH THE TEAM'''\n",
    "    similarities = [] \n",
    "    for entity, idx in entity_to_id.items():\n",
    "        if entity.startswith(\"http://example.org/book\"): \n",
    "            entity_embedding = transe_model.entity_representations[0](\n",
    "                torch.tensor([idx])\n",
    "            ).detach().numpy().squeeze()\n",
    "            similarity = -((user_embedding - entity_embedding) ** 2).sum()\n",
    "            similarities.append((entity, similarity))\n",
    "\n",
    "    top_books = sorted(similarities, key=lambda x: x[1], reverse=True)[:top_n]\n",
    "    return [book for book, _ in top_books]\n",
    "\n",
    "def predict_similar_books(book_id, triples_factory, model, top_n=5):\n",
    "    \"\"\"\n",
    "    Predict books similar to the given book_id based on embeddings.\n",
    "    \"\"\"\n",
    "    entity_embeddings = model.entity_representations[0]\n",
    "    all_entities = list(triples_factory.entity_to_id.keys())\n",
    "    \n",
    "    if book_id not in triples_factory.entity_to_id:\n",
    "        raise ValueError(f\"Book ID {book_id} not found in the entity set!\")\n",
    "    \n",
    "    book_idx = triples_factory.entity_to_id[book_id]\n",
    "    book_embedding = entity_embeddings(torch.tensor(book_idx)).detach().numpy()\n",
    "    \n",
    "    similarities = []\n",
    "    for entity in all_entities:\n",
    "        if \"book\" in entity:  # Ensure only books are considered\n",
    "            entity_idx = triples_factory.entity_to_id[entity]\n",
    "            entity_embedding = entity_embeddings(torch.tensor(entity_idx)).detach().numpy()\n",
    "            similarity = -((book_embedding - entity_embedding) ** 2).sum()  # Euclidean distance\n",
    "            similarities.append((entity, similarity))\n",
    "    \n",
    "    # Sort by similarity and return top_n similar books\n",
    "    similarities = sorted(similarities, key=lambda x: x[1], reverse=True)\n",
    "    return [entity for entity, _ in similarities[:top_n]]\n",
    "\n",
    "def predict_similar_books_node2vec(book_id, top_n=5):\n",
    "    \"\"\"\n",
    "    Recommend books similar to a given book using Node2Vec embeddings.\n",
    "    Args:\n",
    "        book_id (str): The ID of the book.\n",
    "        top_n (int): Number of similar books to return.\n",
    "    Returns:\n",
    "        list: A list of similar book IDs.\n",
    "    \"\"\"\n",
    "    if not node2vec_model: \n",
    "        raise HTTPException(status_code=500, detail=\"Node2Vec model not loaded\")\n",
    "\n",
    "    try:\n",
    "        similar_books = node2vec_model.most_similar(book_id, topn=top_n)\n",
    "        return [book for book, _ in similar_books] # Return only the book IDs\n",
    "    except KeyError:\n",
    "        raise HTTPException(status_code=404, detail=f\"Book ID {book_id} not found in Node2Vec embeddings\")\n",
    "\n",
    "def compute_virtual_user_embedding(book_ids, triples_factory, model):\n",
    "    entity_embeddings = model.entity_representations[0]\n",
    "    print(triples_factory) \n",
    "    print(book_ids)\n",
    "    book_indices = [\n",
    "        triples_factory.entity_to_id[book_id] for book_id in book_ids if book_id in triples_factory.entity_to_id\n",
    "    ]\n",
    "    if not book_indices:\n",
    "        raise ValueError(\"None of the provided book IDs exist in the entity set!\")\n",
    "    \n",
    "    # Get embeddings for the provided books\n",
    "    book_embeddings = torch.stack([entity_embeddings(torch.tensor(idx)) for idx in book_indices])\n",
    "    \n",
    "    # Compute virtual user embedding (e.g., mean of book embeddings)\n",
    "    virtual_user_embedding = book_embeddings.mean(dim=0)\n",
    "    return virtual_user_embedding\n",
    "\n",
    "import re\n",
    "\n",
    "def is_valid_isbn(isbn):\n",
    "  \"\"\"\n",
    "  Checks if a given string is a valid ISBN-10 or ISBN-13.\n",
    "  This function is the same as the one provided in the previous response.\n",
    "  \"\"\"\n",
    "  isbn = isbn.replace(\"-\", \"\").replace(\" \", \"\")\n",
    "  if len(isbn) == 10:\n",
    "    return is_valid_isbn10(isbn)\n",
    "  elif len(isbn) == 13:\n",
    "    return is_valid_isbn13(isbn)\n",
    "  return False\n",
    "\n",
    "def is_valid_isbn10(isbn):\n",
    "  \"\"\"\n",
    "  Checks if a given string is a valid ISBN-10.\n",
    "  This function is the same as the one provided in the previous response.\n",
    "  \"\"\"\n",
    "  if not isbn[:-1].isdigit() or not (isbn[-1].isdigit() or isbn[-1] in ('X', 'x')):\n",
    "    return False\n",
    "\n",
    "  sum = 0\n",
    "  for i, digit in enumerate(isbn):\n",
    "    if digit in ('X', 'x'):\n",
    "      digit = 10\n",
    "    else:\n",
    "      digit = int(digit)\n",
    "    sum += digit * (10 - i)\n",
    "  return sum % 11 == 0\n",
    "\n",
    "def is_valid_isbn13(isbn):\n",
    "  \"\"\"\n",
    "  Checks if a given string is a valid ISBN-13.\n",
    "  This function is the same as the one provided in the previous response.\n",
    "  \"\"\"\n",
    "  if not isbn.isdigit():\n",
    "    return False\n",
    "\n",
    "  sum = 0\n",
    "  for i, digit in enumerate(isbn):\n",
    "    digit = int(digit)\n",
    "    sum += digit * (3 if i % 2 else 1)\n",
    "  return sum % 10 == 0\n",
    "\n",
    "def predict_top_books_for_virtual_user(virtual_user_embedding, triples_factory, model, top_n=5):\n",
    "    entity_embeddings = model.entity_representations[0]\n",
    "    all_entities = list(triples_factory.entity_to_id.keys())\n",
    "    similarities = []\n",
    "    max_id = entity_embeddings.max_id    \n",
    "    for entity in all_entities:\n",
    "#        if \"book\" in entity:  # Ensure only books are considered\n",
    "        if is_valid_isbn(entity) and \"rating\" not in entity:  # Ensure only books are considered\n",
    "            #print(entity)\n",
    "            entity_idx = triples_factory.entity_to_id[entity]\n",
    "            if entity_idx >= max_id:\n",
    "                continue\n",
    "            entity_embedding = entity_embeddings(torch.tensor(entity_idx)).detach().numpy()\n",
    "            similarity = -((virtual_user_embedding.detach().numpy() - entity_embedding) ** 2).sum()\n",
    "            similarities.append((entity, similarity))\n",
    "    \n",
    "    # Sort by similarity and return top_n books\n",
    "    print('hi2')\n",
    "    similarities = sorted(similarities, key=lambda x: x[1], reverse=True)\n",
    "    print('hi3')\n",
    "    return [entity for entity, _ in similarities[:top_n]]"
   ]
  },
  {
   "cell_type": "code",
   "execution_count": 24,
   "id": "663d5471-19fa-4f75-8e49-139f365bbe0a",
   "metadata": {},
   "outputs": [
    {
     "name": "stdout",
     "output_type": "stream",
     "text": [
      "Loading pre-trained TransE model...\n",
      "Computing virtual user embedding...\n",
      "TriplesFactory(num_entities=2643217, num_relations=15, create_inverse_triples=False, num_triples=7419854)\n",
      "['http://example.org/owlshelves#0373117116']\n",
      "Predicting top 5 books for virtual user...\n",
      "hi2\n",
      "hi3\n",
      "Top 5 recommended books for the virtual user:\n",
      "1. 0373257244\n",
      "2. 0439569745\n",
      "3. 0907337228\n",
      "4. 0425171914\n",
      "5. 0962344745\n"
     ]
    }
   ],
   "source": [
    "if __name__ == \"__main__\":\n",
    "    model_path = \"transe_model_output\"\n",
    "\n",
    "    #print(\"Converting triples to a triples factory...\")\n",
    "    #triples_array = np.array([[s, p, o] for s, p, o in triples], dtype=str)\n",
    "    #triples_factory = TriplesFactory.from_labeled_triples(triples=triples_array)\n",
    "    \n",
    "    print(\"Loading pre-trained TransE model...\")\n",
    "    #transe_model = load_transe_model(model_path)\n",
    "\n",
    "book_ids = [\n",
    "    \"http://example.org/owlshelves#0373117116\"\n",
    "    ]\n",
    "    \n",
    "print(\"Computing virtual user embedding...\")\n",
    "virtual_user_embedding = compute_virtual_user_embedding(book_ids, triples_factory, transe_model)\n",
    "    \n",
    "top_n = 5\n",
    "print(f\"Predicting top {top_n} books for virtual user...\")\n",
    "recommended_books = predict_top_books_for_virtual_user(virtual_user_embedding, triples_factory, transe_model, top_n=top_n)\n",
    "    \n",
    "print(f\"Top {top_n} recommended books for the virtual user:\")\n",
    "for idx, book in enumerate(recommended_books, 1):\n",
    "    print(f\"{idx}. {book}\")"
   ]
  },
  {
   "cell_type": "code",
   "execution_count": 25,
   "id": "eea864b4-ad22-4f60-a0de-83c71b136c30",
   "metadata": {},
   "outputs": [
    {
     "name": "stdout",
     "output_type": "stream",
     "text": [
      "Computing virtual user embedding...\n",
      "TriplesFactory(num_entities=2643217, num_relations=15, create_inverse_triples=False, num_triples=7419854)\n",
      "['http://example.org/owlshelves#0440106117']\n",
      "Predicting top 5 books for virtual user...\n",
      "hi2\n",
      "hi3\n",
      "Top 5 recommended books for the virtual user:\n",
      "1. 0448095106\n",
      "2. 0743244850\n",
      "3. 0373765606\n",
      "4. 3518394479\n",
      "5. 044661100x\n"
     ]
    }
   ],
   "source": [
    "book_ids = [\n",
    "    \"http://example.org/owlshelves#0440106117\" #The Black Swan: Taylor, Day\n",
    "    ]\n",
    "    \n",
    "print(\"Computing virtual user embedding...\")\n",
    "virtual_user_embedding = compute_virtual_user_embedding(book_ids, triples_factory, transe_model)\n",
    "    \n",
    "top_n = 5\n",
    "print(f\"Predicting top {top_n} books for virtual user...\")\n",
    "recommended_books = predict_top_books_for_virtual_user(virtual_user_embedding, triples_factory, transe_model, top_n=top_n)\n",
    "    \n",
    "print(f\"Top {top_n} recommended books for the virtual user:\")\n",
    "for idx, book in enumerate(recommended_books, 1):\n",
    "    print(f\"{idx}. {book}\")"
   ]
  },
  {
   "cell_type": "code",
   "execution_count": null,
   "id": "e8503000-0d21-46fb-b977-3b103526a5d5",
   "metadata": {},
   "outputs": [],
   "source": [
    "#\"http://example.org/owlshelves#0440106117\" #The Black Swan: Taylor, Day\n",
    "#1. 0448095106 Nancy Drew 10: Password to Larkspur Lane : Keene, Carolyn\n",
    "#2. 0743244850 Are You There Alone?: The Unspeakable Crime of Andrea Yates\n",
    "#3. 0373765606 AT YOUR SERVICE (Harlequin Desire)\n",
    "#4. 3518394479 \n",
    "#5. 044661100x Hotel Transylvania"
   ]
  },
  {
   "cell_type": "code",
   "execution_count": 81,
   "id": "853df6d7-0af0-42db-a1ab-51d9f3289b2c",
   "metadata": {},
   "outputs": [
    {
     "name": "stdout",
     "output_type": "stream",
     "text": [
      "Converting triples to a triples factory...\n",
      "Loading pre-trained TransE model...\n"
     ]
    },
    {
     "name": "stderr",
     "output_type": "stream",
     "text": [
      "/tmp/ipykernel_1772/708280534.py:11: FutureWarning: You are using `torch.load` with `weights_only=False` (the current default value), which uses the default pickle module implicitly. It is possible to construct malicious pickle data which will execute arbitrary code during unpickling (See https://github.com/pytorch/pytorch/blob/main/SECURITY.md#untrusted-models for more details). In a future release, the default value for `weights_only` will be flipped to `True`. This limits the functions that could be executed during unpickling. Arbitrary objects will no longer be allowed to be loaded via this mode unless they are explicitly allowlisted by the user via `torch.serialization.add_safe_globals`. We recommend you start setting `weights_only=True` for any use case where you don't have full control of the loaded file. Please open an issue on GitHub for any issues related to this experimental feature.\n",
      "  model = torch.load(model_path, map_location=torch.device('cpu'))\n"
     ]
    },
    {
     "name": "stdout",
     "output_type": "stream",
     "text": [
      "Predicting top 5 books similar to http://example.org/owlshelves#0373117116...\n",
      "Top 5 books similar to http://example.org/owlshelves#0373117116:\n",
      "1. when dragons rage (the dragoncrown war cycle, book 2)\n",
      "2. the amulet of samarkand (the bartimaeus trilogy, book 1)\n",
      "3. all about stars (the question and answer book)\n",
      "4. journey into the whirlwind (helen and kurt wolff books)\n",
      "5. the devil's storybook\n"
     ]
    }
   ],
   "source": [
    "def predict_similar_books(book_id, triples_factory, model, top_n=5):\n",
    "    entity_embeddings = model.entity_representations[0]\n",
    "    all_entities = list(triples_factory.entity_to_id.keys())\n",
    "    \n",
    "    if book_id not in triples_factory.entity_to_id:\n",
    "        raise ValueError(f\"Book ID {book_id} not found in the entity set!\")\n",
    "    \n",
    "    book_idx = triples_factory.entity_to_id[book_id]\n",
    "    max_id = entity_embeddings._embeddings.weight.shape[0]\n",
    "    \n",
    "    if book_idx >= max_id:\n",
    "        raise ValueError(f\"Book index {book_idx} is out of range for embedding matrix with max ID {max_id}.\")\n",
    "    \n",
    "    book_embedding = entity_embeddings(torch.tensor([book_idx], device=model.device)).detach().cpu().numpy()\n",
    "    \n",
    "    similarities = []\n",
    "    for entity in all_entities:\n",
    "        if \"book\" in entity.lower():\n",
    "            entity_idx = triples_factory.entity_to_id[entity]\n",
    "            \n",
    "            if entity_idx >= max_id:\n",
    "                continue  # Skip entities with out-of-range indices\n",
    "            \n",
    "            entity_embedding = entity_embeddings(torch.tensor([entity_idx], device=model.device)).detach().cpu().numpy()\n",
    "            similarity = -((book_embedding - entity_embedding) ** 2).sum()\n",
    "            similarities.append((entity, similarity))\n",
    "    \n",
    "    similarities = sorted(similarities, key=lambda x: x[1], reverse=True)\n",
    "    return [entity for entity, _ in similarities[:top_n]]\n",
    "\n",
    "if __name__ == \"__main__\":\n",
    "    model_path = \"transe_model_output\"\n",
    "    print(\"Converting triples to a triples factory...\")\n",
    "    triples_array = np.array([[s, p, o] for s, p, o in triples], dtype=str)\n",
    "    triples_factory = TriplesFactory.from_labeled_triples(triples=triples_array)\n",
    "    \n",
    "    print(\"Loading pre-trained TransE model...\")\n",
    "    transe_model = load_transe_model(model_path)\n",
    "    \n",
    "    book_id = \"http://example.org/owlshelves#0373117116\"\n",
    "    top_n = 5\n",
    "    print(f\"Predicting top {top_n} books similar to {book_id}...\")\n",
    "    \n",
    "    try:\n",
    "        recommended_books = predict_similar_books(book_id, triples_factory, transe_model, top_n=top_n)\n",
    "        print(f\"Top {top_n} books similar to {book_id}:\")\n",
    "        for idx, book in enumerate(recommended_books, 1):\n",
    "            print(f\"{idx}. {book}\")\n",
    "    except ValueError as e:\n",
    "        print(f\"Error: {e}\")"
   ]
  },
  {
   "cell_type": "code",
   "execution_count": null,
   "id": "e4682b7f-3d4c-44d2-9811-a12db33eee33",
   "metadata": {},
   "outputs": [],
   "source": []
  }
 ],
 "metadata": {
  "kernelspec": {
   "display_name": "Python 3 (ipykernel)",
   "language": "python",
   "name": "python3"
  },
  "language_info": {
   "codemirror_mode": {
    "name": "ipython",
    "version": 3
   },
   "file_extension": ".py",
   "mimetype": "text/x-python",
   "name": "python",
   "nbconvert_exporter": "python",
   "pygments_lexer": "ipython3",
   "version": "3.12.3"
  }
 },
 "nbformat": 4,
 "nbformat_minor": 5
}
