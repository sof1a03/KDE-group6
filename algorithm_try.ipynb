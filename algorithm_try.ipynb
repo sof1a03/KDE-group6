{
 "cells": [
  {
   "cell_type": "code",
   "execution_count": 12,
   "id": "d8307642-d562-415e-9e18-6aaff53ef7fe",
   "metadata": {},
   "outputs": [],
   "source": [
    "import numpy as np\n",
    "import pandas as pd\n",
    "from rdflib import Graph, Literal, RDF, URIRef, Namespace\n",
    "import networkx as nx\n",
    "from node2vec import Node2Vec\n",
    "from pykeen.triples import TriplesFactory\n",
    "from pykeen.pipeline import pipeline\n",
    "import urllib.parse"
   ]
  },
  {
   "cell_type": "code",
   "execution_count": 2,
   "id": "b690af0f-2b7d-4f3d-8a28-f6f9d1180317",
   "metadata": {},
   "outputs": [],
   "source": [
    "csv_file_path = \"sample_dataset.csv\"\n",
    "rdf_output_path = \"output_data.ttl\"\n",
    "node2vec_output_path = \"node2vec_embeddings.vec\"\n",
    "transe_output_path = \"transe_model\""
   ]
  },
  {
   "cell_type": "code",
   "execution_count": 3,
   "id": "6bd361de-aa98-4be6-85fb-5fffff103d60",
   "metadata": {},
   "outputs": [],
   "source": [
    "def csv_to_rdf(csv_file_path, rdf_output_path):\n",
    "    data = pd.read_csv(csv_file_path)\n",
    "    g = Graph()\n",
    "    EX = Namespace(\"http://example.org/\")\n",
    "    g.bind(\"ex\", EX)\n",
    "    \n",
    "    for _, row in data.iterrows():\n",
    "        user = URIRef(EX[f\"user/{row['User-ID']}\"])\n",
    "        book = URIRef(EX[f\"book/{row['ISBN']}\"])\n",
    "        rating = Literal(row['Book-Rating'])\n",
    "        author = Literal(row['Book-Author'])\n",
    "        title = Literal(row['Book-Title'])\n",
    "\n",
    "        g.add((user, RDF.type, EX.User))\n",
    "        g.add((book, RDF.type, EX.Book))\n",
    "        g.add((user, EX.rated, book))\n",
    "        g.add((book, EX.rating, rating))\n",
    "        g.add((book, EX.author, author))\n",
    "        g.add((book, EX.title, title))\n",
    "    \n",
    "    g.serialize(destination=rdf_output_path, format=\"turtle\")\n",
    "    return rdf_output_path"
   ]
  },
  {
   "cell_type": "code",
   "execution_count": 4,
   "id": "786220c5-4f7e-4518-a31e-cfd95cf5a702",
   "metadata": {},
   "outputs": [],
   "source": [
    "def rdf_to_networkx(rdf_file_path):\n",
    "    rdf_graph = Graph()\n",
    "    rdf_graph.parse(rdf_file_path, format=\"turtle\")\n",
    "    nx_graph = nx.DiGraph()\n",
    "    for subj, pred, obj in rdf_graph:\n",
    "        nx_graph.add_edge(urllib.parse.quote(str(subj)), urllib.parse.quote(str(obj)), predicate=urllib.parse.quote(str(pred)))\n",
    "    return nx_graph"
   ]
  },
  {
   "cell_type": "code",
   "execution_count": 5,
   "id": "7535fae4-efa8-4068-8bd5-cd5383481538",
   "metadata": {},
   "outputs": [],
   "source": [
    "def generate_node2vec_embeddings(nx_graph, output_path, dimensions=64, walk_length=30, num_walks=200, workers=4):\n",
    "    node2vec = Node2Vec(nx_graph, dimensions=dimensions, walk_length=walk_length, num_walks=num_walks, workers=workers)\n",
    "    model = node2vec.fit(window=10, min_count=1, batch_words=4)\n",
    "    model.wv.save_word2vec_format(output_path)\n",
    "    return output_path"
   ]
  },
  {
   "cell_type": "code",
   "execution_count": 6,
   "id": "5fecacc5-28f2-4b5d-9375-5a3ae856b509",
   "metadata": {},
   "outputs": [],
   "source": [
    "from pykeen.triples import TriplesFactory\n",
    "from pykeen.pipeline import pipeline\n",
    "import numpy as np\n",
    "\n",
    "def train_transe(rdf_file_path, output_path, num_epochs=100):\n",
    "    rdf_graph = Graph()\n",
    "    rdf_graph.parse(rdf_file_path, format=\"turtle\")\n",
    "    \n",
    "    triples = [(str(subj), str(pred), str(obj)) for subj, pred, obj in rdf_graph]\n",
    "    \n",
    "    triples_array = np.array(triples, dtype=object)\n",
    "    if triples_array.ndim != 2 or triples_array.shape[1] != 3:\n",
    "        raise ValueError(\"Triples must be a 2D array with three columns (head, relation, tail).\")\n",
    "    \n",
    "    triples_factory = TriplesFactory.from_labeled_triples(triples=triples_array)\n",
    "    train_factory, test_factory, validation_factory = triples_factory.split([0.8, 0.1, 0.1])\n",
    "    \n",
    "    result = pipeline(\n",
    "        training=train_factory,  \n",
    "        testing=test_factory,    \n",
    "        validation=validation_factory,\n",
    "        model=\"TransE\",\n",
    "        training_kwargs=dict(num_epochs=num_epochs),\n",
    "    )\n",
    "    result.save_to_directory(output_path)\n",
    "    return output_path"
   ]
  },
  {
   "cell_type": "code",
   "execution_count": 7,
   "id": "671cd2d8-b8a5-4bf8-9d82-2023a31685be",
   "metadata": {},
   "outputs": [
    {
     "name": "stdout",
     "output_type": "stream",
     "text": [
      "Converting CSV to RDF...\n",
      "Converting RDF to NetworkX graph...\n",
      "Generating Node2Vec embeddings...\n"
     ]
    },
    {
     "data": {
      "application/vnd.jupyter.widget-view+json": {
       "model_id": "66102db9545745ceae3fb6ac54df6047",
       "version_major": 2,
       "version_minor": 0
      },
      "text/plain": [
       "Computing transition probabilities:   0%|          | 0/15561 [00:00<?, ?it/s]"
      ]
     },
     "metadata": {},
     "output_type": "display_data"
    },
    {
     "name": "stderr",
     "output_type": "stream",
     "text": [
      "Generating walks (CPU: 1): 100%|██████████| 50/50 [00:03<00:00, 14.71it/s]\n",
      "Generating walks (CPU: 2): 100%|██████████| 50/50 [00:03<00:00, 13.75it/s]\n",
      "Generating walks (CPU: 3): 100%|██████████| 50/50 [00:03<00:00, 13.01it/s]\n",
      "Generating walks (CPU: 4): 100%|██████████| 50/50 [00:03<00:00, 12.84it/s]\n"
     ]
    },
    {
     "name": "stdout",
     "output_type": "stream",
     "text": [
      "Node2Vec embeddings saved to: node2vec_embeddings.vec\n"
     ]
    }
   ],
   "source": [
    "if __name__ == \"__main__\":\n",
    "    print(\"Converting CSV to RDF...\")\n",
    "    rdf_file = csv_to_rdf(csv_file_path, rdf_output_path)\n",
    "    \n",
    "    print(\"Converting RDF to NetworkX graph...\")\n",
    "    nx_graph = rdf_to_networkx(rdf_file)\n",
    "    \n",
    "    print(\"Generating Node2Vec embeddings...\")\n",
    "    node2vec_file = generate_node2vec_embeddings(nx_graph, node2vec_output_path)\n",
    "    print(f\"Node2Vec embeddings saved to: {node2vec_file}\")"
   ]
  },
  {
   "cell_type": "code",
   "execution_count": 8,
   "id": "0f398f52-ea42-46cd-bd9f-4bd3d703f155",
   "metadata": {},
   "outputs": [
    {
     "name": "stdout",
     "output_type": "stream",
     "text": [
      "Loading node embeddings and text data...\n",
      "Generating embeddings for text data...\n",
      "Combining node and text embeddings...\n",
      "Clustering embeddings...\n",
      "Visualizing clusters...\n"
     ]
    },
    {
     "data": {
      "image/png": "[encoded data removed]",
      "text/plain": [
       "<Figure size 1000x800 with 1 Axes>"
      ]
     },
     "metadata": {},
     "output_type": "display_data"
    }
   ],
   "source": [
    "import os\n",
    "import numpy as np\n",
    "from sklearn.cluster import AgglomerativeClustering\n",
    "from sklearn.decomposition import PCA\n",
    "import matplotlib.pyplot as plt\n",
    "from sklearn.preprocessing import LabelEncoder\n",
    "\n",
    "# Limit the number of threads used by multithreading libraries for optimization\n",
    "os.environ[\"OMP_NUM_THREADS\"] = \"1\"\n",
    "os.environ[\"OPENBLAS_NUM_THREADS\"] = \"1\"\n",
    "os.environ[\"MKL_NUM_THREADS\"] = \"1\"\n",
    "os.environ[\"VECLIB_MAXIMUM_THREADS\"] = \"1\"\n",
    "os.environ[\"NUMEXPR_NUM_THREADS\"] = \"1\"\n",
    "\n",
    "def load_embeddings_and_text(vec_file_path):\n",
    "    \"\"\"Load node embeddings and discrete text data\"\"\"\n",
    "    with open(vec_file_path, 'r') as f:\n",
    "        lines = f.readlines()\n",
    "\n",
    "    node_embeddings = {}\n",
    "    text_data = {}\n",
    "    for line in lines[1:]: \n",
    "        parts = line.strip().split()\n",
    "        node_id = parts[0]\n",
    "        try:\n",
    "            # Attempt to convert the line to an embedding\n",
    "            embedding = np.array([float(x) for x in parts[1:]])\n",
    "            node_embeddings[node_id] = embedding\n",
    "        except ValueError:\n",
    "            # If conversion fails, store it as text data\n",
    "            text_data[node_id] = \" \".join(parts[1:]) \n",
    "    return node_embeddings, text_data\n",
    "\n",
    "def generate_embeddings(text_data, embedding_dim=50):\n",
    "    # Map text categories to integers\n",
    "    label_encoder = LabelEncoder()\n",
    "    text_ids = list(text_data.keys())\n",
    "    text_corpus = list(text_data.values())\n",
    "    text_labels = label_encoder.fit_transform(text_corpus)\n",
    "    \n",
    "    # Generate random embeddings for each category\n",
    "    unique_categories = len(label_encoder.classes_)\n",
    "    embedding_matrix = np.random.rand(unique_categories, embedding_dim)\n",
    "    \n",
    "    # Map each text to its corresponding embedding vector\n",
    "    text_embeddings = np.array([embedding_matrix[label] for label in text_labels])\n",
    "    return text_ids, text_embeddings\n",
    "\n",
    "def combine_embeddings_optimized(node_embeddings, text_ids, text_vectors, text_vector_dim):\n",
    "    embeddings = []\n",
    "    numeric_dim = len(next(iter(node_embeddings.values()))) if node_embeddings else 0\n",
    "    max_num_dims = numeric_dim + text_vector_dim\n",
    "\n",
    "    for node_id, numeric_embedding in node_embeddings.items():\n",
    "        try:\n",
    "            if text_vectors is not None and node_id in text_ids:\n",
    "                text_index = text_ids.index(node_id)\n",
    "                text_embedding = text_vectors[text_index]\n",
    "                combined = np.concatenate([numeric_embedding, text_embedding])\n",
    "            else:\n",
    "                combined = np.concatenate([numeric_embedding, np.zeros(max_num_dims - numeric_dim)])\n",
    "            embeddings.append(combined)\n",
    "        except Exception as e:\n",
    "            print(f\"Error processing node {node_id}: {e}\")\n",
    "            continue\n",
    "\n",
    "    max_len = max(len(emb) for emb in embeddings)\n",
    "    embeddings = [np.pad(emb, (0, max_len - len(emb))) for emb in embeddings]\n",
    "    \n",
    "    return np.array(embeddings)\n",
    "\n",
    "def cluster_embeddings(embeddings, num_clusters):\n",
    "    clustering = AgglomerativeClustering(n_clusters=num_clusters)\n",
    "    cluster_labels = clustering.fit_predict(embeddings)\n",
    "    return cluster_labels\n",
    "\n",
    "def visualize_clusters(embeddings, cluster_labels):\n",
    "    pca = PCA(n_components=2)\n",
    "    reduced_embeddings = pca.fit_transform(embeddings)\n",
    "    \n",
    "    plt.figure(figsize=(10, 8))\n",
    "    for cluster_id in np.unique(cluster_labels):\n",
    "        cluster_points = reduced_embeddings[cluster_labels == cluster_id]\n",
    "        plt.scatter(cluster_points[:, 0], cluster_points[:, 1], label=f\"Cluster {cluster_id}\")\n",
    "    \n",
    "    plt.title(\"Node and Text Embeddings Clustering\")\n",
    "    plt.xlabel(\"PCA Component 1\")\n",
    "    plt.ylabel(\"PCA Component 2\")\n",
    "    plt.legend()\n",
    "    plt.show()\n",
    "\n",
    "if __name__ == \"__main__\":\n",
    "    vec_file_path = 'node2vec_embeddings.vec'\n",
    "\n",
    "    print(\"Loading node embeddings and text data...\")\n",
    "    node_embeddings, text_data = load_embeddings_and_text(vec_file_path)\n",
    "\n",
    "    print(\"Generating embeddings for text data...\")\n",
    "    if text_data:\n",
    "        text_ids, text_vectors = generate_embeddings(text_data, embedding_dim=50)\n",
    "    else:\n",
    "        text_ids, text_vectors = [], None\n",
    "\n",
    "    print(\"Combining node and text embeddings...\")\n",
    "    combined_embeddings = combine_embeddings_optimized(node_embeddings, text_ids, text_vectors, text_vector_dim=50)\n",
    "\n",
    "    print(\"Clustering embeddings...\")\n",
    "    num_clusters = 3\n",
    "    cluster_labels = cluster_embeddings(combined_embeddings, num_clusters)\n",
    "\n",
    "    print(\"Visualizing clusters...\")\n",
    "    visualize_clusters(combined_embeddings, cluster_labels)\n"
   ]
  },
  {
   "cell_type": "code",
   "execution_count": 9,
   "id": "f1a5b50a-f62d-4d82-814e-66c855ca63a9",
   "metadata": {},
   "outputs": [],
   "source": [
    "import numpy as np\n",
    "import rdflib\n",
    "from pykeen.pipeline import pipeline\n",
    "from pykeen.triples import TriplesFactory\n",
    "import torch\n",
    "\n",
    "def load_rdf_as_triples(rdf_file_path):\n",
    "    rdf_graph = rdflib.Graph()\n",
    "    rdf_graph.parse(rdf_file_path, format=\"turtle\") \n",
    "    triples = [(str(subj), str(pred), str(obj)) for subj, pred, obj in rdf_graph]\n",
    "    return triples\n",
    "\n",
    "\n",
    "def train_transe_model_from_rdf(rdf_file_path, output_path, num_epochs=100):\n",
    "\n",
    "    triples = load_rdf_as_triples(rdf_file_path)\n",
    "\n",
    "    triples_array = np.array(triples, dtype=str)\n",
    "    triples_factory = TriplesFactory.from_labeled_triples(triples=triples_array)\n",
    "\n",
    "    result = pipeline(\n",
    "        training=triples_factory,\n",
    "        testing=triples_factory, \n",
    "        validation=None,         \n",
    "        model=\"TransE\",\n",
    "        training_kwargs=dict(num_epochs=num_epochs),\n",
    "    )\n",
    "\n",
    "    result.save_to_directory(output_path)\n",
    "\n",
    "    return result, triples_factory\n",
    "\n",
    "\n",
    "def predict_top_books(user_id, triples_factory, model_result, top_n=5):\n",
    "\n",
    "    trained_model = model_result.model\n",
    "    entity_to_id = triples_factory.entity_to_id\n",
    "    id_to_entity = {v: k for k, v in entity_to_id.items()}\n",
    "\n",
    "    if user_id not in entity_to_id:\n",
    "        raise ValueError(f\"USER-ID {user_id} does not exist\")\n",
    "\n",
    "    user_embedding = trained_model.entity_representations[0](torch.tensor([entity_to_id[user_id]]))\n",
    "\n",
    "    all_entities = list(entity_to_id.keys())\n",
    "    similarities = []\n",
    "    for entity in all_entities:\n",
    "        if entity.startswith(\"Book-Title\"):\n",
    "            entity_embedding = trained_model.entity_representations[0](torch.tensor([entity_to_id[entity]]))\n",
    "            similarity = -np.linalg.norm(user_embedding.detach().numpy() - entity_embedding.detach().numpy())\n",
    "            similarities.append((entity, similarity))\n",
    "\n",
    "    similarities.sort(key=lambda x: x[1], reverse=True)\n",
    "    top_books = [entity for entity, _ in similarities[:top_n]]\n",
    "    return [id_to_entity[book] for book in top_books]"
   ]
  },
  {
   "cell_type": "code",
   "execution_count": 10,
   "id": "142b71b1-0054-404c-8d6a-abe35d39dff3",
   "metadata": {
    "scrolled": true
   },
   "outputs": [
    {
     "name": "stderr",
     "output_type": "stream",
     "text": [
      "No random seed is specified. Setting to 1999278798.\n",
      "No cuda devices were available. The model runs on CPU\n"
     ]
    },
    {
     "data": {
      "application/vnd.jupyter.widget-view+json": {
       "model_id": "5ad1c3d995e54120bce4d258ecc82d10",
       "version_major": 2,
       "version_minor": 0
      },
      "text/plain": [
       "Training epochs on cpu:   0%|          | 0/100 [00:00<?, ?epoch/s]"
      ]
     },
     "metadata": {},
     "output_type": "display_data"
    },
    {
     "data": {
      "application/vnd.jupyter.widget-view+json": {
       "model_id": "1c7004ee72494c728e9d4571e339cdd9",
       "version_major": 2,
       "version_minor": 0
      },
      "text/plain": [
       "Training batches on cpu:   0%|          | 0/120 [00:00<?, ?batch/s]"
      ]
     },
     "metadata": {},
     "output_type": "display_data"
    },
    {
     "data": {
      "application/vnd.jupyter.widget-view+json": {
       "model_id": "ce8d2070e1d94501962eb686df292462",
       "version_major": 2,
       "version_minor": 0
      },
      "text/plain": [
       "Training batches on cpu:   0%|          | 0/120 [00:00<?, ?batch/s]"
      ]
     },
     "metadata": {},
     "output_type": "display_data"
    },
    {
     "data": {
      "application/vnd.jupyter.widget-view+json": {
       "model_id": "a3e2d30eed6d4512957cefb13614622e",
       "version_major": 2,
       "version_minor": 0
      },
      "text/plain": [
       "Training batches on cpu:   0%|          | 0/120 [00:00<?, ?batch/s]"
      ]
     },
     "metadata": {},
     "output_type": "display_data"
    },
    {
     "data": {
      "application/vnd.jupyter.widget-view+json": {
       "model_id": "642ff3b3d8b34e3ab0957e069b8f6ff1",
       "version_major": 2,
       "version_minor": 0
      },
      "text/plain": [
       "Training batches on cpu:   0%|          | 0/120 [00:00<?, ?batch/s]"
      ]
     },
     "metadata": {},
     "output_type": "display_data"
    },
    {
     "data": {
      "application/vnd.jupyter.widget-view+json": {
       "model_id": "5fd0962c915d42deaa5eb64c342906cf",
       "version_major": 2,
       "version_minor": 0
      },
      "text/plain": [
       "Training batches on cpu:   0%|          | 0/120 [00:00<?, ?batch/s]"
      ]
     },
     "metadata": {},
     "output_type": "display_data"
    },
    {
     "data": {
      "application/vnd.jupyter.widget-view+json": {
       "model_id": "7f56e02a07434fb1acf19bcc926a6da3",
       "version_major": 2,
       "version_minor": 0
      },
      "text/plain": [
       "Training batches on cpu:   0%|          | 0/120 [00:00<?, ?batch/s]"
      ]
     },
     "metadata": {},
     "output_type": "display_data"
    },
    {
     "data": {
      "application/vnd.jupyter.widget-view+json": {
       "model_id": "705ddf75f6a5415e8ecf8ea7756868ae",
       "version_major": 2,
       "version_minor": 0
      },
      "text/plain": [
       "Training batches on cpu:   0%|          | 0/120 [00:00<?, ?batch/s]"
      ]
     },
     "metadata": {},
     "output_type": "display_data"
    },
    {
     "data": {
      "application/vnd.jupyter.widget-view+json": {
       "model_id": "253d17bfba03419780d8f0d23130c335",
       "version_major": 2,
       "version_minor": 0
      },
      "text/plain": [
       "Training batches on cpu:   0%|          | 0/120 [00:00<?, ?batch/s]"
      ]
     },
     "metadata": {},
     "output_type": "display_data"
    },
    {
     "data": {
      "application/vnd.jupyter.widget-view+json": {
       "model_id": "36b077c1dde74f0b848256f515f5c315",
       "version_major": 2,
       "version_minor": 0
      },
      "text/plain": [
       "Training batches on cpu:   0%|          | 0/120 [00:00<?, ?batch/s]"
      ]
     },
     "metadata": {},
     "output_type": "display_data"
    },
    {
     "data": {
      "application/vnd.jupyter.widget-view+json": {
       "model_id": "1762371077df499e9d709dcc6ba035aa",
       "version_major": 2,
       "version_minor": 0
      },
      "text/plain": [
       "Training batches on cpu:   0%|          | 0/120 [00:00<?, ?batch/s]"
      ]
     },
     "metadata": {},
     "output_type": "display_data"
    },
    {
     "data": {
      "application/vnd.jupyter.widget-view+json": {
       "model_id": "974e0636c30f44d78c3418f973d9fe2b",
       "version_major": 2,
       "version_minor": 0
      },
      "text/plain": [
       "Training batches on cpu:   0%|          | 0/120 [00:00<?, ?batch/s]"
      ]
     },
     "metadata": {},
     "output_type": "display_data"
    },
    {
     "data": {
      "application/vnd.jupyter.widget-view+json": {
       "model_id": "41beaa6fdf5e42c29768a1a0debac512",
       "version_major": 2,
       "version_minor": 0
      },
      "text/plain": [
       "Training batches on cpu:   0%|          | 0/120 [00:00<?, ?batch/s]"
      ]
     },
     "metadata": {},
     "output_type": "display_data"
    },
    {
     "data": {
      "application/vnd.jupyter.widget-view+json": {
       "model_id": "2ede4e8f66f74ced8046ceeb8a29919e",
       "version_major": 2,
       "version_minor": 0
      },
      "text/plain": [
       "Training batches on cpu:   0%|          | 0/120 [00:00<?, ?batch/s]"
      ]
     },
     "metadata": {},
     "output_type": "display_data"
    },
    {
     "data": {
      "application/vnd.jupyter.widget-view+json": {
       "model_id": "3f9087d283a74445bcf20c622c30f23b",
       "version_major": 2,
       "version_minor": 0
      },
      "text/plain": [
       "Training batches on cpu:   0%|          | 0/120 [00:00<?, ?batch/s]"
      ]
     },
     "metadata": {},
     "output_type": "display_data"
    },
    {
     "data": {
      "application/vnd.jupyter.widget-view+json": {
       "model_id": "09f577618a3b4394b98d370dea8c4f49",
       "version_major": 2,
       "version_minor": 0
      },
      "text/plain": [
       "Training batches on cpu:   0%|          | 0/120 [00:00<?, ?batch/s]"
      ]
     },
     "metadata": {},
     "output_type": "display_data"
    },
    {
     "data": {
      "application/vnd.jupyter.widget-view+json": {
       "model_id": "7b7482072d2e447fb41511787ba0d49a",
       "version_major": 2,
       "version_minor": 0
      },
      "text/plain": [
       "Training batches on cpu:   0%|          | 0/120 [00:00<?, ?batch/s]"
      ]
     },
     "metadata": {},
     "output_type": "display_data"
    },
    {
     "data": {
      "application/vnd.jupyter.widget-view+json": {
       "model_id": "2ad477d60ca9499baaa0f27865a2ef13",
       "version_major": 2,
       "version_minor": 0
      },
      "text/plain": [
       "Training batches on cpu:   0%|          | 0/120 [00:00<?, ?batch/s]"
      ]
     },
     "metadata": {},
     "output_type": "display_data"
    },
    {
     "data": {
      "application/vnd.jupyter.widget-view+json": {
       "model_id": "b68cb09995b6495cb883098e5296e7d0",
       "version_major": 2,
       "version_minor": 0
      },
      "text/plain": [
       "Training batches on cpu:   0%|          | 0/120 [00:00<?, ?batch/s]"
      ]
     },
     "metadata": {},
     "output_type": "display_data"
    },
    {
     "data": {
      "application/vnd.jupyter.widget-view+json": {
       "model_id": "c1c4379ec61b4d4aba81fa377167580d",
       "version_major": 2,
       "version_minor": 0
      },
      "text/plain": [
       "Training batches on cpu:   0%|          | 0/120 [00:00<?, ?batch/s]"
      ]
     },
     "metadata": {},
     "output_type": "display_data"
    },
    {
     "data": {
      "application/vnd.jupyter.widget-view+json": {
       "model_id": "288c936043ce4928b796bc13be5a1558",
       "version_major": 2,
       "version_minor": 0
      },
      "text/plain": [
       "Training batches on cpu:   0%|          | 0/120 [00:00<?, ?batch/s]"
      ]
     },
     "metadata": {},
     "output_type": "display_data"
    },
    {
     "data": {
      "application/vnd.jupyter.widget-view+json": {
       "model_id": "7e1e548e3ee94c37b3efb105f10318c9",
       "version_major": 2,
       "version_minor": 0
      },
      "text/plain": [
       "Training batches on cpu:   0%|          | 0/120 [00:00<?, ?batch/s]"
      ]
     },
     "metadata": {},
     "output_type": "display_data"
    },
    {
     "data": {
      "application/vnd.jupyter.widget-view+json": {
       "model_id": "00987c6f120448a49dc01469d123bd9a",
       "version_major": 2,
       "version_minor": 0
      },
      "text/plain": [
       "Training batches on cpu:   0%|          | 0/120 [00:00<?, ?batch/s]"
      ]
     },
     "metadata": {},
     "output_type": "display_data"
    },
    {
     "data": {
      "application/vnd.jupyter.widget-view+json": {
       "model_id": "b4e1580dc425426aabd16c9fba790f76",
       "version_major": 2,
       "version_minor": 0
      },
      "text/plain": [
       "Training batches on cpu:   0%|          | 0/120 [00:00<?, ?batch/s]"
      ]
     },
     "metadata": {},
     "output_type": "display_data"
    },
    {
     "data": {
      "application/vnd.jupyter.widget-view+json": {
       "model_id": "d6ceef9272744639932c37f286b4fa8a",
       "version_major": 2,
       "version_minor": 0
      },
      "text/plain": [
       "Training batches on cpu:   0%|          | 0/120 [00:00<?, ?batch/s]"
      ]
     },
     "metadata": {},
     "output_type": "display_data"
    },
    {
     "data": {
      "application/vnd.jupyter.widget-view+json": {
       "model_id": "d1413a35b69049beaeaf3063b57de5cb",
       "version_major": 2,
       "version_minor": 0
      },
      "text/plain": [
       "Training batches on cpu:   0%|          | 0/120 [00:00<?, ?batch/s]"
      ]
     },
     "metadata": {},
     "output_type": "display_data"
    },
    {
     "data": {
      "application/vnd.jupyter.widget-view+json": {
       "model_id": "5485378846fc42e3b4021e4d971a4931",
       "version_major": 2,
       "version_minor": 0
      },
      "text/plain": [
       "Training batches on cpu:   0%|          | 0/120 [00:00<?, ?batch/s]"
      ]
     },
     "metadata": {},
     "output_type": "display_data"
    },
    {
     "data": {
      "application/vnd.jupyter.widget-view+json": {
       "model_id": "b1e7156c8a6b41a896bbaf9b481392da",
       "version_major": 2,
       "version_minor": 0
      },
      "text/plain": [
       "Training batches on cpu:   0%|          | 0/120 [00:00<?, ?batch/s]"
      ]
     },
     "metadata": {},
     "output_type": "display_data"
    },
    {
     "data": {
      "application/vnd.jupyter.widget-view+json": {
       "model_id": "89cafdb68dff4ed5bab3adb5570d451c",
       "version_major": 2,
       "version_minor": 0
      },
      "text/plain": [
       "Training batches on cpu:   0%|          | 0/120 [00:00<?, ?batch/s]"
      ]
     },
     "metadata": {},
     "output_type": "display_data"
    },
    {
     "data": {
      "application/vnd.jupyter.widget-view+json": {
       "model_id": "79906da1eb754d11999ee06403241d06",
       "version_major": 2,
       "version_minor": 0
      },
      "text/plain": [
       "Training batches on cpu:   0%|          | 0/120 [00:00<?, ?batch/s]"
      ]
     },
     "metadata": {},
     "output_type": "display_data"
    },
    {
     "data": {
      "application/vnd.jupyter.widget-view+json": {
       "model_id": "b86ef38f1eda4583a1cf1d808767ac19",
       "version_major": 2,
       "version_minor": 0
      },
      "text/plain": [
       "Training batches on cpu:   0%|          | 0/120 [00:00<?, ?batch/s]"
      ]
     },
     "metadata": {},
     "output_type": "display_data"
    },
    {
     "data": {
      "application/vnd.jupyter.widget-view+json": {
       "model_id": "29bda98b470249e7ad6ba8ddfc26a4b9",
       "version_major": 2,
       "version_minor": 0
      },
      "text/plain": [
       "Training batches on cpu:   0%|          | 0/120 [00:00<?, ?batch/s]"
      ]
     },
     "metadata": {},
     "output_type": "display_data"
    },
    {
     "data": {
      "application/vnd.jupyter.widget-view+json": {
       "model_id": "fb2283a739584fbbaff2382af40f27bb",
       "version_major": 2,
       "version_minor": 0
      },
      "text/plain": [
       "Training batches on cpu:   0%|          | 0/120 [00:00<?, ?batch/s]"
      ]
     },
     "metadata": {},
     "output_type": "display_data"
    },
    {
     "data": {
      "application/vnd.jupyter.widget-view+json": {
       "model_id": "8d0591833eac4d0fb2424acb949aab93",
       "version_major": 2,
       "version_minor": 0
      },
      "text/plain": [
       "Training batches on cpu:   0%|          | 0/120 [00:00<?, ?batch/s]"
      ]
     },
     "metadata": {},
     "output_type": "display_data"
    },
    {
     "data": {
      "application/vnd.jupyter.widget-view+json": {
       "model_id": "fae9c05dc28647078c9afbdd3a350aaf",
       "version_major": 2,
       "version_minor": 0
      },
      "text/plain": [
       "Training batches on cpu:   0%|          | 0/120 [00:00<?, ?batch/s]"
      ]
     },
     "metadata": {},
     "output_type": "display_data"
    },
    {
     "data": {
      "application/vnd.jupyter.widget-view+json": {
       "model_id": "6c3d774c63a4444da7699169249e528c",
       "version_major": 2,
       "version_minor": 0
      },
      "text/plain": [
       "Training batches on cpu:   0%|          | 0/120 [00:00<?, ?batch/s]"
      ]
     },
     "metadata": {},
     "output_type": "display_data"
    },
    {
     "data": {
      "application/vnd.jupyter.widget-view+json": {
       "model_id": "dd9ab640ebd6478e9cf364692691ce07",
       "version_major": 2,
       "version_minor": 0
      },
      "text/plain": [
       "Training batches on cpu:   0%|          | 0/120 [00:00<?, ?batch/s]"
      ]
     },
     "metadata": {},
     "output_type": "display_data"
    },
    {
     "data": {
      "application/vnd.jupyter.widget-view+json": {
       "model_id": "aacdbeb33d8f4ff3bb12063aacb6cc1b",
       "version_major": 2,
       "version_minor": 0
      },
      "text/plain": [
       "Training batches on cpu:   0%|          | 0/120 [00:00<?, ?batch/s]"
      ]
     },
     "metadata": {},
     "output_type": "display_data"
    },
    {
     "data": {
      "application/vnd.jupyter.widget-view+json": {
       "model_id": "478c963ea29c464e9edc35fb92d9a9ee",
       "version_major": 2,
       "version_minor": 0
      },
      "text/plain": [
       "Training batches on cpu:   0%|          | 0/120 [00:00<?, ?batch/s]"
      ]
     },
     "metadata": {},
     "output_type": "display_data"
    },
    {
     "data": {
      "application/vnd.jupyter.widget-view+json": {
       "model_id": "3d6b4946ef6943899e16dd19e88cfabb",
       "version_major": 2,
       "version_minor": 0
      },
      "text/plain": [
       "Training batches on cpu:   0%|          | 0/120 [00:00<?, ?batch/s]"
      ]
     },
     "metadata": {},
     "output_type": "display_data"
    },
    {
     "data": {
      "application/vnd.jupyter.widget-view+json": {
       "model_id": "2e836ec432f842ea99fe25d63fbf0f95",
       "version_major": 2,
       "version_minor": 0
      },
      "text/plain": [
       "Training batches on cpu:   0%|          | 0/120 [00:00<?, ?batch/s]"
      ]
     },
     "metadata": {},
     "output_type": "display_data"
    },
    {
     "data": {
      "application/vnd.jupyter.widget-view+json": {
       "model_id": "f15bdef2b1794885ac4697331a47c7e0",
       "version_major": 2,
       "version_minor": 0
      },
      "text/plain": [
       "Training batches on cpu:   0%|          | 0/120 [00:00<?, ?batch/s]"
      ]
     },
     "metadata": {},
     "output_type": "display_data"
    },
    {
     "data": {
      "application/vnd.jupyter.widget-view+json": {
       "model_id": "2b51b725f5a74dbaa2bf48dce8172481",
       "version_major": 2,
       "version_minor": 0
      },
      "text/plain": [
       "Training batches on cpu:   0%|          | 0/120 [00:00<?, ?batch/s]"
      ]
     },
     "metadata": {},
     "output_type": "display_data"
    },
    {
     "data": {
      "application/vnd.jupyter.widget-view+json": {
       "model_id": "2379092b2cea4787a65c06837ed15ff9",
       "version_major": 2,
       "version_minor": 0
      },
      "text/plain": [
       "Training batches on cpu:   0%|          | 0/120 [00:00<?, ?batch/s]"
      ]
     },
     "metadata": {},
     "output_type": "display_data"
    },
    {
     "data": {
      "application/vnd.jupyter.widget-view+json": {
       "model_id": "db702cce3ac14cd2b30ed8293181eef9",
       "version_major": 2,
       "version_minor": 0
      },
      "text/plain": [
       "Training batches on cpu:   0%|          | 0/120 [00:00<?, ?batch/s]"
      ]
     },
     "metadata": {},
     "output_type": "display_data"
    },
    {
     "data": {
      "application/vnd.jupyter.widget-view+json": {
       "model_id": "05d18ac0ff6e4d008d363fbf6d3e81b6",
       "version_major": 2,
       "version_minor": 0
      },
      "text/plain": [
       "Training batches on cpu:   0%|          | 0/120 [00:00<?, ?batch/s]"
      ]
     },
     "metadata": {},
     "output_type": "display_data"
    },
    {
     "data": {
      "application/vnd.jupyter.widget-view+json": {
       "model_id": "5d702e6c360f4c9a9cf31e83cb6ef3ad",
       "version_major": 2,
       "version_minor": 0
      },
      "text/plain": [
       "Training batches on cpu:   0%|          | 0/120 [00:00<?, ?batch/s]"
      ]
     },
     "metadata": {},
     "output_type": "display_data"
    },
    {
     "data": {
      "application/vnd.jupyter.widget-view+json": {
       "model_id": "356f30e3377a421e9dbdf71dc2606562",
       "version_major": 2,
       "version_minor": 0
      },
      "text/plain": [
       "Training batches on cpu:   0%|          | 0/120 [00:00<?, ?batch/s]"
      ]
     },
     "metadata": {},
     "output_type": "display_data"
    },
    {
     "data": {
      "application/vnd.jupyter.widget-view+json": {
       "model_id": "2102d6fa7d424ea9b3a26521f03b27e9",
       "version_major": 2,
       "version_minor": 0
      },
      "text/plain": [
       "Training batches on cpu:   0%|          | 0/120 [00:00<?, ?batch/s]"
      ]
     },
     "metadata": {},
     "output_type": "display_data"
    },
    {
     "data": {
      "application/vnd.jupyter.widget-view+json": {
       "model_id": "62756b4cc7c649889c1187b7a0c29c63",
       "version_major": 2,
       "version_minor": 0
      },
      "text/plain": [
       "Training batches on cpu:   0%|          | 0/120 [00:00<?, ?batch/s]"
      ]
     },
     "metadata": {},
     "output_type": "display_data"
    },
    {
     "data": {
      "application/vnd.jupyter.widget-view+json": {
       "model_id": "a8bb255ebecd4724b1120bff79bce526",
       "version_major": 2,
       "version_minor": 0
      },
      "text/plain": [
       "Training batches on cpu:   0%|          | 0/120 [00:00<?, ?batch/s]"
      ]
     },
     "metadata": {},
     "output_type": "display_data"
    },
    {
     "data": {
      "application/vnd.jupyter.widget-view+json": {
       "model_id": "901e7644a0e44ffb9e60b360d74876ca",
       "version_major": 2,
       "version_minor": 0
      },
      "text/plain": [
       "Training batches on cpu:   0%|          | 0/120 [00:00<?, ?batch/s]"
      ]
     },
     "metadata": {},
     "output_type": "display_data"
    },
    {
     "data": {
      "application/vnd.jupyter.widget-view+json": {
       "model_id": "42bb21da826345ee9cab36dc18fcc80e",
       "version_major": 2,
       "version_minor": 0
      },
      "text/plain": [
       "Training batches on cpu:   0%|          | 0/120 [00:00<?, ?batch/s]"
      ]
     },
     "metadata": {},
     "output_type": "display_data"
    },
    {
     "data": {
      "application/vnd.jupyter.widget-view+json": {
       "model_id": "938c67ccba3b4227854398bec5f171bf",
       "version_major": 2,
       "version_minor": 0
      },
      "text/plain": [
       "Training batches on cpu:   0%|          | 0/120 [00:00<?, ?batch/s]"
      ]
     },
     "metadata": {},
     "output_type": "display_data"
    },
    {
     "data": {
      "application/vnd.jupyter.widget-view+json": {
       "model_id": "8a3d339213684de3976d94a8c959374f",
       "version_major": 2,
       "version_minor": 0
      },
      "text/plain": [
       "Training batches on cpu:   0%|          | 0/120 [00:00<?, ?batch/s]"
      ]
     },
     "metadata": {},
     "output_type": "display_data"
    },
    {
     "data": {
      "application/vnd.jupyter.widget-view+json": {
       "model_id": "9f12121291d64c34acd37535f2fc4d79",
       "version_major": 2,
       "version_minor": 0
      },
      "text/plain": [
       "Training batches on cpu:   0%|          | 0/120 [00:00<?, ?batch/s]"
      ]
     },
     "metadata": {},
     "output_type": "display_data"
    },
    {
     "data": {
      "application/vnd.jupyter.widget-view+json": {
       "model_id": "6b6c502b1a7c48e29880ab7bc2a983e7",
       "version_major": 2,
       "version_minor": 0
      },
      "text/plain": [
       "Training batches on cpu:   0%|          | 0/120 [00:00<?, ?batch/s]"
      ]
     },
     "metadata": {},
     "output_type": "display_data"
    },
    {
     "data": {
      "application/vnd.jupyter.widget-view+json": {
       "model_id": "f9d9857d9afe4778882589595a9ddcd9",
       "version_major": 2,
       "version_minor": 0
      },
      "text/plain": [
       "Training batches on cpu:   0%|          | 0/120 [00:00<?, ?batch/s]"
      ]
     },
     "metadata": {},
     "output_type": "display_data"
    },
    {
     "data": {
      "application/vnd.jupyter.widget-view+json": {
       "model_id": "f9a66487f6154b3abe3b334d6e951a28",
       "version_major": 2,
       "version_minor": 0
      },
      "text/plain": [
       "Training batches on cpu:   0%|          | 0/120 [00:00<?, ?batch/s]"
      ]
     },
     "metadata": {},
     "output_type": "display_data"
    },
    {
     "data": {
      "application/vnd.jupyter.widget-view+json": {
       "model_id": "cde87942facf400db1a0ef4b7ec61f36",
       "version_major": 2,
       "version_minor": 0
      },
      "text/plain": [
       "Training batches on cpu:   0%|          | 0/120 [00:00<?, ?batch/s]"
      ]
     },
     "metadata": {},
     "output_type": "display_data"
    },
    {
     "data": {
      "application/vnd.jupyter.widget-view+json": {
       "model_id": "a562d57e890643d181500ce3e488e074",
       "version_major": 2,
       "version_minor": 0
      },
      "text/plain": [
       "Training batches on cpu:   0%|          | 0/120 [00:00<?, ?batch/s]"
      ]
     },
     "metadata": {},
     "output_type": "display_data"
    },
    {
     "data": {
      "application/vnd.jupyter.widget-view+json": {
       "model_id": "58bd742b34c348e586938d8288fc6bd9",
       "version_major": 2,
       "version_minor": 0
      },
      "text/plain": [
       "Training batches on cpu:   0%|          | 0/120 [00:00<?, ?batch/s]"
      ]
     },
     "metadata": {},
     "output_type": "display_data"
    },
    {
     "data": {
      "application/vnd.jupyter.widget-view+json": {
       "model_id": "24f38e85babb4791a6c7c00b55ee7c9e",
       "version_major": 2,
       "version_minor": 0
      },
      "text/plain": [
       "Training batches on cpu:   0%|          | 0/120 [00:00<?, ?batch/s]"
      ]
     },
     "metadata": {},
     "output_type": "display_data"
    },
    {
     "data": {
      "application/vnd.jupyter.widget-view+json": {
       "model_id": "73f6358c1a1844ce9a7364a7d623b6da",
       "version_major": 2,
       "version_minor": 0
      },
      "text/plain": [
       "Training batches on cpu:   0%|          | 0/120 [00:00<?, ?batch/s]"
      ]
     },
     "metadata": {},
     "output_type": "display_data"
    },
    {
     "data": {
      "application/vnd.jupyter.widget-view+json": {
       "model_id": "93f89c8a9ac64f3ebd8fe59dfbd45cd9",
       "version_major": 2,
       "version_minor": 0
      },
      "text/plain": [
       "Training batches on cpu:   0%|          | 0/120 [00:00<?, ?batch/s]"
      ]
     },
     "metadata": {},
     "output_type": "display_data"
    },
    {
     "data": {
      "application/vnd.jupyter.widget-view+json": {
       "model_id": "d25626f0dd7947fea7197620eefbc8a7",
       "version_major": 2,
       "version_minor": 0
      },
      "text/plain": [
       "Training batches on cpu:   0%|          | 0/120 [00:00<?, ?batch/s]"
      ]
     },
     "metadata": {},
     "output_type": "display_data"
    },
    {
     "data": {
      "application/vnd.jupyter.widget-view+json": {
       "model_id": "e6926a8e3a0c4973a2f9c27eec78adec",
       "version_major": 2,
       "version_minor": 0
      },
      "text/plain": [
       "Training batches on cpu:   0%|          | 0/120 [00:00<?, ?batch/s]"
      ]
     },
     "metadata": {},
     "output_type": "display_data"
    },
    {
     "data": {
      "application/vnd.jupyter.widget-view+json": {
       "model_id": "2c60c1e9d50b4481928f0b74e5442693",
       "version_major": 2,
       "version_minor": 0
      },
      "text/plain": [
       "Training batches on cpu:   0%|          | 0/120 [00:00<?, ?batch/s]"
      ]
     },
     "metadata": {},
     "output_type": "display_data"
    },
    {
     "data": {
      "application/vnd.jupyter.widget-view+json": {
       "model_id": "76132740e4664897baee42a60fb1b93e",
       "version_major": 2,
       "version_minor": 0
      },
      "text/plain": [
       "Training batches on cpu:   0%|          | 0/120 [00:00<?, ?batch/s]"
      ]
     },
     "metadata": {},
     "output_type": "display_data"
    },
    {
     "data": {
      "application/vnd.jupyter.widget-view+json": {
       "model_id": "fe981062b6f245ffa60b29e47104386e",
       "version_major": 2,
       "version_minor": 0
      },
      "text/plain": [
       "Training batches on cpu:   0%|          | 0/120 [00:00<?, ?batch/s]"
      ]
     },
     "metadata": {},
     "output_type": "display_data"
    },
    {
     "data": {
      "application/vnd.jupyter.widget-view+json": {
       "model_id": "aa7e20f2c9984129b9fb899773a4c6b8",
       "version_major": 2,
       "version_minor": 0
      },
      "text/plain": [
       "Training batches on cpu:   0%|          | 0/120 [00:00<?, ?batch/s]"
      ]
     },
     "metadata": {},
     "output_type": "display_data"
    },
    {
     "data": {
      "application/vnd.jupyter.widget-view+json": {
       "model_id": "1bdfa53d3cb74c1cbd4065edee756ea2",
       "version_major": 2,
       "version_minor": 0
      },
      "text/plain": [
       "Training batches on cpu:   0%|          | 0/120 [00:00<?, ?batch/s]"
      ]
     },
     "metadata": {},
     "output_type": "display_data"
    },
    {
     "data": {
      "application/vnd.jupyter.widget-view+json": {
       "model_id": "a7ab264e6b5747049e808d5e6f89e770",
       "version_major": 2,
       "version_minor": 0
      },
      "text/plain": [
       "Training batches on cpu:   0%|          | 0/120 [00:00<?, ?batch/s]"
      ]
     },
     "metadata": {},
     "output_type": "display_data"
    },
    {
     "data": {
      "application/vnd.jupyter.widget-view+json": {
       "model_id": "29de48e0b62b48c2a772febf842663af",
       "version_major": 2,
       "version_minor": 0
      },
      "text/plain": [
       "Training batches on cpu:   0%|          | 0/120 [00:00<?, ?batch/s]"
      ]
     },
     "metadata": {},
     "output_type": "display_data"
    },
    {
     "data": {
      "application/vnd.jupyter.widget-view+json": {
       "model_id": "7276c3fa11e04ac28afd55285746b66c",
       "version_major": 2,
       "version_minor": 0
      },
      "text/plain": [
       "Training batches on cpu:   0%|          | 0/120 [00:00<?, ?batch/s]"
      ]
     },
     "metadata": {},
     "output_type": "display_data"
    },
    {
     "data": {
      "application/vnd.jupyter.widget-view+json": {
       "model_id": "929480bc81bf4ae391b473c766d14dc1",
       "version_major": 2,
       "version_minor": 0
      },
      "text/plain": [
       "Training batches on cpu:   0%|          | 0/120 [00:00<?, ?batch/s]"
      ]
     },
     "metadata": {},
     "output_type": "display_data"
    },
    {
     "data": {
      "application/vnd.jupyter.widget-view+json": {
       "model_id": "d8f3e4c117944eba8df0327056b99207",
       "version_major": 2,
       "version_minor": 0
      },
      "text/plain": [
       "Training batches on cpu:   0%|          | 0/120 [00:00<?, ?batch/s]"
      ]
     },
     "metadata": {},
     "output_type": "display_data"
    },
    {
     "data": {
      "application/vnd.jupyter.widget-view+json": {
       "model_id": "cd7e2096ee38439baff0b0c168515ee5",
       "version_major": 2,
       "version_minor": 0
      },
      "text/plain": [
       "Training batches on cpu:   0%|          | 0/120 [00:00<?, ?batch/s]"
      ]
     },
     "metadata": {},
     "output_type": "display_data"
    },
    {
     "data": {
      "application/vnd.jupyter.widget-view+json": {
       "model_id": "8b03a5548bd94a70bacbcd855bfb27a7",
       "version_major": 2,
       "version_minor": 0
      },
      "text/plain": [
       "Training batches on cpu:   0%|          | 0/120 [00:00<?, ?batch/s]"
      ]
     },
     "metadata": {},
     "output_type": "display_data"
    },
    {
     "data": {
      "application/vnd.jupyter.widget-view+json": {
       "model_id": "a9c0dd9cc55c4f91b765f114bce121a3",
       "version_major": 2,
       "version_minor": 0
      },
      "text/plain": [
       "Training batches on cpu:   0%|          | 0/120 [00:00<?, ?batch/s]"
      ]
     },
     "metadata": {},
     "output_type": "display_data"
    },
    {
     "data": {
      "application/vnd.jupyter.widget-view+json": {
       "model_id": "eb67c3f7b849489b86f49641c0457aaa",
       "version_major": 2,
       "version_minor": 0
      },
      "text/plain": [
       "Training batches on cpu:   0%|          | 0/120 [00:00<?, ?batch/s]"
      ]
     },
     "metadata": {},
     "output_type": "display_data"
    },
    {
     "data": {
      "application/vnd.jupyter.widget-view+json": {
       "model_id": "7bac8be4c7ce4ae98c7dee8884567c13",
       "version_major": 2,
       "version_minor": 0
      },
      "text/plain": [
       "Training batches on cpu:   0%|          | 0/120 [00:00<?, ?batch/s]"
      ]
     },
     "metadata": {},
     "output_type": "display_data"
    },
    {
     "data": {
      "application/vnd.jupyter.widget-view+json": {
       "model_id": "0ae3ec0b94d242048731c91cc5197589",
       "version_major": 2,
       "version_minor": 0
      },
      "text/plain": [
       "Training batches on cpu:   0%|          | 0/120 [00:00<?, ?batch/s]"
      ]
     },
     "metadata": {},
     "output_type": "display_data"
    },
    {
     "data": {
      "application/vnd.jupyter.widget-view+json": {
       "model_id": "66b944325c5840cb868ef24cc5c49264",
       "version_major": 2,
       "version_minor": 0
      },
      "text/plain": [
       "Training batches on cpu:   0%|          | 0/120 [00:00<?, ?batch/s]"
      ]
     },
     "metadata": {},
     "output_type": "display_data"
    },
    {
     "data": {
      "application/vnd.jupyter.widget-view+json": {
       "model_id": "d8d257655a5d4db2ad358029bf46ff04",
       "version_major": 2,
       "version_minor": 0
      },
      "text/plain": [
       "Training batches on cpu:   0%|          | 0/120 [00:00<?, ?batch/s]"
      ]
     },
     "metadata": {},
     "output_type": "display_data"
    },
    {
     "data": {
      "application/vnd.jupyter.widget-view+json": {
       "model_id": "4b580762cb0b4107bc0facbe07278aa8",
       "version_major": 2,
       "version_minor": 0
      },
      "text/plain": [
       "Training batches on cpu:   0%|          | 0/120 [00:00<?, ?batch/s]"
      ]
     },
     "metadata": {},
     "output_type": "display_data"
    },
    {
     "data": {
      "application/vnd.jupyter.widget-view+json": {
       "model_id": "2a267a83badd46ea9f441829bf79fff5",
       "version_major": 2,
       "version_minor": 0
      },
      "text/plain": [
       "Training batches on cpu:   0%|          | 0/120 [00:00<?, ?batch/s]"
      ]
     },
     "metadata": {},
     "output_type": "display_data"
    },
    {
     "data": {
      "application/vnd.jupyter.widget-view+json": {
       "model_id": "c833a45d79c145e29afbf1eb02739b0e",
       "version_major": 2,
       "version_minor": 0
      },
      "text/plain": [
       "Training batches on cpu:   0%|          | 0/120 [00:00<?, ?batch/s]"
      ]
     },
     "metadata": {},
     "output_type": "display_data"
    },
    {
     "data": {
      "application/vnd.jupyter.widget-view+json": {
       "model_id": "3f194e8688264cc4ab9d092f9a082299",
       "version_major": 2,
       "version_minor": 0
      },
      "text/plain": [
       "Training batches on cpu:   0%|          | 0/120 [00:00<?, ?batch/s]"
      ]
     },
     "metadata": {},
     "output_type": "display_data"
    },
    {
     "data": {
      "application/vnd.jupyter.widget-view+json": {
       "model_id": "be8a26b288144095b5153f952ca371c6",
       "version_major": 2,
       "version_minor": 0
      },
      "text/plain": [
       "Training batches on cpu:   0%|          | 0/120 [00:00<?, ?batch/s]"
      ]
     },
     "metadata": {},
     "output_type": "display_data"
    },
    {
     "data": {
      "application/vnd.jupyter.widget-view+json": {
       "model_id": "c687b9c447bc4039809857a5b396018d",
       "version_major": 2,
       "version_minor": 0
      },
      "text/plain": [
       "Training batches on cpu:   0%|          | 0/120 [00:00<?, ?batch/s]"
      ]
     },
     "metadata": {},
     "output_type": "display_data"
    },
    {
     "data": {
      "application/vnd.jupyter.widget-view+json": {
       "model_id": "121caae8d69b4fe0bc909cce8e9e7c35",
       "version_major": 2,
       "version_minor": 0
      },
      "text/plain": [
       "Training batches on cpu:   0%|          | 0/120 [00:00<?, ?batch/s]"
      ]
     },
     "metadata": {},
     "output_type": "display_data"
    },
    {
     "data": {
      "application/vnd.jupyter.widget-view+json": {
       "model_id": "dc118248ff624c5aa46daed151561f50",
       "version_major": 2,
       "version_minor": 0
      },
      "text/plain": [
       "Training batches on cpu:   0%|          | 0/120 [00:00<?, ?batch/s]"
      ]
     },
     "metadata": {},
     "output_type": "display_data"
    },
    {
     "data": {
      "application/vnd.jupyter.widget-view+json": {
       "model_id": "3664b38643904fddbcf7906345a17b08",
       "version_major": 2,
       "version_minor": 0
      },
      "text/plain": [
       "Training batches on cpu:   0%|          | 0/120 [00:00<?, ?batch/s]"
      ]
     },
     "metadata": {},
     "output_type": "display_data"
    },
    {
     "data": {
      "application/vnd.jupyter.widget-view+json": {
       "model_id": "1a2aa4b2015d406e828f40b46836c8ab",
       "version_major": 2,
       "version_minor": 0
      },
      "text/plain": [
       "Training batches on cpu:   0%|          | 0/120 [00:00<?, ?batch/s]"
      ]
     },
     "metadata": {},
     "output_type": "display_data"
    },
    {
     "data": {
      "application/vnd.jupyter.widget-view+json": {
       "model_id": "5c1a8308d9c244079f286c35afa8cfe6",
       "version_major": 2,
       "version_minor": 0
      },
      "text/plain": [
       "Training batches on cpu:   0%|          | 0/120 [00:00<?, ?batch/s]"
      ]
     },
     "metadata": {},
     "output_type": "display_data"
    },
    {
     "data": {
      "application/vnd.jupyter.widget-view+json": {
       "model_id": "8b26ecc0e9114bc4b68bc7efba7b02a9",
       "version_major": 2,
       "version_minor": 0
      },
      "text/plain": [
       "Training batches on cpu:   0%|          | 0/120 [00:00<?, ?batch/s]"
      ]
     },
     "metadata": {},
     "output_type": "display_data"
    },
    {
     "data": {
      "application/vnd.jupyter.widget-view+json": {
       "model_id": "2232bc0e8ebe41559e3fa3576e06660e",
       "version_major": 2,
       "version_minor": 0
      },
      "text/plain": [
       "Training batches on cpu:   0%|          | 0/120 [00:00<?, ?batch/s]"
      ]
     },
     "metadata": {},
     "output_type": "display_data"
    },
    {
     "data": {
      "application/vnd.jupyter.widget-view+json": {
       "model_id": "1ae5e3a7f4ff4d64a02734cac8e59ba0",
       "version_major": 2,
       "version_minor": 0
      },
      "text/plain": [
       "Training batches on cpu:   0%|          | 0/120 [00:00<?, ?batch/s]"
      ]
     },
     "metadata": {},
     "output_type": "display_data"
    },
    {
     "data": {
      "application/vnd.jupyter.widget-view+json": {
       "model_id": "eccf04bac0164a84b2ed3e3a2f5e485c",
       "version_major": 2,
       "version_minor": 0
      },
      "text/plain": [
       "Training batches on cpu:   0%|          | 0/120 [00:00<?, ?batch/s]"
      ]
     },
     "metadata": {},
     "output_type": "display_data"
    },
    {
     "data": {
      "application/vnd.jupyter.widget-view+json": {
       "model_id": "99f7d805c442491e99ccdd48fedab79a",
       "version_major": 2,
       "version_minor": 0
      },
      "text/plain": [
       "Training batches on cpu:   0%|          | 0/120 [00:00<?, ?batch/s]"
      ]
     },
     "metadata": {},
     "output_type": "display_data"
    },
    {
     "name": "stderr",
     "output_type": "stream",
     "text": [
      "WARNING:pykeen.utils:Using automatic batch size on device.type='cpu' can cause unexplained out-of-memory crashes. Therefore, we use a conservative small batch_size=32. Performance may be improved by explicitly specifying a larger batch size.\n"
     ]
    },
    {
     "data": {
      "application/vnd.jupyter.widget-view+json": {
       "model_id": "d3b5480821d14d19bd83949514719b5e",
       "version_major": 2,
       "version_minor": 0
      },
      "text/plain": [
       "Evaluating on cpu:   0%|          | 0.00/30.7k [00:00<?, ?triple/s]"
      ]
     },
     "metadata": {},
     "output_type": "display_data"
    },
    {
     "name": "stderr",
     "output_type": "stream",
     "text": [
      "WARNING:torch_max_mem.api:Encountered tensors on device_types={'cpu'} while only ['cuda'] are considered safe for automatic memory utilization maximization. This may lead to undocumented crashes (but can be safe, too).\n",
      "INFO:pykeen.evaluation.evaluator:Evaluation took 283.26s seconds\n",
      "INFO:pykeen.triples.triples_factory:Stored TriplesFactory(num_entities=15561, num_relations=5, create_inverse_triples=False, num_triples=30718) to file:///Users/kasper/Downloads/KDE/KDE-group6/transe_model_output/training_triples\n",
      "INFO:pykeen.pipeline.api:Saved to directory: /Users/kasper/Downloads/KDE/KDE-group6/transe_model_output\n"
     ]
    }
   ],
   "source": [
    "import torch\n",
    "\n",
    "if __name__ == \"__main__\":\n",
    "    device = \"cuda\" if torch.cuda.is_available() else \"cpu\"\n",
    "\n",
    "    rdf_file = \"output_data.ttl\"\n",
    "    transe_output_path = \"transe_model_output\" \n",
    "    user_id = \"108759\" \n",
    "    top_n = 5 \n",
    "\n",
    "    transe_result, trained_triples_factory = train_transe_model_from_rdf(\n",
    "        rdf_file, transe_output_path, num_epochs=100\n",
    "    )"
   ]
  },
  {
   "cell_type": "code",
   "execution_count": 11,
   "id": "54528ef4-50aa-414c-93b3-beed32543e4f",
   "metadata": {},
   "outputs": [
    {
     "name": "stdout",
     "output_type": "stream",
     "text": [
      "http://example.org/user/100301 Recommendations\n",
      "1. http://example.org/book/089879661X\n",
      "2. http://example.org/book/1931561370\n",
      "3. http://example.org/book/0312923856\n",
      "4. http://example.org/book/1587761114\n",
      "5. http://example.org/book/0890878536\n"
     ]
    }
   ],
   "source": [
    "import torch\n",
    "from pykeen.triples import TriplesFactory\n",
    "from pykeen.models import Model\n",
    "import os\n",
    "import pandas as pd\n",
    "import rdflib\n",
    "\n",
    "def load_transe_model(model_directory):\n",
    "    model_path = os.path.join(model_directory, \"trained_model.pkl\")\n",
    "    \n",
    "    model = torch.load(model_path, map_location=torch.device('cpu'))\n",
    "    return model\n",
    "\n",
    "def predict_top_books(user_id, triples_factory, model, top_n=5):\n",
    "    if user_id not in triples_factory.entity_to_id:\n",
    "        raise ValueError(f\"USER-ID {user_id} dose not exist\")\n",
    "    \n",
    "    entity_embeddings = model.entity_representations[0]\n",
    "    all_entities = list(triples_factory.entity_to_id.keys())\n",
    "    user_idx = triples_factory.entity_to_id[user_id]\n",
    "    user_idx_tensor = torch.tensor([user_idx], dtype=torch.long)\n",
    "    user_embedding = entity_embeddings(user_idx_tensor).detach().numpy().squeeze()\n",
    "    \n",
    "    similarities = []\n",
    "    for idx, entity in enumerate(all_entities):\n",
    "        if entity.startswith(\"http://example.org/book\"):\n",
    "            entity_idx_tensor = torch.tensor([idx], dtype=torch.long)\n",
    "            entity_embedding = entity_embeddings(entity_idx_tensor).detach().numpy().squeeze()\n",
    "            similarity = -((user_embedding - entity_embedding) ** 2).sum()\n",
    "            similarities.append((entity, similarity))\n",
    "    \n",
    "    top_books = sorted(similarities, key=lambda x: x[1], reverse=True)[:top_n]\n",
    "    return [book for book, _ in top_books]\n",
    "\n",
    "if __name__ == \"__main__\":\n",
    "    rdf_file_path = \"output_data.ttl\"\n",
    "    model_directory = \"transe_model_output\"\n",
    "    user_id = \"http://example.org/user/100301\"\n",
    "    top_n = 5\n",
    "\n",
    "    transe_model = load_transe_model(model_directory)\n",
    "\n",
    "    rdf_graph = rdflib.Graph()\n",
    "    rdf_graph.parse(rdf_file_path, format=\"turtle\")\n",
    "    triples = [(str(subj), str(pred), str(obj)) for subj, pred, obj in rdf_graph]\n",
    "    triples_array = pd.DataFrame(triples).to_numpy(dtype=str)\n",
    "    trained_triples_factory = TriplesFactory.from_labeled_triples(triples=triples_array)\n",
    "\n",
    "    try:\n",
    "        recommended_books = predict_top_books(user_id, trained_triples_factory, transe_model, top_n=top_n)\n",
    "        print(f\"{user_id} Recommendations\")\n",
    "        for idx, book in enumerate(recommended_books, 1):\n",
    "            print(f\"{idx}. {book}\")\n",
    "    except ValueError as e:\n",
    "        print(e)"
   ]
  },
  {
   "cell_type": "code",
   "execution_count": null,
   "id": "bfd3b61d-d318-405d-abc8-9a53e4732bb6",
   "metadata": {},
   "outputs": [],
   "source": []
  }
 ],
 "metadata": {
  "kernelspec": {
   "display_name": "venv",
   "language": "python",
   "name": "python3"
  },
  "language_info": {
   "codemirror_mode": {
    "name": "ipython",
    "version": 3
   },
   "file_extension": ".py",
   "mimetype": "text/x-python",
   "name": "python",
   "nbconvert_exporter": "python",
   "pygments_lexer": "ipython3",
   "version": "3.10.13"
  }
 },
 "nbformat": 4,
 "nbformat_minor": 5
}
