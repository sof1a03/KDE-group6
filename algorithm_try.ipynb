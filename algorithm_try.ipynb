{
 "cells": [
  {
   "cell_type": "code",
   "execution_count": 3,
   "id": "d8307642-d562-415e-9e18-6aaff53ef7fe",
   "metadata": {},
   "outputs": [
    {
     "name": "stdout",
     "output_type": "stream",
     "text": [
      "Looking in indexes: http://mirrors.aliyun.com/pypi/simple\n",
      "Requirement already satisfied: networkx in /root/miniconda3/lib/python3.12/site-packages (3.4.2)\n",
      "\u001b[33mWARNING: Running pip as the 'root' user can result in broken permissions and conflicting behaviour with the system package manager. It is recommended to use a virtual environment instead: https://pip.pypa.io/warnings/venv\u001b[0m\u001b[33m\n",
      "\u001b[0mLooking in indexes: http://mirrors.aliyun.com/pypi/simple\n",
      "Collecting rdflib\n",
      "  Downloading http://mirrors.aliyun.com/pypi/packages/3b/2f/064ebe3bf5d561fcf9f16d29517becdac5ad0a25ed2f3ad391977ca51a2d/rdflib-7.1.2-py3-none-any.whl (567 kB)\n",
      "\u001b[2K     \u001b[90m━━━━━━━━━━━━━━━━━━━━━━━━━━━━━━━━━━━━━━\u001b[0m \u001b[32m567.0/567.0 kB\u001b[0m \u001b[31m26.2 MB/s\u001b[0m eta \u001b[36m0:00:00\u001b[0m\n",
      "\u001b[?25hRequirement already satisfied: pyparsing<4,>=3.2.0 in /root/miniconda3/lib/python3.12/site-packages (from rdflib) (3.2.0)\n",
      "Installing collected packages: rdflib\n",
      "Successfully installed rdflib-7.1.2\n",
      "\u001b[33mWARNING: Running pip as the 'root' user can result in broken permissions and conflicting behaviour with the system package manager. It is recommended to use a virtual environment instead: https://pip.pypa.io/warnings/venv\u001b[0m\u001b[33m\n",
      "\u001b[0mLooking in indexes: http://mirrors.aliyun.com/pypi/simple\n",
      "Collecting node2vec\n",
      "  Downloading http://mirrors.aliyun.com/pypi/packages/b9/ca/d3bedf079e1132dfb5c8bcfac721dc11a1cd8064c9472d22ffa2c23c9ce3/node2vec-0.5.0-py3-none-any.whl (7.2 kB)\n",
      "Collecting gensim<5.0.0,>=4.3.0 (from node2vec)\n",
      "  Downloading http://mirrors.aliyun.com/pypi/packages/1a/07/7a0d5e6cab4da2769c8018f2472690ccb8cab191bf2fe46342dfd627486b/gensim-4.3.3-cp312-cp312-manylinux_2_17_x86_64.manylinux2014_x86_64.whl (26.6 MB)\n",
      "\u001b[2K     \u001b[90m━━━━━━━━━━━━━━━━━━━━━━━━━━━━━━━━━━━━━━━━\u001b[0m \u001b[32m26.6/26.6 MB\u001b[0m \u001b[31m23.0 MB/s\u001b[0m eta \u001b[36m0:00:00\u001b[0m00:01\u001b[0m00:01\u001b[0m\n",
      "\u001b[?25hCollecting joblib<2.0.0,>=1.4.0 (from node2vec)\n",
      "  Downloading http://mirrors.aliyun.com/pypi/packages/91/29/df4b9b42f2be0b623cbd5e2140cafcaa2bef0759a00b7b70104dcfe2fb51/joblib-1.4.2-py3-none-any.whl (301 kB)\n",
      "\u001b[2K     \u001b[90m━━━━━━━━━━━━━━━━━━━━━━━━━━━━━━━━━━━━━━\u001b[0m \u001b[32m301.8/301.8 kB\u001b[0m \u001b[31m97.6 MB/s\u001b[0m eta \u001b[36m0:00:00\u001b[0m\n",
      "\u001b[?25hRequirement already satisfied: networkx<4.0.0,>=3.1.0 in /root/miniconda3/lib/python3.12/site-packages (from node2vec) (3.4.2)\n",
      "Collecting numpy<2.0.0,>=1.24.0 (from node2vec)\n",
      "  Downloading http://mirrors.aliyun.com/pypi/packages/0f/50/de23fde84e45f5c4fda2488c759b69990fd4512387a8632860f3ac9cd225/numpy-1.26.4-cp312-cp312-manylinux_2_17_x86_64.manylinux2014_x86_64.whl (18.0 MB)\n",
      "\u001b[2K     \u001b[90m━━━━━━━━━━━━━━━━━━━━━━━━━━━━━━━━━━━━━━━━\u001b[0m \u001b[32m18.0/18.0 MB\u001b[0m \u001b[31m71.1 MB/s\u001b[0m eta \u001b[36m0:00:00\u001b[0m00:01\u001b[0m00:01\u001b[0m\n",
      "\u001b[?25hRequirement already satisfied: tqdm<5.0.0,>=4.66.1 in /root/miniconda3/lib/python3.12/site-packages (from node2vec) (4.66.2)\n",
      "Collecting scipy<1.14.0,>=1.7.0 (from gensim<5.0.0,>=4.3.0->node2vec)\n",
      "  Downloading http://mirrors.aliyun.com/pypi/packages/88/ab/6ecdc526d509d33814835447bbbeedbebdec7cca46ef495a61b00a35b4bf/scipy-1.13.1-cp312-cp312-manylinux_2_17_x86_64.manylinux2014_x86_64.whl (38.2 MB)\n",
      "\u001b[2K     \u001b[90m━━━━━━━━━━━━━━━━━━━━━━━━━━━━━━━━━━━━━━━━\u001b[0m \u001b[32m38.2/38.2 MB\u001b[0m \u001b[31m30.7 MB/s\u001b[0m eta \u001b[36m0:00:00\u001b[0m00:01\u001b[0m00:01\u001b[0m\n",
      "\u001b[?25hCollecting smart-open>=1.8.1 (from gensim<5.0.0,>=4.3.0->node2vec)\n",
      "  Downloading http://mirrors.aliyun.com/pypi/packages/7a/18/9a8d9f01957aa1f8bbc5676d54c2e33102d247e146c1a3679d3bd5cc2e3a/smart_open-7.1.0-py3-none-any.whl (61 kB)\n",
      "\u001b[2K     \u001b[90m━━━━━━━━━━━━━━━━━━━━━━━━━━━━━━━━━━━━━━━━\u001b[0m \u001b[32m61.7/61.7 kB\u001b[0m \u001b[31m31.5 MB/s\u001b[0m eta \u001b[36m0:00:00\u001b[0m\n",
      "\u001b[?25hCollecting wrapt (from smart-open>=1.8.1->gensim<5.0.0,>=4.3.0->node2vec)\n",
      "  Downloading http://mirrors.aliyun.com/pypi/packages/e2/fc/92d37def794c3626fb3c3aa112aa629544ba21f6c565034dae0e587f03c0/wrapt-1.17.1-cp312-cp312-manylinux_2_5_x86_64.manylinux1_x86_64.manylinux_2_17_x86_64.manylinux2014_x86_64.whl (89 kB)\n",
      "\u001b[2K     \u001b[90m━━━━━━━━━━━━━━━━━━━━━━━━━━━━━━━━━━━━━━━━\u001b[0m \u001b[32m89.2/89.2 kB\u001b[0m \u001b[31m41.9 MB/s\u001b[0m eta \u001b[36m0:00:00\u001b[0m\n",
      "\u001b[?25hInstalling collected packages: wrapt, numpy, joblib, smart-open, scipy, gensim, node2vec\n",
      "  Attempting uninstall: numpy\n",
      "    Found existing installation: numpy 2.1.3\n",
      "    Uninstalling numpy-2.1.3:\n",
      "      Successfully uninstalled numpy-2.1.3\n",
      "Successfully installed gensim-4.3.3 joblib-1.4.2 node2vec-0.5.0 numpy-1.26.4 scipy-1.13.1 smart-open-7.1.0 wrapt-1.17.1\n",
      "\u001b[33mWARNING: Running pip as the 'root' user can result in broken permissions and conflicting behaviour with the system package manager. It is recommended to use a virtual environment instead: https://pip.pypa.io/warnings/venv\u001b[0m\u001b[33m\n",
      "\u001b[0m"
     ]
    }
   ],
   "source": [
    "!pip install networkx\n",
    "!pip install rdflib\n",
    "!pip install node2vec"
   ]
  },
  {
   "cell_type": "code",
   "execution_count": 2,
   "id": "eb42c100-a9e3-4336-a5e3-b2f0033e2fc2",
   "metadata": {},
   "outputs": [
    {
     "name": "stdout",
     "output_type": "stream",
     "text": [
      "Looking in indexes: http://mirrors.aliyun.com/pypi/simple\n",
      "Collecting pandas==1.5.3\n",
      "  Downloading http://mirrors.aliyun.com/pypi/packages/74/ee/146cab1ff6d575b54ace8a6a5994048380dc94879b0125b25e62edcb9e52/pandas-1.5.3.tar.gz (5.2 MB)\n",
      "\u001b[2K     \u001b[90m━━━━━━━━━━━━━━━━━━━━━━━━━━━━━━━━━━━━━━━━\u001b[0m \u001b[32m5.2/5.2 MB\u001b[0m \u001b[31m99.5 MB/s\u001b[0m eta \u001b[36m0:00:00\u001b[0mta \u001b[36m0:00:01\u001b[0m\n",
      "\u001b[?25h  Installing build dependencies ... \u001b[?25ldone\n",
      "\u001b[?25h  Getting requirements to build wheel ... \u001b[?25ldone\n",
      "\u001b[?25h  Preparing metadata (pyproject.toml) ... \u001b[?25ldone\n",
      "\u001b[?25hRequirement already satisfied: numpy>=1.21.0 in /root/miniconda3/lib/python3.12/site-packages (from pandas==1.5.3) (2.1.3)\n",
      "Requirement already satisfied: python-dateutil>=2.8.1 in /root/miniconda3/lib/python3.12/site-packages (from pandas==1.5.3) (2.9.0.post0)\n",
      "Collecting pytz>=2020.1 (from pandas==1.5.3)\n",
      "  Downloading http://mirrors.aliyun.com/pypi/packages/11/c3/005fcca25ce078d2cc29fd559379817424e94885510568bc1bc53d7d5846/pytz-2024.2-py2.py3-none-any.whl (508 kB)\n",
      "\u001b[2K     \u001b[90m━━━━━━━━━━━━━━━━━━━━━━━━━━━━━━━━━━━━━\u001b[0m \u001b[32m508.0/508.0 kB\u001b[0m \u001b[31m119.5 MB/s\u001b[0m eta \u001b[36m0:00:00\u001b[0m\n",
      "\u001b[?25hRequirement already satisfied: six>=1.5 in /root/miniconda3/lib/python3.12/site-packages (from python-dateutil>=2.8.1->pandas==1.5.3) (1.16.0)\n",
      "Building wheels for collected packages: pandas\n",
      "  Building wheel for pandas (pyproject.toml) ... \u001b[?25ldone\n",
      "\u001b[?25h  Created wheel for pandas: filename=pandas-1.5.3-cp312-cp312-linux_x86_64.whl size=11476715 sha256=efe296597cc19757f2d39b2af9ee348fa86f64c6295517afebd61d5fd78b266f\n",
      "  Stored in directory: /root/.cache/pip/wheels/53/12/10/88a2b83c52a66bb1071c84733a74f0dd3b85dc07b98f95e293\n",
      "Successfully built pandas\n",
      "Installing collected packages: pytz, pandas\n",
      "Successfully installed pandas-1.5.3 pytz-2024.2\n",
      "\u001b[33mWARNING: Running pip as the 'root' user can result in broken permissions and conflicting behaviour with the system package manager. It is recommended to use a virtual environment instead: https://pip.pypa.io/warnings/venv\u001b[0m\u001b[33m\n",
      "\u001b[0m"
     ]
    }
   ],
   "source": [
    "!pip install pandas==1.5.3"
   ]
  },
  {
   "cell_type": "code",
   "execution_count": 5,
   "id": "299d5b2c-7209-4caf-b929-3698eaca054d",
   "metadata": {},
   "outputs": [
    {
     "name": "stdout",
     "output_type": "stream",
     "text": [
      "Looking in indexes: http://mirrors.aliyun.com/pypi/simple\n",
      "Collecting pykeen==1.11.0\n",
      "  Downloading http://mirrors.aliyun.com/pypi/packages/da/fd/7a5fff6f74ecd66dae351488d4ef5a9f04c6f3b07dad11ca8df3af7090f5/pykeen-1.11.0-py3-none-any.whl (718 kB)\n",
      "\u001b[2K     \u001b[90m━━━━━━━━━━━━━━━━━━━━━━━━━━━━━━━━━━━━━━━\u001b[0m \u001b[32m718.4/718.4 kB\u001b[0m \u001b[31m9.2 MB/s\u001b[0m eta \u001b[36m0:00:00\u001b[0ma \u001b[36m0:00:01\u001b[0m\n",
      "\u001b[?25hCollecting dataclasses-json (from pykeen==1.11.0)\n",
      "  Downloading http://mirrors.aliyun.com/pypi/packages/c3/be/d0d44e092656fe7a06b55e6103cbce807cdbdee17884a5367c68c9860853/dataclasses_json-0.6.7-py3-none-any.whl (28 kB)\n",
      "Requirement already satisfied: numpy in /root/miniconda3/lib/python3.12/site-packages (from pykeen==1.11.0) (1.26.4)\n",
      "Requirement already satisfied: scipy>=1.7.0 in /root/miniconda3/lib/python3.12/site-packages (from pykeen==1.11.0) (1.13.1)\n",
      "Collecting click (from pykeen==1.11.0)\n",
      "  Downloading http://mirrors.aliyun.com/pypi/packages/7e/d4/7ebdbd03970677812aac39c869717059dbb71a4cfc033ca6e5221787892c/click-8.1.8-py3-none-any.whl (98 kB)\n",
      "\u001b[2K     \u001b[90m━━━━━━━━━━━━━━━━━━━━━━━━━━━━━━━━━━━━━━━━\u001b[0m \u001b[32m98.2/98.2 kB\u001b[0m \u001b[31m51.2 MB/s\u001b[0m eta \u001b[36m0:00:00\u001b[0m\n",
      "\u001b[?25hCollecting click-default-group (from pykeen==1.11.0)\n",
      "  Downloading http://mirrors.aliyun.com/pypi/packages/2c/1a/aff8bb287a4b1400f69e09a53bd65de96aa5cee5691925b38731c67fc695/click_default_group-1.2.4-py2.py3-none-any.whl (4.1 kB)\n",
      "Collecting scikit-learn (from pykeen==1.11.0)\n",
      "  Downloading http://mirrors.aliyun.com/pypi/packages/29/7a/8bce8968883e9465de20be15542f4c7e221952441727c4dad24d534c6d99/scikit_learn-1.6.1-cp312-cp312-manylinux_2_17_x86_64.manylinux2014_x86_64.whl (13.1 MB)\n",
      "\u001b[2K     \u001b[90m━━━━━━━━━━━━━━━━━━━━━━━━━━━━━━━━━━━━━━━━\u001b[0m \u001b[32m13.1/13.1 MB\u001b[0m \u001b[31m25.8 MB/s\u001b[0m eta \u001b[36m0:00:00\u001b[0m00:01\u001b[0m00:01\u001b[0m\n",
      "\u001b[?25hRequirement already satisfied: torch>=2.0 in /root/miniconda3/lib/python3.12/site-packages (from pykeen==1.11.0) (2.5.1+cu124)\n",
      "Requirement already satisfied: tqdm in /root/miniconda3/lib/python3.12/site-packages (from pykeen==1.11.0) (4.66.2)\n",
      "Requirement already satisfied: requests in /root/miniconda3/lib/python3.12/site-packages (from pykeen==1.11.0) (2.31.0)\n",
      "Collecting optuna>=2.0.0 (from pykeen==1.11.0)\n",
      "  Downloading http://mirrors.aliyun.com/pypi/packages/e8/30/35111dae435c640694d616a611b7ff6b2482cfd977f8f572ff960a321d66/optuna-4.1.0-py3-none-any.whl (364 kB)\n",
      "\u001b[2K     \u001b[90m━━━━━━━━━━━━━━━━━━━━━━━━━━━━━━━━━━━━━\u001b[0m \u001b[32m364.4/364.4 kB\u001b[0m \u001b[31m115.5 MB/s\u001b[0m eta \u001b[36m0:00:00\u001b[0m\n",
      "\u001b[?25hRequirement already satisfied: pandas>=1.0.0 in /root/miniconda3/lib/python3.12/site-packages (from pykeen==1.11.0) (1.5.3)\n",
      "Collecting tabulate (from pykeen==1.11.0)\n",
      "  Downloading http://mirrors.aliyun.com/pypi/packages/40/44/4a5f08c96eb108af5cb50b41f76142f0afa346dfa99d5296fe7202a11854/tabulate-0.9.0-py3-none-any.whl (35 kB)\n",
      "Collecting more-click (from pykeen==1.11.0)\n",
      "  Downloading http://mirrors.aliyun.com/pypi/packages/ad/8e/4e25da8883c5d661eaf4225a951046b8f4466e75eadb8594e204550b3179/more_click-0.1.2-py3-none-any.whl (6.7 kB)\n",
      "Collecting more-itertools (from pykeen==1.11.0)\n",
      "  Downloading http://mirrors.aliyun.com/pypi/packages/48/7e/3a64597054a70f7c86eb0a7d4fc315b8c1ab932f64883a297bdffeb5f967/more_itertools-10.5.0-py3-none-any.whl (60 kB)\n",
      "\u001b[2K     \u001b[90m━━━━━━━━━━━━━━━━━━━━━━━━━━━━━━━━━━━━━━━━\u001b[0m \u001b[32m61.0/61.0 kB\u001b[0m \u001b[31m29.3 MB/s\u001b[0m eta \u001b[36m0:00:00\u001b[0m\n",
      "\u001b[?25hCollecting pystow>=0.4.3 (from pykeen==1.11.0)\n",
      "  Downloading http://mirrors.aliyun.com/pypi/packages/86/8f/bf1080bb1240e5e24e58e1b407ec7eb8c4b3360b9e8e54e11092cd2ab7b5/pystow-0.6.1-py3-none-any.whl (38 kB)\n",
      "Collecting docdata (from pykeen==1.11.0)\n",
      "  Downloading http://mirrors.aliyun.com/pypi/packages/21/cf/f801261e6e99e88c454fb9a392b2ae53f093ab00f6821bd3ba19dadcf895/docdata-0.0.4-py3-none-any.whl (9.1 kB)\n",
      "Collecting class-resolver>=0.5.1 (from pykeen==1.11.0)\n",
      "  Downloading http://mirrors.aliyun.com/pypi/packages/ce/a0/5cdcbb4817e940496d957bd1eb515d17b34001559b9d5af0d6fe315f87f4/class_resolver-0.5.4-py3-none-any.whl (29 kB)\n",
      "Requirement already satisfied: pyyaml in /root/miniconda3/lib/python3.12/site-packages (from pykeen==1.11.0) (6.0.2)\n",
      "Collecting torch-max-mem>=0.1.1 (from pykeen==1.11.0)\n",
      "  Downloading http://mirrors.aliyun.com/pypi/packages/1b/5c/7d13deed73e02f71ec418cdd9fd40e4500624fd61bd250bffac589471da1/torch_max_mem-0.1.3-py3-none-any.whl (10 kB)\n",
      "Collecting torch-ppr>=0.0.7 (from pykeen==1.11.0)\n",
      "  Downloading http://mirrors.aliyun.com/pypi/packages/f7/fc/a6fb38cc8ceb04e4bf06cb42d3723261c0fc1e3ae43ef0d7a01fd71e77c3/torch_ppr-0.0.8-py3-none-any.whl (12 kB)\n",
      "Requirement already satisfied: typing-extensions in /root/miniconda3/lib/python3.12/site-packages (from pykeen==1.11.0) (4.12.2)\n",
      "Collecting alembic>=1.5.0 (from optuna>=2.0.0->pykeen==1.11.0)\n",
      "  Downloading http://mirrors.aliyun.com/pypi/packages/cb/06/8b505aea3d77021b18dcbd8133aa1418f1a1e37e432a465b14c46b2c0eaa/alembic-1.14.0-py3-none-any.whl (233 kB)\n",
      "\u001b[2K     \u001b[90m━━━━━━━━━━━━━━━━━━━━━━━━━━━━━━━━━━━━━━\u001b[0m \u001b[32m233.5/233.5 kB\u001b[0m \u001b[31m96.6 MB/s\u001b[0m eta \u001b[36m0:00:00\u001b[0m\n",
      "\u001b[?25hCollecting colorlog (from optuna>=2.0.0->pykeen==1.11.0)\n",
      "  Downloading http://mirrors.aliyun.com/pypi/packages/e3/51/9b208e85196941db2f0654ad0357ca6388ab3ed67efdbfc799f35d1f83aa/colorlog-6.9.0-py3-none-any.whl (11 kB)\n",
      "Requirement already satisfied: packaging>=20.0 in /root/miniconda3/lib/python3.12/site-packages (from optuna>=2.0.0->pykeen==1.11.0) (23.2)\n",
      "Collecting sqlalchemy>=1.4.2 (from optuna>=2.0.0->pykeen==1.11.0)\n",
      "  Downloading http://mirrors.aliyun.com/pypi/packages/3a/ef/5a53a6a60ac5a5d4ed28959317dac1ff72bc16773ccd9b3fe79713fe27f3/SQLAlchemy-2.0.37-cp312-cp312-manylinux_2_17_x86_64.manylinux2014_x86_64.whl (3.3 MB)\n",
      "\u001b[2K     \u001b[90m━━━━━━━━━━━━━━━━━━━━━━━━━━━━━━━━━━━━━━━━\u001b[0m \u001b[32m3.3/3.3 MB\u001b[0m \u001b[31m35.4 MB/s\u001b[0m eta \u001b[36m0:00:00\u001b[0ma \u001b[36m0:00:01\u001b[0m\n",
      "\u001b[?25hRequirement already satisfied: python-dateutil>=2.8.1 in /root/miniconda3/lib/python3.12/site-packages (from pandas>=1.0.0->pykeen==1.11.0) (2.9.0.post0)\n",
      "Requirement already satisfied: pytz>=2020.1 in /root/miniconda3/lib/python3.12/site-packages (from pandas>=1.0.0->pykeen==1.11.0) (2024.2)\n",
      "Requirement already satisfied: filelock in /root/miniconda3/lib/python3.12/site-packages (from torch>=2.0->pykeen==1.11.0) (3.16.1)\n",
      "Requirement already satisfied: networkx in /root/miniconda3/lib/python3.12/site-packages (from torch>=2.0->pykeen==1.11.0) (3.4.2)\n",
      "Requirement already satisfied: jinja2 in /root/miniconda3/lib/python3.12/site-packages (from torch>=2.0->pykeen==1.11.0) (3.1.4)\n",
      "Requirement already satisfied: fsspec in /root/miniconda3/lib/python3.12/site-packages (from torch>=2.0->pykeen==1.11.0) (2024.10.0)\n",
      "Requirement already satisfied: nvidia-cuda-nvrtc-cu12==12.4.127 in /root/miniconda3/lib/python3.12/site-packages (from torch>=2.0->pykeen==1.11.0) (12.4.127)\n",
      "Requirement already satisfied: nvidia-cuda-runtime-cu12==12.4.127 in /root/miniconda3/lib/python3.12/site-packages (from torch>=2.0->pykeen==1.11.0) (12.4.127)\n",
      "Requirement already satisfied: nvidia-cuda-cupti-cu12==12.4.127 in /root/miniconda3/lib/python3.12/site-packages (from torch>=2.0->pykeen==1.11.0) (12.4.127)\n",
      "Requirement already satisfied: nvidia-cudnn-cu12==9.1.0.70 in /root/miniconda3/lib/python3.12/site-packages (from torch>=2.0->pykeen==1.11.0) (9.1.0.70)\n",
      "Requirement already satisfied: nvidia-cublas-cu12==12.4.5.8 in /root/miniconda3/lib/python3.12/site-packages (from torch>=2.0->pykeen==1.11.0) (12.4.5.8)\n",
      "Requirement already satisfied: nvidia-cufft-cu12==11.2.1.3 in /root/miniconda3/lib/python3.12/site-packages (from torch>=2.0->pykeen==1.11.0) (11.2.1.3)\n",
      "Requirement already satisfied: nvidia-curand-cu12==10.3.5.147 in /root/miniconda3/lib/python3.12/site-packages (from torch>=2.0->pykeen==1.11.0) (10.3.5.147)\n",
      "Requirement already satisfied: nvidia-cusolver-cu12==11.6.1.9 in /root/miniconda3/lib/python3.12/site-packages (from torch>=2.0->pykeen==1.11.0) (11.6.1.9)\n",
      "Requirement already satisfied: nvidia-cusparse-cu12==12.3.1.170 in /root/miniconda3/lib/python3.12/site-packages (from torch>=2.0->pykeen==1.11.0) (12.3.1.170)\n",
      "Requirement already satisfied: nvidia-nccl-cu12==2.21.5 in /root/miniconda3/lib/python3.12/site-packages (from torch>=2.0->pykeen==1.11.0) (2.21.5)\n",
      "Requirement already satisfied: nvidia-nvtx-cu12==12.4.127 in /root/miniconda3/lib/python3.12/site-packages (from torch>=2.0->pykeen==1.11.0) (12.4.127)\n",
      "Requirement already satisfied: nvidia-nvjitlink-cu12==12.4.127 in /root/miniconda3/lib/python3.12/site-packages (from torch>=2.0->pykeen==1.11.0) (12.4.127)\n",
      "Requirement already satisfied: triton==3.1.0 in /root/miniconda3/lib/python3.12/site-packages (from torch>=2.0->pykeen==1.11.0) (3.1.0)\n",
      "Requirement already satisfied: setuptools in /root/miniconda3/lib/python3.12/site-packages (from torch>=2.0->pykeen==1.11.0) (69.5.1)\n",
      "Requirement already satisfied: sympy==1.13.1 in /root/miniconda3/lib/python3.12/site-packages (from torch>=2.0->pykeen==1.11.0) (1.13.1)\n",
      "Requirement already satisfied: mpmath<1.4,>=1.1.0 in /root/miniconda3/lib/python3.12/site-packages (from sympy==1.13.1->torch>=2.0->pykeen==1.11.0) (1.3.0)\n",
      "Collecting marshmallow<4.0.0,>=3.18.0 (from dataclasses-json->pykeen==1.11.0)\n",
      "  Downloading http://mirrors.aliyun.com/pypi/packages/8e/25/5b300f0400078d9783fbe44d30fedd849a130fc3aff01f18278c12342b6f/marshmallow-3.25.1-py3-none-any.whl (49 kB)\n",
      "\u001b[2K     \u001b[90m━━━━━━━━━━━━━━━━━━━━━━━━━━━━━━━━━━━━━━━━\u001b[0m \u001b[32m49.6/49.6 kB\u001b[0m \u001b[31m2.9 MB/s\u001b[0m eta \u001b[36m0:00:00\u001b[0m\n",
      "\u001b[?25hCollecting typing-inspect<1,>=0.4.0 (from dataclasses-json->pykeen==1.11.0)\n",
      "  Downloading http://mirrors.aliyun.com/pypi/packages/65/f3/107a22063bf27bdccf2024833d3445f4eea42b2e598abfbd46f6a63b6cb0/typing_inspect-0.9.0-py3-none-any.whl (8.8 kB)\n",
      "Requirement already satisfied: charset-normalizer<4,>=2 in /root/miniconda3/lib/python3.12/site-packages (from requests->pykeen==1.11.0) (2.0.4)\n",
      "Requirement already satisfied: idna<4,>=2.5 in /root/miniconda3/lib/python3.12/site-packages (from requests->pykeen==1.11.0) (3.7)\n",
      "Requirement already satisfied: urllib3<3,>=1.21.1 in /root/miniconda3/lib/python3.12/site-packages (from requests->pykeen==1.11.0) (2.1.0)\n",
      "Requirement already satisfied: certifi>=2017.4.17 in /root/miniconda3/lib/python3.12/site-packages (from requests->pykeen==1.11.0) (2024.2.2)\n",
      "Requirement already satisfied: joblib>=1.2.0 in /root/miniconda3/lib/python3.12/site-packages (from scikit-learn->pykeen==1.11.0) (1.4.2)\n",
      "Collecting threadpoolctl>=3.1.0 (from scikit-learn->pykeen==1.11.0)\n",
      "  Downloading http://mirrors.aliyun.com/pypi/packages/4b/2c/ffbf7a134b9ab11a67b0cf0726453cedd9c5043a4fe7a35d1cefa9a1bcfb/threadpoolctl-3.5.0-py3-none-any.whl (18 kB)\n",
      "Collecting Mako (from alembic>=1.5.0->optuna>=2.0.0->pykeen==1.11.0)\n",
      "  Downloading http://mirrors.aliyun.com/pypi/packages/1e/bf/7a6a36ce2e4cafdfb202752be68850e22607fccd692847c45c1ae3c17ba6/Mako-1.3.8-py3-none-any.whl (78 kB)\n",
      "\u001b[2K     \u001b[90m━━━━━━━━━━━━━━━━━━━━━━━━━━━━━━━━━━━━━━━━\u001b[0m \u001b[32m78.6/78.6 kB\u001b[0m \u001b[31m37.0 MB/s\u001b[0m eta \u001b[36m0:00:00\u001b[0m\n",
      "\u001b[?25hRequirement already satisfied: six>=1.5 in /root/miniconda3/lib/python3.12/site-packages (from python-dateutil>=2.8.1->pandas>=1.0.0->pykeen==1.11.0) (1.16.0)\n",
      "Collecting greenlet!=0.4.17 (from sqlalchemy>=1.4.2->optuna>=2.0.0->pykeen==1.11.0)\n",
      "  Downloading http://mirrors.aliyun.com/pypi/packages/f1/66/033e58a50fd9ec9df00a8671c74f1f3a320564c6415a4ed82a1c651654ba/greenlet-3.1.1-cp312-cp312-manylinux_2_24_x86_64.manylinux_2_28_x86_64.whl (613 kB)\n",
      "\u001b[2K     \u001b[90m━━━━━━━━━━━━━━━━━━━━━━━━━━━━━━━━━━━━━━\u001b[0m \u001b[32m613.1/613.1 kB\u001b[0m \u001b[31m42.6 MB/s\u001b[0m eta \u001b[36m0:00:00\u001b[0m\n",
      "\u001b[?25hCollecting mypy-extensions>=0.3.0 (from typing-inspect<1,>=0.4.0->dataclasses-json->pykeen==1.11.0)\n",
      "  Downloading http://mirrors.aliyun.com/pypi/packages/2a/e2/5d3f6ada4297caebe1a2add3b126fe800c96f56dbe5d1988a2cbe0b267aa/mypy_extensions-1.0.0-py3-none-any.whl (4.7 kB)\n",
      "Requirement already satisfied: MarkupSafe>=2.0 in /root/miniconda3/lib/python3.12/site-packages (from jinja2->torch>=2.0->pykeen==1.11.0) (3.0.2)\n",
      "Installing collected packages: threadpoolctl, tabulate, mypy-extensions, more-itertools, marshmallow, Mako, greenlet, docdata, colorlog, click, class-resolver, typing-inspect, sqlalchemy, scikit-learn, pystow, more-click, click-default-group, dataclasses-json, alembic, torch-max-mem, optuna, torch-ppr, pykeen\n",
      "Successfully installed Mako-1.3.8 alembic-1.14.0 class-resolver-0.5.4 click-8.1.8 click-default-group-1.2.4 colorlog-6.9.0 dataclasses-json-0.6.7 docdata-0.0.4 greenlet-3.1.1 marshmallow-3.25.1 more-click-0.1.2 more-itertools-10.5.0 mypy-extensions-1.0.0 optuna-4.1.0 pykeen-1.11.0 pystow-0.6.1 scikit-learn-1.6.1 sqlalchemy-2.0.37 tabulate-0.9.0 threadpoolctl-3.5.0 torch-max-mem-0.1.3 torch-ppr-0.0.8 typing-inspect-0.9.0\n",
      "\u001b[33mWARNING: Running pip as the 'root' user can result in broken permissions and conflicting behaviour with the system package manager. It is recommended to use a virtual environment instead: https://pip.pypa.io/warnings/venv\u001b[0m\u001b[33m\n",
      "\u001b[0m"
     ]
    }
   ],
   "source": [
    "!pip install pykeen==1.11.0"
   ]
  },
  {
   "cell_type": "code",
   "execution_count": 1,
   "id": "704bd76b-5e63-4e3a-a3a8-a6659cad7738",
   "metadata": {},
   "outputs": [],
   "source": [
    "import numpy as np\n",
    "import pandas as pd\n",
    "from rdflib import Graph, Literal, RDF, URIRef, Namespace\n",
    "import networkx as nx\n",
    "from node2vec import Node2Vec\n",
    "from pykeen.triples import TriplesFactory\n",
    "from pykeen.pipeline import pipeline"
   ]
  },
  {
   "cell_type": "code",
   "execution_count": 2,
   "id": "b690af0f-2b7d-4f3d-8a28-f6f9d1180317",
   "metadata": {},
   "outputs": [],
   "source": [
    "csv_file_path = \"sample_dataset.csv\"\n",
    "rdf_output_path = \"ratings.ttl\"\n",
    "node2vec_output_path = \"node2vec_embeddings.vec\"\n",
    "transe_output_path = \"transe_model\""
   ]
  },
  {
   "cell_type": "code",
   "execution_count": 3,
   "id": "6bd361de-aa98-4be6-85fb-5fffff103d60",
   "metadata": {},
   "outputs": [],
   "source": [
    "def csv_to_rdf(csv_file_path, rdf_output_path):\n",
    "    data = pd.read_csv(csv_file_path)\n",
    "    g = Graph()\n",
    "    EX = Namespace(\"http://example.org/\")\n",
    "    g.bind(\"ex\", EX)\n",
    "    \n",
    "    for _, row in data.iterrows():\n",
    "        user = URIRef(EX[f\"user/{row['User-ID']}\"])\n",
    "        book = URIRef(EX[f\"book/{row['ISBN']}\"])\n",
    "        rating = Literal(row['Book-Rating'])\n",
    "        author = Literal(row['Book-Author'])\n",
    "        title = Literal(row['Book-Title'])\n",
    "\n",
    "        g.add((user, RDF.type, EX.User))\n",
    "        g.add((book, RDF.type, EX.Book))\n",
    "        g.add((user, EX.rated, book))\n",
    "        g.add((book, EX.rating, rating))\n",
    "        g.add((book, EX.author, author))\n",
    "        g.add((book, EX.title, title))\n",
    "    \n",
    "    g.serialize(destination=rdf_output_path, format=\"turtle\")\n",
    "    return rdf_output_path"
   ]
  },
  {
   "cell_type": "code",
   "execution_count": 4,
   "id": "786220c5-4f7e-4518-a31e-cfd95cf5a702",
   "metadata": {},
   "outputs": [],
   "source": [
    "def rdf_to_networkx_optimized(rdf_file, chunk_size=1000):\n",
    "    print(f\"Loading RDF file: {rdf_file}\")\n",
    "    g = Graph()\n",
    "    g.parse(rdf_file, format=\"turtle\")\n",
    "    \n",
    "    print(\"Converting RDF to NetworkX graph...\")\n",
    "    nx_graph = nx.Graph()\n",
    "    count = 0\n",
    "\n",
    "    for subj, pred, obj in g:\n",
    "        nx_graph.add_edge(str(subj), str(obj), relation=str(pred))\n",
    "        count += 1\n",
    "\n",
    "        if count % (chunk_size*10000) == 0:\n",
    "            print(f\"Processed {count} triples...\")\n",
    "    \n",
    "    print(f\"Finished converting {count} triples to NetworkX graph.\")\n",
    "    return nx_graph"
   ]
  },
  {
   "cell_type": "code",
   "execution_count": 5,
   "id": "7535fae4-efa8-4068-8bd5-cd5383481538",
   "metadata": {},
   "outputs": [],
   "source": [
    "from torch_geometric.nn import Node2Vec\n",
    "from torch_geometric.utils import from_networkx\n",
    "import networkx as nx\n",
    "import torch\n",
    "\n",
    "def generate_node2vec_embeddings_torch(nx_graph, output_path, dimensions=32, walk_length=10, num_walks=5, use_gpu=True):\n",
    "    data = from_networkx(nx_graph)\n",
    "    device = torch.device('cuda' if torch.cuda.is_available() and use_gpu else 'cpu')\n",
    "    \n",
    "    context_size = min(10, walk_length)\n",
    "    node2vec = Node2Vec(\n",
    "        edge_index=data.edge_index,\n",
    "        embedding_dim=dimensions,\n",
    "        walk_length=walk_length,\n",
    "        context_size=context_size,\n",
    "        walks_per_node=num_walks,\n",
    "        num_negative_samples=1,\n",
    "        sparse=True\n",
    "    ).to(device)\n",
    "\n",
    "    optimizer = torch.optim.SparseAdam(node2vec.parameters(), lr=0.01)\n",
    "\n",
    "    for epoch in range(1, 101):\n",
    "        optimizer.zero_grad()\n",
    "        # Ensure batch tensor is on CPU\n",
    "        batch = torch.arange(data.num_nodes, device='cpu')  # Force batch to be on CPU\n",
    "        pos_rw = node2vec.pos_sample(batch)  # Positive random walks\n",
    "        neg_rw = node2vec.neg_sample(batch)  # Negative random walks\n",
    "        loss = node2vec.loss(pos_rw.to(device), neg_rw.to(device))  # Compute loss\n",
    "        loss.backward()\n",
    "        optimizer.step()\n",
    "        if epoch % 10 == 0:\n",
    "            print(f'Epoch {epoch}, Loss: {loss.item():.4f}')\n",
    "\n",
    "    embeddings = node2vec.forward()\n",
    "    embeddings = embeddings.cpu().detach().numpy()\n",
    "\n",
    "    with open(output_path, 'w') as f:\n",
    "        f.write(f\"{embeddings.shape[0]} {embeddings.shape[1]}\\n\")\n",
    "        for idx, emb in enumerate(embeddings):\n",
    "            f.write(f\"{idx} \" + \" \".join(map(str, emb)) + \"\\n\")\n",
    "\n",
    "    return output_path"
   ]
  },
  {
   "cell_type": "code",
   "execution_count": 6,
   "id": "5fecacc5-28f2-4b5d-9375-5a3ae856b509",
   "metadata": {},
   "outputs": [],
   "source": [
    "from pykeen.triples import TriplesFactory\n",
    "from pykeen.pipeline import pipeline\n",
    "import numpy as np\n",
    "\n",
    "def train_transe(rdf_file_path, output_path, num_epochs=100):\n",
    "    rdf_graph = Graph()\n",
    "    rdf_graph.parse(rdf_file_path, format=\"turtle\")\n",
    "    \n",
    "    triples = [(str(subj), str(pred), str(obj)) for subj, pred, obj in rdf_graph]\n",
    "    \n",
    "    triples_array = np.array(triples, dtype=object)\n",
    "    if triples_array.ndim != 2 or triples_array.shape[1] != 3:\n",
    "        raise ValueError(\"Triples must be a 2D array with three columns (head, relation, tail).\")\n",
    "    \n",
    "    triples_factory = TriplesFactory.from_labeled_triples(triples=triples_array)\n",
    "    train_factory, test_factory, validation_factory = triples_factory.split([0.8, 0.1, 0.1])\n",
    "    \n",
    "    result = pipeline(\n",
    "        training=train_factory,  \n",
    "        testing=test_factory,    \n",
    "        validation=validation_factory,\n",
    "        model=\"TransE\",\n",
    "        training_kwargs=dict(num_epochs=num_epochs),\n",
    "    )\n",
    "    result.save_to_directory(output_path)\n",
    "    return output_path"
   ]
  },
  {
   "cell_type": "code",
   "execution_count": 17,
   "id": "671cd2d8-b8a5-4bf8-9d82-2023a31685be",
   "metadata": {
    "scrolled": true
   },
   "outputs": [
    {
     "name": "stdout",
     "output_type": "stream",
     "text": [
      "Loading RDF file: ratings.ttl\n",
      "Converting RDF to NetworkX graph...\n",
      "Finished converting 4536108 triples to NetworkX graph.\n"
     ]
    }
   ],
   "source": [
    "if __name__ == \"__main__\":\n",
    "    #print(\"Converting CSV to RDF...\")\n",
    "    #rdf_file = csv_to_rdf(csv_file_path, rdf_output_path)\n",
    "    rdf_file = \"ratings.ttl\"\n",
    "    #print(\"Converting RDF to NetworkX graph...\")\n",
    "    nx_graph = rdf_to_networkx_optimized(rdf_file)"
   ]
  },
  {
   "cell_type": "code",
   "execution_count": 23,
   "id": "ffe77020-4f80-43a2-a6ad-ed9619cbb681",
   "metadata": {},
   "outputs": [
    {
     "name": "stdout",
     "output_type": "stream",
     "text": [
      "Generating Node2Vec embeddings...\n",
      "Epoch 10, Loss: 4.2226\n",
      "Epoch 20, Loss: 3.8044\n",
      "Epoch 30, Loss: 3.3707\n",
      "Epoch 40, Loss: 3.0183\n",
      "Epoch 50, Loss: 2.7139\n",
      "Epoch 60, Loss: 2.4417\n",
      "Epoch 70, Loss: 2.2526\n",
      "Epoch 80, Loss: 2.0895\n",
      "Epoch 90, Loss: 1.9512\n",
      "Epoch 100, Loss: 1.8452\n",
      "Node2Vec embeddings saved to: node2vec_embeddings.vec\n"
     ]
    }
   ],
   "source": [
    "print(\"Generating Node2Vec embeddings...\")\n",
    "G = nx.fast_gnp_random_graph(1000, 0.01)\n",
    "node2vec_file = generate_node2vec_embeddings_torch(G, \"node2vec_embeddings.vec\")\n",
    "print(f\"Node2Vec embeddings saved to: {node2vec_file}\")"
   ]
  },
  {
   "cell_type": "code",
   "execution_count": 24,
   "id": "0f398f52-ea42-46cd-bd9f-4bd3d703f155",
   "metadata": {},
   "outputs": [
    {
     "name": "stdout",
     "output_type": "stream",
     "text": [
      "Loading node embeddings and text data...\n",
      "Generating embeddings for text data...\n",
      "Combining node and text embeddings...\n",
      "Clustering embeddings...\n",
      "Visualizing clusters...\n"
     ]
    },
    {
     "data": {
      "image/png": "[encoded data removed]",
      "text/plain": [
       "<Figure size 1000x800 with 1 Axes>"
      ]
     },
     "metadata": {},
     "output_type": "display_data"
    }
   ],
   "source": [
    "import os\n",
    "import numpy as np\n",
    "from sklearn.cluster import AgglomerativeClustering\n",
    "from sklearn.decomposition import PCA\n",
    "import matplotlib.pyplot as plt\n",
    "from sklearn.preprocessing import LabelEncoder\n",
    "\n",
    "# Limit the number of threads used by multithreading libraries for optimization\n",
    "os.environ[\"OMP_NUM_THREADS\"] = \"1\"\n",
    "os.environ[\"OPENBLAS_NUM_THREADS\"] = \"1\"\n",
    "os.environ[\"MKL_NUM_THREADS\"] = \"1\"\n",
    "os.environ[\"VECLIB_MAXIMUM_THREADS\"] = \"1\"\n",
    "os.environ[\"NUMEXPR_NUM_THREADS\"] = \"1\"\n",
    "\n",
    "def load_embeddings_and_text(vec_file_path):\n",
    "    \"\"\"Load node embeddings and discrete text data\"\"\"\n",
    "    with open(vec_file_path, 'r') as f:\n",
    "        lines = f.readlines()\n",
    "    \n",
    "    node_embeddings = {}\n",
    "    text_data = {}\n",
    "    for line in lines[1:]: \n",
    "        parts = line.strip().split()\n",
    "        node_id = parts[0]\n",
    "        try:\n",
    "            embedding = np.array([float(x) for x in parts[1:]])\n",
    "            node_embeddings[node_id] = embedding\n",
    "        except ValueError:\n",
    "            text_data[node_id] = \" \".join(parts[1:])\n",
    "    return node_embeddings, text_data\n",
    "\n",
    "def generate_embeddings(text_data, embedding_dim=50):\n",
    "    # Map text categories to integers\n",
    "    label_encoder = LabelEncoder()\n",
    "    text_ids = list(text_data.keys())\n",
    "    text_corpus = list(text_data.values())\n",
    "    text_labels = label_encoder.fit_transform(text_corpus)\n",
    "    \n",
    "    # Generate random embeddings for each category\n",
    "    unique_categories = len(label_encoder.classes_)\n",
    "    embedding_matrix = np.random.rand(unique_categories, embedding_dim)\n",
    "    \n",
    "    # Map each text to its corresponding embedding vector\n",
    "    text_embeddings = np.array([embedding_matrix[label] for label in text_labels])\n",
    "    return text_ids, text_embeddings\n",
    "\n",
    "def combine_embeddings_optimized(node_embeddings, text_ids, text_vectors, text_vector_dim):\n",
    "    embeddings = []\n",
    "    numeric_dim = len(next(iter(node_embeddings.values()))) if node_embeddings else 0\n",
    "    max_num_dims = numeric_dim + text_vector_dim\n",
    "\n",
    "    for node_id, numeric_embedding in node_embeddings.items():\n",
    "        try:\n",
    "            if text_vectors is not None and node_id in text_ids:\n",
    "                text_index = text_ids.index(node_id)\n",
    "                text_embedding = text_vectors[text_index]\n",
    "                combined = np.concatenate([numeric_embedding, text_embedding])\n",
    "            else:\n",
    "                combined = np.concatenate([numeric_embedding, np.zeros(max_num_dims - numeric_dim)])\n",
    "            embeddings.append(combined)\n",
    "        except Exception as e:\n",
    "            print(f\"Error processing node {node_id}: {e}\")\n",
    "            continue\n",
    "\n",
    "    max_len = max(len(emb) for emb in embeddings)\n",
    "    embeddings = [np.pad(emb, (0, max_len - len(emb))) for emb in embeddings]\n",
    "    \n",
    "    return np.array(embeddings)\n",
    "\n",
    "def cluster_embeddings(embeddings, num_clusters):\n",
    "    clustering = AgglomerativeClustering(n_clusters=num_clusters)\n",
    "    cluster_labels = clustering.fit_predict(embeddings)\n",
    "    return cluster_labels\n",
    "\n",
    "def visualize_clusters(embeddings, cluster_labels):\n",
    "    pca = PCA(n_components=2)\n",
    "    reduced_embeddings = pca.fit_transform(embeddings)\n",
    "    \n",
    "    plt.figure(figsize=(10, 8))\n",
    "    for cluster_id in np.unique(cluster_labels):\n",
    "        cluster_points = reduced_embeddings[cluster_labels == cluster_id]\n",
    "        plt.scatter(cluster_points[:, 0], cluster_points[:, 1], label=f\"Cluster {cluster_id}\")\n",
    "    \n",
    "    plt.title(\"Node and Text Embeddings Clustering\")\n",
    "    plt.xlabel(\"PCA Component 1\")\n",
    "    plt.ylabel(\"PCA Component 2\")\n",
    "    plt.legend()\n",
    "    plt.show()\n",
    "\n",
    "if __name__ == \"__main__\":\n",
    "    vec_file_path = 'node2vec_embeddings.vec'\n",
    "\n",
    "    print(\"Loading node embeddings and text data...\")\n",
    "    node_embeddings, text_data = load_embeddings_and_text(vec_file_path)\n",
    "\n",
    "    print(\"Generating embeddings for text data...\")\n",
    "    if text_data:\n",
    "        text_ids, text_vectors = generate_embeddings(text_data, embedding_dim=50)\n",
    "    else:\n",
    "        text_ids, text_vectors = [], None\n",
    "\n",
    "    print(\"Combining node and text embeddings...\")\n",
    "    combined_embeddings = combine_embeddings_optimized(node_embeddings, text_ids, text_vectors, text_vector_dim=50)\n",
    "\n",
    "    print(\"Clustering embeddings...\")\n",
    "    num_clusters = 3\n",
    "    cluster_labels = cluster_embeddings(combined_embeddings, num_clusters)\n",
    "\n",
    "    print(\"Visualizing clusters...\")\n",
    "    visualize_clusters(combined_embeddings, cluster_labels)\n"
   ]
  },
  {
   "cell_type": "code",
   "execution_count": 27,
   "id": "f1a5b50a-f62d-4d82-814e-66c855ca63a9",
   "metadata": {},
   "outputs": [],
   "source": [
    "import numpy as np\n",
    "import rdflib\n",
    "from pykeen.pipeline import pipeline\n",
    "from pykeen.triples import TriplesFactory\n",
    "import torch\n",
    "from sklearn.model_selection import train_test_split\n",
    "\n",
    "def load_rdf_as_triples(rdf_file_path):\n",
    "    rdf_graph = rdflib.Graph()\n",
    "    rdf_graph.parse(rdf_file_path, format=\"turtle\") \n",
    "    triples = [(str(subj), str(pred), str(obj)) for subj, pred, obj in rdf_graph]\n",
    "    return triples\n",
    "\n",
    "def train_transe_model_from_rdf_optimized(triples, output_path, num_epochs=10, embedding_dim=50, batch_size=1024):\n",
    "    triples_array = np.array(triples, dtype=str)\n",
    "    triples_factory = TriplesFactory.from_labeled_triples(triples=triples_array)\n",
    "\n",
    "    device = torch.device('cuda' if torch.cuda.is_available() else 'cpu')\n",
    "    print(f\"Using device: {device}\")\n",
    "\n",
    "    train_triples_array, test_triples_array = train_test_split(triples_array, test_size=0.01, random_state=42)\n",
    "    train_triples_factory = TriplesFactory.from_labeled_triples(triples=train_triples_array)\n",
    "    test_triples_factory = TriplesFactory.from_labeled_triples(triples=test_triples_array)\n",
    "\n",
    "    result = pipeline(\n",
    "        training=train_triples_factory,\n",
    "        testing=test_triples_factory,\n",
    "        validation=None,\n",
    "        model=\"TransE\",\n",
    "        model_kwargs=dict(embedding_dim=embedding_dim),\n",
    "        training_kwargs=dict(num_epochs=num_epochs, batch_size=batch_size),\n",
    "        device=device,\n",
    "    )\n",
    "\n",
    "    result.save_to_directory(output_path)\n",
    "\n",
    "    return result, train_triples_factory\n",
    "def predict_top_books(user_id, triples_factory, model_result, top_n=5):\n",
    "\n",
    "    trained_model = model_result.model\n",
    "    entity_to_id = triples_factory.entity_to_id\n",
    "    id_to_entity = {v: k for k, v in entity_to_id.items()}\n",
    "\n",
    "    if user_id not in entity_to_id:\n",
    "        raise ValueError(f\"USER-ID {user_id} does not exist\")\n",
    "\n",
    "    user_embedding = trained_model.entity_representations[0](torch.tensor([entity_to_id[user_id]]))\n",
    "\n",
    "    all_entities = list(entity_to_id.keys())\n",
    "    similarities = []\n",
    "    for entity in all_entities:\n",
    "        if entity.startswith(\"Book-Title\"):\n",
    "            entity_embedding = trained_model.entity_representations[0](torch.tensor([entity_to_id[entity]]))\n",
    "            similarity = -np.linalg.norm(user_embedding.detach().numpy() - entity_embedding.detach().numpy())\n",
    "            similarities.append((entity, similarity))\n",
    "\n",
    "    similarities.sort(key=lambda x: x[1], reverse=True)\n",
    "    top_books = [entity for entity, _ in similarities[:top_n]]\n",
    "    return [id_to_entity[book] for book in top_books]"
   ]
  },
  {
   "cell_type": "code",
   "execution_count": 8,
   "id": "142b71b1-0054-404c-8d6a-abe35d39dff3",
   "metadata": {
    "scrolled": true
   },
   "outputs": [],
   "source": [
    "import torch\n",
    "rdf_file_path = \"ratings.ttl\"\n",
    "triples = load_rdf_as_triples(rdf_file_path)"
   ]
  },
  {
   "cell_type": "code",
   "execution_count": 28,
   "id": "f7c53baa-a19c-4a93-9484-fdeaa92fdf45",
   "metadata": {},
   "outputs": [
    {
     "name": "stdout",
     "output_type": "stream",
     "text": [
      "Using device: cuda\n"
     ]
    },
    {
     "name": "stderr",
     "output_type": "stream",
     "text": [
      "WARNING:pykeen.pipeline.api:No random seed is specified. Setting to 1375151757.\n",
      "INFO:pykeen.pipeline.api:Using device: cuda\n"
     ]
    },
    {
     "data": {
      "application/vnd.jupyter.widget-view+json": {
       "model_id": "b1035a64e5ac41d580c6bb6c53385a56",
       "version_major": 2,
       "version_minor": 0
      },
      "text/plain": [
       "Training epochs on cuda:0:   0%|          | 0/1 [00:00<?, ?epoch/s]"
      ]
     },
     "metadata": {},
     "output_type": "display_data"
    },
    {
     "data": {
      "application/vnd.jupyter.widget-view+json": {
       "model_id": "fd06ae8257d04811af56ab185f0467c9",
       "version_major": 2,
       "version_minor": 0
      },
      "text/plain": [
       "Training batches on cuda:0:   0%|          | 0/4386 [00:00<?, ?batch/s]"
      ]
     },
     "metadata": {},
     "output_type": "display_data"
    },
    {
     "data": {
      "application/vnd.jupyter.widget-view+json": {
       "model_id": "6c7500a3322c4badbf5958d7846c13e2",
       "version_major": 2,
       "version_minor": 0
      },
      "text/plain": [
       "Evaluating on cuda:0:   0%|          | 0.00/45.4k [00:00<?, ?triple/s]"
      ]
     },
     "metadata": {},
     "output_type": "display_data"
    },
    {
     "name": "stderr",
     "output_type": "stream",
     "text": [
      "INFO:pykeen.evaluation.evaluator:Evaluation took 145.81s seconds\n",
      "INFO:pykeen.triples.triples_factory:Stored TriplesFactory(num_entities=1562946, num_relations=6, create_inverse_triples=False, num_triples=4490746) to file:///autodl-fs/data/transe_model_output/training_triples\n",
      "INFO:pykeen.pipeline.api:Saved to directory: /autodl-fs/data/transe_model_output\n"
     ]
    }
   ],
   "source": [
    "if __name__ == \"__main__\":\n",
    "    device = \"cuda\" if torch.cuda.is_available() else \"cpu\"\n",
    "\n",
    "    transe_output_path = \"transe_model_output\" \n",
    "    user_id = \"108759\" \n",
    "    top_n = 5\n",
    "\n",
    "    transe_result, trained_triples_factory = train_transe_model_from_rdf_optimized(\n",
    "        triples, transe_output_path, num_epochs=1 #Change here to use more epochs\n",
    "    )"
   ]
  },
  {
   "cell_type": "code",
   "execution_count": 35,
   "id": "f9119e93-d349-4fab-a876-95407a73ad44",
   "metadata": {},
   "outputs": [
    {
     "name": "stdout",
     "output_type": "stream",
     "text": [
      "Converting triples to a triples factory...\n",
      "Loading pre-trained TransE model...\n"
     ]
    },
    {
     "name": "stderr",
     "output_type": "stream",
     "text": [
      "/tmp/ipykernel_1173/678276059.py:8: FutureWarning: You are using `torch.load` with `weights_only=False` (the current default value), which uses the default pickle module implicitly. It is possible to construct malicious pickle data which will execute arbitrary code during unpickling (See https://github.com/pytorch/pytorch/blob/main/SECURITY.md#untrusted-models for more details). In a future release, the default value for `weights_only` will be flipped to `True`. This limits the functions that could be executed during unpickling. Arbitrary objects will no longer be allowed to be loaded via this mode unless they are explicitly allowlisted by the user via `torch.serialization.add_safe_globals`. We recommend you start setting `weights_only=True` for any use case where you don't have full control of the loaded file. Please open an issue on GitHub for any issues related to this experimental feature.\n",
      "  model = torch.load(model_path, map_location=torch.device('cpu'))\n"
     ]
    },
    {
     "name": "stdout",
     "output_type": "stream",
     "text": [
      "Predicting top 5 books for user http://example.org/user_100004...\n",
      "Predicting top books for user: http://example.org/user_100004\n",
      "Top 5 recommended books for user http://example.org/user_100004:\n",
      "1. http://example.org/book_037540600X\n",
      "2. http://example.org/book_0801978246\n",
      "3. http://example.org/book_3827311454\n",
      "4. http://example.org/book_9879423224\n",
      "5. http://example.org/book_0760704546\n"
     ]
    }
   ],
   "source": [
    "import numpy as np\n",
    "from pykeen.triples import TriplesFactory\n",
    "import torch\n",
    "import os\n",
    "\n",
    "def load_transe_model(model_directory):\n",
    "    model_path = os.path.join(model_directory, \"trained_model.pkl\")\n",
    "    model = torch.load(model_path, map_location=torch.device('cpu'))\n",
    "    return model\n",
    "\n",
    "def predict_top_books(user_id, triples_factory, model, top_n=5):\n",
    "    print(f\"Predicting top books for user: {user_id}\")\n",
    "    entity_embeddings = model.entity_representations[0]\n",
    "    all_entities = list(triples_factory.entity_to_id.keys())\n",
    "    \n",
    "    if user_id not in triples_factory.entity_to_id:\n",
    "        raise ValueError(f\"User ID {user_id} not found in the entity set!\")\n",
    "    \n",
    "    user_idx = triples_factory.entity_to_id[user_id]\n",
    "    user_embedding = entity_embeddings(torch.tensor(user_idx)).detach().numpy()\n",
    "    \n",
    "    similarities = []\n",
    "    for entity in all_entities:\n",
    "        if \"book\" in entity:  # Ensure only books are considered\n",
    "            entity_idx = triples_factory.entity_to_id[entity]\n",
    "            entity_embedding = entity_embeddings(torch.tensor(entity_idx)).detach().numpy()\n",
    "            similarity = -((user_embedding - entity_embedding) ** 2).sum()\n",
    "            similarities.append((entity, similarity))\n",
    "    \n",
    "    similarities = sorted(similarities, key=lambda x: x[1], reverse=True)\n",
    "    return [entity for entity, _ in similarities[:top_n]]\n",
    "\n",
    "# Main script\n",
    "if __name__ == \"__main__\":\n",
    "    model_path = \"transe_model_output\"  # Directory containing the trained model\n",
    "    \n",
    "    # Assume `triples` is already loaded\n",
    "    print(\"Converting triples to a triples factory...\")\n",
    "    triples_array = np.array([[s, p, o] for s, p, o in triples], dtype=str)\n",
    "    triples_factory = TriplesFactory.from_labeled_triples(triples=triples_array)\n",
    "    \n",
    "    # Load the pre-trained TransE model\n",
    "    print(\"Loading pre-trained TransE model...\")\n",
    "    transe_model = load_transe_model(model_path)\n",
    "    \n",
    "    # Predict for a specific user\n",
    "    user_id = \"http://example.org/user_100004\"\n",
    "    top_n = 5\n",
    "    recommended_books = predict_top_books(user_id, triples_factory, transe_model, top_n=top_n)\n",
    "    \n",
    "    print(f\"Top {top_n} recommended books for user {user_id}:\")\n",
    "    for idx, book in enumerate(recommended_books, 1):\n",
    "        print(f\"{idx}. {book}\")"
   ]
  },
  {
   "cell_type": "code",
   "execution_count": null,
   "id": "37b071c3-f415-4918-912a-fa7f3ca596a9",
   "metadata": {},
   "outputs": [],
   "source": []
  }
 ],
 "metadata": {
  "kernelspec": {
   "display_name": "Python 3 (ipykernel)",
   "language": "python",
   "name": "python3"
  },
  "language_info": {
   "codemirror_mode": {
    "name": "ipython",
    "version": 3
   },
   "file_extension": ".py",
   "mimetype": "text/x-python",
   "name": "python",
   "nbconvert_exporter": "python",
   "pygments_lexer": "ipython3",
   "version": "3.12.3"
  }
 },
 "nbformat": 4,
 "nbformat_minor": 5
}
