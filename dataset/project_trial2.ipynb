{
 "cells": [
  {
   "cell_type": "code",
   "execution_count": null,
   "metadata": {},
   "outputs": [],
   "source": [
    "!pip install rdflib\n",
    "!pip install owlrl"
   ]
  },
  {
   "cell_type": "code",
   "execution_count": 2,
   "metadata": {},
   "outputs": [],
   "source": [
    "import pandas as pd\n",
    "import re\n",
    "import rdflib\n",
    "from rdflib import Graph, Literal, Namespace, RDF, RDFS, OWL, URIRef\n",
    "from rdflib.namespace import XSD, FOAF"
   ]
  },
  {
   "cell_type": "code",
   "execution_count": null,
   "metadata": {},
   "outputs": [],
   "source": [
    "# Load Data\n",
    "books = pd.read_csv(\"Books.csv\")\n",
    "ratings = pd.read_csv(\"Ratings.csv\")\n",
    "users = pd.read_csv(\"Users.csv\")"
   ]
  },
  {
   "cell_type": "code",
   "execution_count": null,
   "metadata": {},
   "outputs": [],
   "source": [
    "books.head()"
   ]
  },
  {
   "cell_type": "code",
   "execution_count": null,
   "metadata": {},
   "outputs": [],
   "source": [
    "books.info()"
   ]
  },
  {
   "cell_type": "code",
   "execution_count": null,
   "metadata": {},
   "outputs": [],
   "source": [
    "ratings.head()"
   ]
  },
  {
   "cell_type": "code",
   "execution_count": null,
   "metadata": {},
   "outputs": [],
   "source": [
    "ratings.info()"
   ]
  },
  {
   "cell_type": "code",
   "execution_count": null,
   "metadata": {},
   "outputs": [],
   "source": [
    "users.head()"
   ]
  },
  {
   "cell_type": "code",
   "execution_count": null,
   "metadata": {},
   "outputs": [],
   "source": [
    "users.info()"
   ]
  },
  {
   "cell_type": "code",
   "execution_count": null,
   "metadata": {},
   "outputs": [],
   "source": [
    "# Size of datasets\n",
    "\n",
    "print(f'''\\t  Size of books data is {books.shape}\n",
    "          Size of ratings data is {ratings.shape}\n",
    "          Size of users data is {users.shape}''')"
   ]
  },
  {
   "cell_type": "code",
   "execution_count": null,
   "metadata": {},
   "outputs": [],
   "source": [
    "# Checking duplicates in datasets using duplicated method of dataframe.\n",
    "\n",
    "print(f'''\\t  Duplicates in books data is {books.duplicated().sum()}\n",
    "          Duplicates in ratings data is {ratings.duplicated().sum()}\n",
    "          Duplicates in users data is {users.duplicated().sum()}''')"
   ]
  },
  {
   "cell_type": "code",
   "execution_count": 12,
   "metadata": {},
   "outputs": [],
   "source": [
    "# A function to get the missing values count and it's percentage\n",
    "def missing_values(df):\n",
    "  \"\"\"\n",
    "  Description : This function takes a data frame as an input and gives missing value count and its percentage as an output\n",
    "  function_name : missing_values\n",
    "  Argument : dataframe.\n",
    "  Return : dataframe\n",
    "  \n",
    "  \"\"\"\n",
    "  miss = df.isnull().sum() # finding the missing values.\n",
    "  \n",
    "  per = df.isnull().mean() # finding mean/ Average of missing values.\n",
    "  df = pd.concat([miss,per*100],keys = ['Missing_Values','Percentage'], axis = 1) # concatenating both of them using concat method of pandas module.\n",
    "  return df # returning dataframe"
   ]
  },
  {
   "cell_type": "code",
   "execution_count": null,
   "metadata": {},
   "outputs": [],
   "source": [
    "''' STEP 1: CLEANING OF BOOKS'''\n",
    "books.describe()"
   ]
  },
  {
   "cell_type": "code",
   "execution_count": null,
   "metadata": {},
   "outputs": [],
   "source": [
    "missing_values(books)"
   ]
  },
  {
   "cell_type": "code",
   "execution_count": null,
   "metadata": {},
   "outputs": [],
   "source": [
    "# Remove duplicates\n",
    "books.drop_duplicates(inplace=True)\n",
    "# Drop rows with 'unknown' ISBN or Book_Title\n",
    "books.drop(books[books['ISBN'].str.lower() == 'unknown'].index, inplace=True)\n",
    "books.drop(books[books['Book_Title'].str.lower() == 'unknown'].index, inplace=True)\n",
    "# Clean ISBN column: remove invalid characters and spaces\n",
    "books['ISBN'] = books['ISBN'].astype(str).apply(lambda x: re.sub(r'[^a-zA-Z0-9]', '', x).strip())\n",
    "\n",
    "# Ensure the Year_Of_Publication is numeric and valid\n",
    "books['Year_Of_Publication'] = pd.to_numeric(books['Year_Of_Publication'], errors='coerce').fillna(0).astype(int)\n",
    "books.loc[(books['Year_Of_Publication'] < 1000) | (books['Year_Of_Publication']>2024), 'Year_Of_Publication'] = None  # Remove invalid years\n",
    "books['Year_Of_Publication'] = pd.to_numeric(books['Year_Of_Publication'], errors='coerce').fillna(0000).astype(int)\n",
    "# Fill null values for critical fields\n",
    "books['Publisher'] = books['Publisher'].fillna('Unknown')\n",
    "books['Book_Author'] = books['Book_Author'].fillna('Unknown')\n",
    "\n",
    "# Drop unused columns\n",
    "books = books.drop(columns=['Image_URL_S', 'Image_URL_M', 'Image_URL_L'], axis=1) # these columns are not relevant for our reccomendation system\n",
    "\n",
    "books.info()"
   ]
  },
  {
   "cell_type": "code",
   "execution_count": null,
   "metadata": {},
   "outputs": [],
   "source": [
    "books['Year_Of_Publication'].unique()"
   ]
  },
  {
   "cell_type": "code",
   "execution_count": null,
   "metadata": {},
   "outputs": [],
   "source": [
    "''' STEP 2: CLEANING OF RATINGS'''\n",
    "ratings.describe()"
   ]
  },
  {
   "cell_type": "code",
   "execution_count": null,
   "metadata": {},
   "outputs": [],
   "source": [
    "ratings.head()"
   ]
  },
  {
   "cell_type": "code",
   "execution_count": null,
   "metadata": {},
   "outputs": [],
   "source": [
    "ratings.info()"
   ]
  },
  {
   "cell_type": "code",
   "execution_count": null,
   "metadata": {},
   "outputs": [],
   "source": [
    "ratings.describe(include = 'O')"
   ]
  },
  {
   "cell_type": "code",
   "execution_count": 21,
   "metadata": {},
   "outputs": [],
   "source": [
    "# similar to books, we will remove duplicates and clean the ISBN column\n",
    "ratings.drop_duplicates(inplace=True)\n",
    "ratings.drop(ratings[ratings['ISBN'].str.lower() == 'unknown'].index, inplace=True)\n",
    "ratings['ISBN'] = ratings['ISBN'].astype(str).apply(lambda x: re.sub(r'[^a-zA-Z0-9]', '', x).strip())"
   ]
  },
  {
   "cell_type": "code",
   "execution_count": null,
   "metadata": {},
   "outputs": [],
   "source": [
    "''' STEP 3: CLEANING OF USERS'''\n",
    "users.describe()"
   ]
  },
  {
   "cell_type": "code",
   "execution_count": null,
   "metadata": {},
   "outputs": [],
   "source": [
    "users.info()"
   ]
  },
  {
   "cell_type": "code",
   "execution_count": 24,
   "metadata": {},
   "outputs": [],
   "source": [
    "users['Age'] = pd.to_numeric(users['Age'], errors='coerce').fillna(-1).astype(int)"
   ]
  },
  {
   "cell_type": "code",
   "execution_count": null,
   "metadata": {},
   "outputs": [],
   "source": [
    "# Ontology IRI\n",
    "ONTOLOGY_IRI = \"http://www.semanticweb.org/alexanderanderson/ontologies/bookOntology/\"\n",
    "\n",
    "# Define Namespaces\n",
    "EX = Namespace(ONTOLOGY_IRI)\n",
    "OWL_NS = OWL\n",
    "RDFS_NS = RDFS\n",
    "FOAF_NS = FOAF\n",
    "\n",
    "# Initialize RDF Graph\n",
    "g = Graph()\n",
    "g.bind(\"ex\", EX)\n",
    "g.bind(\"owl\", OWL_NS)\n",
    "g.bind(\"rdfs\", RDFS_NS)\n",
    "g.bind(\"foaf\", FOAF_NS)\n",
    "\n",
    "# Define Classes\n",
    "BOOK_CLASS = URIRef(EX.Novel)\n",
    "USER_CLASS = URIRef(EX.User)\n",
    "RATING_CLASS = URIRef(EX.Rating)\n",
    "\n",
    "# Add Classes to the Graph\n",
    "g.add((BOOK_CLASS, RDF.type, OWL.Class))\n",
    "g.add((USER_CLASS, RDF.type, OWL.Class))\n",
    "g.add((RATING_CLASS, RDF.type, OWL.Class))\n",
    "\n",
    "# Subclass Example\n",
    "g.add((RATING_CLASS, RDFS.subClassOf, OWL_NS.Thing))  # Rating is a subclass of Thing\n",
    "\n",
    "# Define Object and Datatype Properties with Axioms\n",
    "RATED_PROPERTY = URIRef(EX.rated)\n",
    "RATING_PROPERTY = URIRef(EX.rating)\n",
    "AUTHOR_PROPERTY = URIRef(EX.author)\n",
    "PUBLISHER_PROPERTY = URIRef(EX.publisher)\n",
    "YEAR_PROPERTY = URIRef(EX.publicationYear)\n",
    "LOCATION_PROPERTY = URIRef(EX.location)\n",
    "SELF_RATED_PROPERTY = URIRef(EX.selfRated)\n",
    "\n",
    "# Object Properties\n",
    "g.add((RATED_PROPERTY, RDF.type, OWL.ObjectProperty))\n",
    "g.add((RATED_PROPERTY, RDFS.domain, USER_CLASS))\n",
    "g.add((RATED_PROPERTY, RDFS.range, BOOK_CLASS))\n",
    "g.add((RATED_PROPERTY, RDF.type, OWL.SymmetricProperty))\n",
    "g.add((RATED_PROPERTY, RDF.type, OWL.TransitiveProperty))\n",
    "\n",
    "# Reflexive Property\n",
    "g.add((SELF_RATED_PROPERTY, RDF.type, OWL.ReflexiveProperty))\n",
    "g.add((SELF_RATED_PROPERTY, RDFS.domain, USER_CLASS))\n",
    "g.add((SELF_RATED_PROPERTY, RDFS.range, USER_CLASS))\n",
    "\n",
    "# Datatype Properties\n",
    "g.add((RATING_PROPERTY, RDF.type, OWL.DatatypeProperty))\n",
    "g.add((RATING_PROPERTY, RDFS.domain, USER_CLASS))\n",
    "g.add((RATING_PROPERTY, RDFS.range, XSD.integer))\n",
    "\n",
    "g.add((AUTHOR_PROPERTY, RDF.type, OWL.DatatypeProperty))\n",
    "g.add((AUTHOR_PROPERTY, RDFS.domain, BOOK_CLASS))\n",
    "g.add((AUTHOR_PROPERTY, RDFS.range, XSD.string))\n",
    "\n",
    "g.add((PUBLISHER_PROPERTY, RDF.type, OWL.DatatypeProperty))\n",
    "g.add((PUBLISHER_PROPERTY, RDFS.domain, BOOK_CLASS))\n",
    "g.add((PUBLISHER_PROPERTY, RDFS.range, XSD.string))\n",
    "\n",
    "g.add((YEAR_PROPERTY, RDF.type, OWL.DatatypeProperty))\n",
    "g.add((YEAR_PROPERTY, RDFS.domain, BOOK_CLASS))\n",
    "g.add((YEAR_PROPERTY, RDFS.range, XSD.gYear))\n",
    "\n",
    "g.add((LOCATION_PROPERTY, RDF.type, OWL.DatatypeProperty))\n",
    "g.add((LOCATION_PROPERTY, RDFS.domain, USER_CLASS))\n",
    "g.add((LOCATION_PROPERTY, RDFS.range, XSD.string))\n",
    "\n",
    "\n"
   ]
  },
  {
   "cell_type": "code",
   "execution_count": 26,
   "metadata": {},
   "outputs": [],
   "source": [
    "# Add Books to the Graph\n",
    "for _, row in books.iterrows():\n",
    "    book_uri = URIRef(EX[f\"Book_{row['ISBN']}\"])\n",
    "    g.add((book_uri, RDF.type, BOOK_CLASS))\n",
    "    g.add((book_uri, RDFS.label, Literal(row['Book_Title'], lang=\"en\")))\n",
    "    g.add((book_uri, AUTHOR_PROPERTY, Literal(row['Book_Author'])))\n",
    "    g.add((book_uri, PUBLISHER_PROPERTY, Literal(row['Publisher'])))\n",
    "    g.add((book_uri, YEAR_PROPERTY, Literal(row['Year_Of_Publication'], datatype=XSD.gYear)))\n",
    "\n"
   ]
  },
  {
   "cell_type": "code",
   "execution_count": 27,
   "metadata": {},
   "outputs": [],
   "source": [
    "# Add Users to the Graph\n",
    "for _, row in users.iterrows():\n",
    "    user_uri = URIRef(EX[f\"User_{row['User-ID']}\"])\n",
    "    g.add((user_uri, RDF.type, USER_CLASS))\n",
    "    g.add((user_uri, FOAF.name, Literal(f\"User_{row['User-ID']}\")))\n",
    "    g.add((user_uri, LOCATION_PROPERTY, Literal(row['Location'])))\n",
    "    if row['Age'] > 0:\n",
    "        g.add((user_uri, FOAF.age, Literal(row['Age'], datatype=XSD.integer)))\n",
    "    g.add((user_uri, SELF_RATED_PROPERTY, user_uri))  # Reflexive property\n"
   ]
  },
  {
   "cell_type": "code",
   "execution_count": null,
   "metadata": {},
   "outputs": [],
   "source": [
    "# Add Ratings to the Graph\n",
    "for _, row in ratings.iterrows():\n",
    "    user_uri = URIRef(EX[f\"User_{row['User-ID']}\"])\n",
    "    book_uri = URIRef(EX[f\"Book_{row['ISBN']}\"])\n",
    "    g.add((user_uri, RATED_PROPERTY, book_uri))\n",
    "    g.add((user_uri, RATING_PROPERTY, Literal(row['Book-Rating'], datatype=XSD.integer)))\n",
    "\n",
    "# Apply OWL Reasoning\n",
    "import owlrl\n",
    "owlrl.DeductiveClosure(owlrl.OWLRL_Semantics).expand(g)"
   ]
  },
  {
   "cell_type": "code",
   "execution_count": null,
   "metadata": {},
   "outputs": [],
   "source": [
    "# Serialize the RDF graph to Turtle format\n",
    "ttl_file = 'bookData2.ttl'\n",
    "g.serialize(destination=ttl_file, format='turtle')\n",
    "\n",
    "print(f\"RDF data has been successfully converted and stored in {ttl_file}\")"
   ]
  },
  {
   "cell_type": "code",
   "execution_count": null,
   "metadata": {},
   "outputs": [],
   "source": []
  }
 ],
 "metadata": {
  "kernelspec": {
   "display_name": "Python 3",
   "language": "python",
   "name": "python3"
  },
  "language_info": {
   "codemirror_mode": {
    "name": "ipython",
    "version": 3
   },
   "file_extension": ".py",
   "mimetype": "text/x-python",
   "name": "python",
   "nbconvert_exporter": "python",
   "pygments_lexer": "ipython3",
   "version": "3.12.3"
  }
 },
 "nbformat": 4,
 "nbformat_minor": 2
}
