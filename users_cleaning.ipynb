{
  "cells": [
    {
      "cell_type": "markdown",
      "metadata": {
        "id": "view-in-github",
        "colab_type": "text"
      },
      "source": [
        "<a href=\"https://colab.research.google.com/github/sof1a03/KDE-group6/blob/main/users_cleaning.ipynb\" target=\"_parent\"><img src=\"https://colab.research.google.com/assets/colab-badge.svg\" alt=\"Open In Colab\"/></a>"
      ]
    },
    {
      "cell_type": "code",
      "execution_count": 1,
      "metadata": {
        "id": "8P4-iGHfwBZm"
      },
      "outputs": [],
      "source": [
        "import pandas as pd\n",
        "import re\n",
        "import numpy as np\n",
        "import matplotlib.pyplot as plt\n",
        "import seaborn as sns"
      ]
    },
    {
      "cell_type": "code",
      "execution_count": 2,
      "metadata": {
        "id": "E0ZthicNwBZs"
      },
      "outputs": [],
      "source": [
        "# A function to get the missing values count and it's percentage\n",
        "def missing_values(df):\n",
        "  \"\"\"\n",
        "  Description : This function takes a data frame as an input and gives missing value count and its percentage as an output\n",
        "  \"\"\"\n",
        "  miss = df.isnull().sum() # finding the missing values.\n",
        "  per = df.isnull().mean() # finding mean/ Average of missing values.\n",
        "  df = pd.concat([miss,per*100],keys = ['Missing_Values','Percentage'], axis = 1) # concatenating both of them using concat method of pandas module.\n",
        "  return df # returning dataframe"
      ]
    },
    {
      "cell_type": "code",
      "execution_count": 3,
      "metadata": {
        "id": "irySnFAdwBZo"
      },
      "outputs": [],
      "source": [
        "users = pd.read_csv(\"Users.csv\")"
      ]
    },
    {
      "cell_type": "code",
      "execution_count": 4,
      "metadata": {
        "colab": {
          "base_uri": "https://localhost:8080/",
          "height": 206
        },
        "id": "1w6COWt7wBZq",
        "outputId": "3c92f00c-ebe9-404a-a42b-e485a953e25a"
      },
      "outputs": [
        {
          "output_type": "execute_result",
          "data": {
            "text/plain": [
              "   User-ID                            Location   Age\n",
              "0        1                  nyc, new york, usa   NaN\n",
              "1        2           stockton, california, usa  18.0\n",
              "2        3     moscow, yukon territory, russia   NaN\n",
              "3        4           porto, v.n.gaia, portugal  17.0\n",
              "4        5  farnborough, hants, united kingdom   NaN"
            ],
            "text/html": [
              "\n",
              "  <div id=\"df-f7b0b37b-8117-45e5-8941-99d873d961e3\" class=\"colab-df-container\">\n",
              "    <div>\n",
              "<style scoped>\n",
              "    .dataframe tbody tr th:only-of-type {\n",
              "        vertical-align: middle;\n",
              "    }\n",
              "\n",
              "    .dataframe tbody tr th {\n",
              "        vertical-align: top;\n",
              "    }\n",
              "\n",
              "    .dataframe thead th {\n",
              "        text-align: right;\n",
              "    }\n",
              "</style>\n",
              "<table border=\"1\" class=\"dataframe\">\n",
              "  <thead>\n",
              "    <tr style=\"text-align: right;\">\n",
              "      <th></th>\n",
              "      <th>User-ID</th>\n",
              "      <th>Location</th>\n",
              "      <th>Age</th>\n",
              "    </tr>\n",
              "  </thead>\n",
              "  <tbody>\n",
              "    <tr>\n",
              "      <th>0</th>\n",
              "      <td>1</td>\n",
              "      <td>nyc, new york, usa</td>\n",
              "      <td>NaN</td>\n",
              "    </tr>\n",
              "    <tr>\n",
              "      <th>1</th>\n",
              "      <td>2</td>\n",
              "      <td>stockton, california, usa</td>\n",
              "      <td>18.0</td>\n",
              "    </tr>\n",
              "    <tr>\n",
              "      <th>2</th>\n",
              "      <td>3</td>\n",
              "      <td>moscow, yukon territory, russia</td>\n",
              "      <td>NaN</td>\n",
              "    </tr>\n",
              "    <tr>\n",
              "      <th>3</th>\n",
              "      <td>4</td>\n",
              "      <td>porto, v.n.gaia, portugal</td>\n",
              "      <td>17.0</td>\n",
              "    </tr>\n",
              "    <tr>\n",
              "      <th>4</th>\n",
              "      <td>5</td>\n",
              "      <td>farnborough, hants, united kingdom</td>\n",
              "      <td>NaN</td>\n",
              "    </tr>\n",
              "  </tbody>\n",
              "</table>\n",
              "</div>\n",
              "    <div class=\"colab-df-buttons\">\n",
              "\n",
              "  <div class=\"colab-df-container\">\n",
              "    <button class=\"colab-df-convert\" onclick=\"convertToInteractive('df-f7b0b37b-8117-45e5-8941-99d873d961e3')\"\n",
              "            title=\"Convert this dataframe to an interactive table.\"\n",
              "            style=\"display:none;\">\n",
              "\n",
              "  <svg xmlns=\"http://www.w3.org/2000/svg\" height=\"24px\" viewBox=\"0 -960 960 960\">\n",
              "    <path d=\"M120-120v-720h720v720H120Zm60-500h600v-160H180v160Zm220 220h160v-160H400v160Zm0 220h160v-160H400v160ZM180-400h160v-160H180v160Zm440 0h160v-160H620v160ZM180-180h160v-160H180v160Zm440 0h160v-160H620v160Z\"/>\n",
              "  </svg>\n",
              "    </button>\n",
              "\n",
              "  <style>\n",
              "    .colab-df-container {\n",
              "      display:flex;\n",
              "      gap: 12px;\n",
              "    }\n",
              "\n",
              "    .colab-df-convert {\n",
              "      background-color: #E8F0FE;\n",
              "      border: none;\n",
              "      border-radius: 50%;\n",
              "      cursor: pointer;\n",
              "      display: none;\n",
              "      fill: #1967D2;\n",
              "      height: 32px;\n",
              "      padding: 0 0 0 0;\n",
              "      width: 32px;\n",
              "    }\n",
              "\n",
              "    .colab-df-convert:hover {\n",
              "      background-color: #E2EBFA;\n",
              "      box-shadow: 0px 1px 2px rgba(60, 64, 67, 0.3), 0px 1px 3px 1px rgba(60, 64, 67, 0.15);\n",
              "      fill: #174EA6;\n",
              "    }\n",
              "\n",
              "    .colab-df-buttons div {\n",
              "      margin-bottom: 4px;\n",
              "    }\n",
              "\n",
              "    [theme=dark] .colab-df-convert {\n",
              "      background-color: #3B4455;\n",
              "      fill: #D2E3FC;\n",
              "    }\n",
              "\n",
              "    [theme=dark] .colab-df-convert:hover {\n",
              "      background-color: #434B5C;\n",
              "      box-shadow: 0px 1px 3px 1px rgba(0, 0, 0, 0.15);\n",
              "      filter: drop-shadow(0px 1px 2px rgba(0, 0, 0, 0.3));\n",
              "      fill: #FFFFFF;\n",
              "    }\n",
              "  </style>\n",
              "\n",
              "    <script>\n",
              "      const buttonEl =\n",
              "        document.querySelector('#df-f7b0b37b-8117-45e5-8941-99d873d961e3 button.colab-df-convert');\n",
              "      buttonEl.style.display =\n",
              "        google.colab.kernel.accessAllowed ? 'block' : 'none';\n",
              "\n",
              "      async function convertToInteractive(key) {\n",
              "        const element = document.querySelector('#df-f7b0b37b-8117-45e5-8941-99d873d961e3');\n",
              "        const dataTable =\n",
              "          await google.colab.kernel.invokeFunction('convertToInteractive',\n",
              "                                                    [key], {});\n",
              "        if (!dataTable) return;\n",
              "\n",
              "        const docLinkHtml = 'Like what you see? Visit the ' +\n",
              "          '<a target=\"_blank\" href=https://colab.research.google.com/notebooks/data_table.ipynb>data table notebook</a>'\n",
              "          + ' to learn more about interactive tables.';\n",
              "        element.innerHTML = '';\n",
              "        dataTable['output_type'] = 'display_data';\n",
              "        await google.colab.output.renderOutput(dataTable, element);\n",
              "        const docLink = document.createElement('div');\n",
              "        docLink.innerHTML = docLinkHtml;\n",
              "        element.appendChild(docLink);\n",
              "      }\n",
              "    </script>\n",
              "  </div>\n",
              "\n",
              "\n",
              "<div id=\"df-cd74511d-af79-45e8-957c-eaadf68c2fb3\">\n",
              "  <button class=\"colab-df-quickchart\" onclick=\"quickchart('df-cd74511d-af79-45e8-957c-eaadf68c2fb3')\"\n",
              "            title=\"Suggest charts\"\n",
              "            style=\"display:none;\">\n",
              "\n",
              "<svg xmlns=\"http://www.w3.org/2000/svg\" height=\"24px\"viewBox=\"0 0 24 24\"\n",
              "     width=\"24px\">\n",
              "    <g>\n",
              "        <path d=\"M19 3H5c-1.1 0-2 .9-2 2v14c0 1.1.9 2 2 2h14c1.1 0 2-.9 2-2V5c0-1.1-.9-2-2-2zM9 17H7v-7h2v7zm4 0h-2V7h2v10zm4 0h-2v-4h2v4z\"/>\n",
              "    </g>\n",
              "</svg>\n",
              "  </button>\n",
              "\n",
              "<style>\n",
              "  .colab-df-quickchart {\n",
              "      --bg-color: #E8F0FE;\n",
              "      --fill-color: #1967D2;\n",
              "      --hover-bg-color: #E2EBFA;\n",
              "      --hover-fill-color: #174EA6;\n",
              "      --disabled-fill-color: #AAA;\n",
              "      --disabled-bg-color: #DDD;\n",
              "  }\n",
              "\n",
              "  [theme=dark] .colab-df-quickchart {\n",
              "      --bg-color: #3B4455;\n",
              "      --fill-color: #D2E3FC;\n",
              "      --hover-bg-color: #434B5C;\n",
              "      --hover-fill-color: #FFFFFF;\n",
              "      --disabled-bg-color: #3B4455;\n",
              "      --disabled-fill-color: #666;\n",
              "  }\n",
              "\n",
              "  .colab-df-quickchart {\n",
              "    background-color: var(--bg-color);\n",
              "    border: none;\n",
              "    border-radius: 50%;\n",
              "    cursor: pointer;\n",
              "    display: none;\n",
              "    fill: var(--fill-color);\n",
              "    height: 32px;\n",
              "    padding: 0;\n",
              "    width: 32px;\n",
              "  }\n",
              "\n",
              "  .colab-df-quickchart:hover {\n",
              "    background-color: var(--hover-bg-color);\n",
              "    box-shadow: 0 1px 2px rgba(60, 64, 67, 0.3), 0 1px 3px 1px rgba(60, 64, 67, 0.15);\n",
              "    fill: var(--button-hover-fill-color);\n",
              "  }\n",
              "\n",
              "  .colab-df-quickchart-complete:disabled,\n",
              "  .colab-df-quickchart-complete:disabled:hover {\n",
              "    background-color: var(--disabled-bg-color);\n",
              "    fill: var(--disabled-fill-color);\n",
              "    box-shadow: none;\n",
              "  }\n",
              "\n",
              "  .colab-df-spinner {\n",
              "    border: 2px solid var(--fill-color);\n",
              "    border-color: transparent;\n",
              "    border-bottom-color: var(--fill-color);\n",
              "    animation:\n",
              "      spin 1s steps(1) infinite;\n",
              "  }\n",
              "\n",
              "  @keyframes spin {\n",
              "    0% {\n",
              "      border-color: transparent;\n",
              "      border-bottom-color: var(--fill-color);\n",
              "      border-left-color: var(--fill-color);\n",
              "    }\n",
              "    20% {\n",
              "      border-color: transparent;\n",
              "      border-left-color: var(--fill-color);\n",
              "      border-top-color: var(--fill-color);\n",
              "    }\n",
              "    30% {\n",
              "      border-color: transparent;\n",
              "      border-left-color: var(--fill-color);\n",
              "      border-top-color: var(--fill-color);\n",
              "      border-right-color: var(--fill-color);\n",
              "    }\n",
              "    40% {\n",
              "      border-color: transparent;\n",
              "      border-right-color: var(--fill-color);\n",
              "      border-top-color: var(--fill-color);\n",
              "    }\n",
              "    60% {\n",
              "      border-color: transparent;\n",
              "      border-right-color: var(--fill-color);\n",
              "    }\n",
              "    80% {\n",
              "      border-color: transparent;\n",
              "      border-right-color: var(--fill-color);\n",
              "      border-bottom-color: var(--fill-color);\n",
              "    }\n",
              "    90% {\n",
              "      border-color: transparent;\n",
              "      border-bottom-color: var(--fill-color);\n",
              "    }\n",
              "  }\n",
              "</style>\n",
              "\n",
              "  <script>\n",
              "    async function quickchart(key) {\n",
              "      const quickchartButtonEl =\n",
              "        document.querySelector('#' + key + ' button');\n",
              "      quickchartButtonEl.disabled = true;  // To prevent multiple clicks.\n",
              "      quickchartButtonEl.classList.add('colab-df-spinner');\n",
              "      try {\n",
              "        const charts = await google.colab.kernel.invokeFunction(\n",
              "            'suggestCharts', [key], {});\n",
              "      } catch (error) {\n",
              "        console.error('Error during call to suggestCharts:', error);\n",
              "      }\n",
              "      quickchartButtonEl.classList.remove('colab-df-spinner');\n",
              "      quickchartButtonEl.classList.add('colab-df-quickchart-complete');\n",
              "    }\n",
              "    (() => {\n",
              "      let quickchartButtonEl =\n",
              "        document.querySelector('#df-cd74511d-af79-45e8-957c-eaadf68c2fb3 button');\n",
              "      quickchartButtonEl.style.display =\n",
              "        google.colab.kernel.accessAllowed ? 'block' : 'none';\n",
              "    })();\n",
              "  </script>\n",
              "</div>\n",
              "\n",
              "    </div>\n",
              "  </div>\n"
            ],
            "application/vnd.google.colaboratory.intrinsic+json": {
              "type": "dataframe",
              "variable_name": "users"
            }
          },
          "metadata": {},
          "execution_count": 4
        }
      ],
      "source": [
        "users.head()"
      ]
    },
    {
      "cell_type": "code",
      "execution_count": 5,
      "metadata": {
        "colab": {
          "base_uri": "https://localhost:8080/"
        },
        "id": "tGy-lvQhwBZr",
        "outputId": "cc43fc9c-5e8e-438e-f535-5e737167f6e6"
      },
      "outputs": [
        {
          "output_type": "stream",
          "name": "stdout",
          "text": [
            "<class 'pandas.core.frame.DataFrame'>\n",
            "RangeIndex: 278858 entries, 0 to 278857\n",
            "Data columns (total 3 columns):\n",
            " #   Column    Non-Null Count   Dtype  \n",
            "---  ------    --------------   -----  \n",
            " 0   User-ID   278858 non-null  int64  \n",
            " 1   Location  278858 non-null  object \n",
            " 2   Age       168096 non-null  float64\n",
            "dtypes: float64(1), int64(1), object(1)\n",
            "memory usage: 6.4+ MB\n"
          ]
        }
      ],
      "source": [
        "users.info()"
      ]
    },
    {
      "cell_type": "markdown",
      "source": [
        "* There are records of 278858 users in this dataframe.There are 3 columns in this dataframe.\n",
        "* The 'Age' column has null values"
      ],
      "metadata": {
        "id": "2I6fvXLnVkh2"
      }
    },
    {
      "cell_type": "code",
      "execution_count": 6,
      "metadata": {
        "colab": {
          "base_uri": "https://localhost:8080/",
          "height": 300
        },
        "id": "anyHw5R4wBZw",
        "outputId": "7bb23151-e473-4920-a422-b468bbab439e"
      },
      "outputs": [
        {
          "output_type": "execute_result",
          "data": {
            "text/plain": [
              "            User-ID            Age\n",
              "count  278858.00000  168096.000000\n",
              "mean   139429.50000      34.751434\n",
              "std     80499.51502      14.428097\n",
              "min         1.00000       0.000000\n",
              "25%     69715.25000      24.000000\n",
              "50%    139429.50000      32.000000\n",
              "75%    209143.75000      44.000000\n",
              "max    278858.00000     244.000000"
            ],
            "text/html": [
              "\n",
              "  <div id=\"df-20bea61a-1bc4-4e59-9a66-057922edb3a6\" class=\"colab-df-container\">\n",
              "    <div>\n",
              "<style scoped>\n",
              "    .dataframe tbody tr th:only-of-type {\n",
              "        vertical-align: middle;\n",
              "    }\n",
              "\n",
              "    .dataframe tbody tr th {\n",
              "        vertical-align: top;\n",
              "    }\n",
              "\n",
              "    .dataframe thead th {\n",
              "        text-align: right;\n",
              "    }\n",
              "</style>\n",
              "<table border=\"1\" class=\"dataframe\">\n",
              "  <thead>\n",
              "    <tr style=\"text-align: right;\">\n",
              "      <th></th>\n",
              "      <th>User-ID</th>\n",
              "      <th>Age</th>\n",
              "    </tr>\n",
              "  </thead>\n",
              "  <tbody>\n",
              "    <tr>\n",
              "      <th>count</th>\n",
              "      <td>278858.00000</td>\n",
              "      <td>168096.000000</td>\n",
              "    </tr>\n",
              "    <tr>\n",
              "      <th>mean</th>\n",
              "      <td>139429.50000</td>\n",
              "      <td>34.751434</td>\n",
              "    </tr>\n",
              "    <tr>\n",
              "      <th>std</th>\n",
              "      <td>80499.51502</td>\n",
              "      <td>14.428097</td>\n",
              "    </tr>\n",
              "    <tr>\n",
              "      <th>min</th>\n",
              "      <td>1.00000</td>\n",
              "      <td>0.000000</td>\n",
              "    </tr>\n",
              "    <tr>\n",
              "      <th>25%</th>\n",
              "      <td>69715.25000</td>\n",
              "      <td>24.000000</td>\n",
              "    </tr>\n",
              "    <tr>\n",
              "      <th>50%</th>\n",
              "      <td>139429.50000</td>\n",
              "      <td>32.000000</td>\n",
              "    </tr>\n",
              "    <tr>\n",
              "      <th>75%</th>\n",
              "      <td>209143.75000</td>\n",
              "      <td>44.000000</td>\n",
              "    </tr>\n",
              "    <tr>\n",
              "      <th>max</th>\n",
              "      <td>278858.00000</td>\n",
              "      <td>244.000000</td>\n",
              "    </tr>\n",
              "  </tbody>\n",
              "</table>\n",
              "</div>\n",
              "    <div class=\"colab-df-buttons\">\n",
              "\n",
              "  <div class=\"colab-df-container\">\n",
              "    <button class=\"colab-df-convert\" onclick=\"convertToInteractive('df-20bea61a-1bc4-4e59-9a66-057922edb3a6')\"\n",
              "            title=\"Convert this dataframe to an interactive table.\"\n",
              "            style=\"display:none;\">\n",
              "\n",
              "  <svg xmlns=\"http://www.w3.org/2000/svg\" height=\"24px\" viewBox=\"0 -960 960 960\">\n",
              "    <path d=\"M120-120v-720h720v720H120Zm60-500h600v-160H180v160Zm220 220h160v-160H400v160Zm0 220h160v-160H400v160ZM180-400h160v-160H180v160Zm440 0h160v-160H620v160ZM180-180h160v-160H180v160Zm440 0h160v-160H620v160Z\"/>\n",
              "  </svg>\n",
              "    </button>\n",
              "\n",
              "  <style>\n",
              "    .colab-df-container {\n",
              "      display:flex;\n",
              "      gap: 12px;\n",
              "    }\n",
              "\n",
              "    .colab-df-convert {\n",
              "      background-color: #E8F0FE;\n",
              "      border: none;\n",
              "      border-radius: 50%;\n",
              "      cursor: pointer;\n",
              "      display: none;\n",
              "      fill: #1967D2;\n",
              "      height: 32px;\n",
              "      padding: 0 0 0 0;\n",
              "      width: 32px;\n",
              "    }\n",
              "\n",
              "    .colab-df-convert:hover {\n",
              "      background-color: #E2EBFA;\n",
              "      box-shadow: 0px 1px 2px rgba(60, 64, 67, 0.3), 0px 1px 3px 1px rgba(60, 64, 67, 0.15);\n",
              "      fill: #174EA6;\n",
              "    }\n",
              "\n",
              "    .colab-df-buttons div {\n",
              "      margin-bottom: 4px;\n",
              "    }\n",
              "\n",
              "    [theme=dark] .colab-df-convert {\n",
              "      background-color: #3B4455;\n",
              "      fill: #D2E3FC;\n",
              "    }\n",
              "\n",
              "    [theme=dark] .colab-df-convert:hover {\n",
              "      background-color: #434B5C;\n",
              "      box-shadow: 0px 1px 3px 1px rgba(0, 0, 0, 0.15);\n",
              "      filter: drop-shadow(0px 1px 2px rgba(0, 0, 0, 0.3));\n",
              "      fill: #FFFFFF;\n",
              "    }\n",
              "  </style>\n",
              "\n",
              "    <script>\n",
              "      const buttonEl =\n",
              "        document.querySelector('#df-20bea61a-1bc4-4e59-9a66-057922edb3a6 button.colab-df-convert');\n",
              "      buttonEl.style.display =\n",
              "        google.colab.kernel.accessAllowed ? 'block' : 'none';\n",
              "\n",
              "      async function convertToInteractive(key) {\n",
              "        const element = document.querySelector('#df-20bea61a-1bc4-4e59-9a66-057922edb3a6');\n",
              "        const dataTable =\n",
              "          await google.colab.kernel.invokeFunction('convertToInteractive',\n",
              "                                                    [key], {});\n",
              "        if (!dataTable) return;\n",
              "\n",
              "        const docLinkHtml = 'Like what you see? Visit the ' +\n",
              "          '<a target=\"_blank\" href=https://colab.research.google.com/notebooks/data_table.ipynb>data table notebook</a>'\n",
              "          + ' to learn more about interactive tables.';\n",
              "        element.innerHTML = '';\n",
              "        dataTable['output_type'] = 'display_data';\n",
              "        await google.colab.output.renderOutput(dataTable, element);\n",
              "        const docLink = document.createElement('div');\n",
              "        docLink.innerHTML = docLinkHtml;\n",
              "        element.appendChild(docLink);\n",
              "      }\n",
              "    </script>\n",
              "  </div>\n",
              "\n",
              "\n",
              "<div id=\"df-851fb6c1-96eb-4f50-a019-8dab14396352\">\n",
              "  <button class=\"colab-df-quickchart\" onclick=\"quickchart('df-851fb6c1-96eb-4f50-a019-8dab14396352')\"\n",
              "            title=\"Suggest charts\"\n",
              "            style=\"display:none;\">\n",
              "\n",
              "<svg xmlns=\"http://www.w3.org/2000/svg\" height=\"24px\"viewBox=\"0 0 24 24\"\n",
              "     width=\"24px\">\n",
              "    <g>\n",
              "        <path d=\"M19 3H5c-1.1 0-2 .9-2 2v14c0 1.1.9 2 2 2h14c1.1 0 2-.9 2-2V5c0-1.1-.9-2-2-2zM9 17H7v-7h2v7zm4 0h-2V7h2v10zm4 0h-2v-4h2v4z\"/>\n",
              "    </g>\n",
              "</svg>\n",
              "  </button>\n",
              "\n",
              "<style>\n",
              "  .colab-df-quickchart {\n",
              "      --bg-color: #E8F0FE;\n",
              "      --fill-color: #1967D2;\n",
              "      --hover-bg-color: #E2EBFA;\n",
              "      --hover-fill-color: #174EA6;\n",
              "      --disabled-fill-color: #AAA;\n",
              "      --disabled-bg-color: #DDD;\n",
              "  }\n",
              "\n",
              "  [theme=dark] .colab-df-quickchart {\n",
              "      --bg-color: #3B4455;\n",
              "      --fill-color: #D2E3FC;\n",
              "      --hover-bg-color: #434B5C;\n",
              "      --hover-fill-color: #FFFFFF;\n",
              "      --disabled-bg-color: #3B4455;\n",
              "      --disabled-fill-color: #666;\n",
              "  }\n",
              "\n",
              "  .colab-df-quickchart {\n",
              "    background-color: var(--bg-color);\n",
              "    border: none;\n",
              "    border-radius: 50%;\n",
              "    cursor: pointer;\n",
              "    display: none;\n",
              "    fill: var(--fill-color);\n",
              "    height: 32px;\n",
              "    padding: 0;\n",
              "    width: 32px;\n",
              "  }\n",
              "\n",
              "  .colab-df-quickchart:hover {\n",
              "    background-color: var(--hover-bg-color);\n",
              "    box-shadow: 0 1px 2px rgba(60, 64, 67, 0.3), 0 1px 3px 1px rgba(60, 64, 67, 0.15);\n",
              "    fill: var(--button-hover-fill-color);\n",
              "  }\n",
              "\n",
              "  .colab-df-quickchart-complete:disabled,\n",
              "  .colab-df-quickchart-complete:disabled:hover {\n",
              "    background-color: var(--disabled-bg-color);\n",
              "    fill: var(--disabled-fill-color);\n",
              "    box-shadow: none;\n",
              "  }\n",
              "\n",
              "  .colab-df-spinner {\n",
              "    border: 2px solid var(--fill-color);\n",
              "    border-color: transparent;\n",
              "    border-bottom-color: var(--fill-color);\n",
              "    animation:\n",
              "      spin 1s steps(1) infinite;\n",
              "  }\n",
              "\n",
              "  @keyframes spin {\n",
              "    0% {\n",
              "      border-color: transparent;\n",
              "      border-bottom-color: var(--fill-color);\n",
              "      border-left-color: var(--fill-color);\n",
              "    }\n",
              "    20% {\n",
              "      border-color: transparent;\n",
              "      border-left-color: var(--fill-color);\n",
              "      border-top-color: var(--fill-color);\n",
              "    }\n",
              "    30% {\n",
              "      border-color: transparent;\n",
              "      border-left-color: var(--fill-color);\n",
              "      border-top-color: var(--fill-color);\n",
              "      border-right-color: var(--fill-color);\n",
              "    }\n",
              "    40% {\n",
              "      border-color: transparent;\n",
              "      border-right-color: var(--fill-color);\n",
              "      border-top-color: var(--fill-color);\n",
              "    }\n",
              "    60% {\n",
              "      border-color: transparent;\n",
              "      border-right-color: var(--fill-color);\n",
              "    }\n",
              "    80% {\n",
              "      border-color: transparent;\n",
              "      border-right-color: var(--fill-color);\n",
              "      border-bottom-color: var(--fill-color);\n",
              "    }\n",
              "    90% {\n",
              "      border-color: transparent;\n",
              "      border-bottom-color: var(--fill-color);\n",
              "    }\n",
              "  }\n",
              "</style>\n",
              "\n",
              "  <script>\n",
              "    async function quickchart(key) {\n",
              "      const quickchartButtonEl =\n",
              "        document.querySelector('#' + key + ' button');\n",
              "      quickchartButtonEl.disabled = true;  // To prevent multiple clicks.\n",
              "      quickchartButtonEl.classList.add('colab-df-spinner');\n",
              "      try {\n",
              "        const charts = await google.colab.kernel.invokeFunction(\n",
              "            'suggestCharts', [key], {});\n",
              "      } catch (error) {\n",
              "        console.error('Error during call to suggestCharts:', error);\n",
              "      }\n",
              "      quickchartButtonEl.classList.remove('colab-df-spinner');\n",
              "      quickchartButtonEl.classList.add('colab-df-quickchart-complete');\n",
              "    }\n",
              "    (() => {\n",
              "      let quickchartButtonEl =\n",
              "        document.querySelector('#df-851fb6c1-96eb-4f50-a019-8dab14396352 button');\n",
              "      quickchartButtonEl.style.display =\n",
              "        google.colab.kernel.accessAllowed ? 'block' : 'none';\n",
              "    })();\n",
              "  </script>\n",
              "</div>\n",
              "\n",
              "    </div>\n",
              "  </div>\n"
            ],
            "application/vnd.google.colaboratory.intrinsic+json": {
              "type": "dataframe",
              "summary": "{\n  \"name\": \"users\",\n  \"rows\": 8,\n  \"fields\": [\n    {\n      \"column\": \"User-ID\",\n      \"properties\": {\n        \"dtype\": \"number\",\n        \"std\": 100501.4675852522,\n        \"min\": 1.0,\n        \"max\": 278858.0,\n        \"num_unique_values\": 6,\n        \"samples\": [\n          278858.0,\n          139429.5,\n          209143.75\n        ],\n        \"semantic_type\": \"\",\n        \"description\": \"\"\n      }\n    },\n    {\n      \"column\": \"Age\",\n      \"properties\": {\n        \"dtype\": \"number\",\n        \"std\": 59411.10316076062,\n        \"min\": 0.0,\n        \"max\": 168096.0,\n        \"num_unique_values\": 8,\n        \"samples\": [\n          34.75143370454978,\n          32.0,\n          168096.0\n        ],\n        \"semantic_type\": \"\",\n        \"description\": \"\"\n      }\n    }\n  ]\n}"
            }
          },
          "metadata": {},
          "execution_count": 6
        }
      ],
      "source": [
        "users.describe()"
      ]
    },
    {
      "cell_type": "code",
      "source": [
        "#Percentage of missing values in users_df\n",
        "print(users.isnull().sum()/len(users)*100)"
      ],
      "metadata": {
        "colab": {
          "base_uri": "https://localhost:8080/"
        },
        "id": "8OdophNvexA5",
        "outputId": "fadbce09-29bb-4003-ce2e-e5800db4d290"
      },
      "execution_count": 7,
      "outputs": [
        {
          "output_type": "stream",
          "name": "stdout",
          "text": [
            "User-ID      0.000000\n",
            "Location     0.000000\n",
            "Age         39.719857\n",
            "dtype: float64\n"
          ]
        }
      ]
    },
    {
      "cell_type": "markdown",
      "source": [
        "* The 39.7% of values in the 'Age' column are missing/NaN values\n",
        "* The maximum value in the 'Age' column is 244. This is certainly an outlier"
      ],
      "metadata": {
        "id": "fJ42a9CWez7o"
      }
    },
    {
      "cell_type": "code",
      "source": [
        "#Histogram showing distribution of ages\n",
        "fig=plt.figure(figsize=(12,6))\n",
        "plt.subplot(1,2,1)\n",
        "sns.histplot(x='Age',data=users)\n",
        "\n",
        "#boxplot of Age column\n",
        "plt.subplot(1,2,2)\n",
        "sns.boxplot(x='Age',data=users)"
      ],
      "metadata": {
        "colab": {
          "base_uri": "https://localhost:8080/",
          "height": 360
        },
        "id": "jXDsCaV-fKTO",
        "outputId": "1ebdb56b-b186-4db8-aa36-be49beb4c318"
      },
      "execution_count": 8,
      "outputs": [
        {
          "output_type": "execute_result",
          "data": {
            "text/plain": [
              "<Axes: xlabel='Age'>"
            ]
          },
          "metadata": {},
          "execution_count": 8
        },
        {
          "output_type": "display_data",
          "data": {
            "text/plain": [
              "<Figure size 1200x600 with 2 Axes>"
            ],
            "image/png": "[encoded data removed]"
          },
          "metadata": {}
        }
      ]
    },
    {
      "cell_type": "markdown",
      "source": [
        "* Age distribution of positively skewed\n",
        "* Most of the users are from the age group 25-50\n",
        "* It is highly unlikely to have users under the age of 4 and above 95.The peaks near 0 and 100 in the kdeplot indicates that there are some outlier values in the 'Age' column"
      ],
      "metadata": {
        "id": "cULGFXr9fKok"
      }
    },
    {
      "cell_type": "code",
      "source": [
        "#replacing the outliers in 'Age' with NaN value\n",
        "users.loc[(users['Age']>95)|(users['Age']<4),'Age']=np.nan"
      ],
      "metadata": {
        "id": "b_lrbcb5fOLM"
      },
      "execution_count": 9,
      "outputs": []
    },
    {
      "cell_type": "code",
      "source": [
        "#Displaying the current number of missing values in  'Age' column\n",
        "print('The number of missing values is ',users['Age'].isnull().sum())\n",
        "#Imputing such a large amount of null values will mean/mode/median will drastically change the distribution\n",
        "users['Age'].describe()"
      ],
      "metadata": {
        "colab": {
          "base_uri": "https://localhost:8080/",
          "height": 353
        },
        "id": "dFsxI5h3fRgL",
        "outputId": "caf35d9b-6a09-4a4a-a1d9-19009c785699"
      },
      "execution_count": 10,
      "outputs": [
        {
          "output_type": "stream",
          "name": "stdout",
          "text": [
            "The number of missing values is  112001\n"
          ]
        },
        {
          "output_type": "execute_result",
          "data": {
            "text/plain": [
              "count    166857.000000\n",
              "mean         34.734222\n",
              "std          13.621521\n",
              "min           4.000000\n",
              "25%          24.000000\n",
              "50%          32.000000\n",
              "75%          44.000000\n",
              "max          95.000000\n",
              "Name: Age, dtype: float64"
            ],
            "text/html": [
              "<div>\n",
              "<style scoped>\n",
              "    .dataframe tbody tr th:only-of-type {\n",
              "        vertical-align: middle;\n",
              "    }\n",
              "\n",
              "    .dataframe tbody tr th {\n",
              "        vertical-align: top;\n",
              "    }\n",
              "\n",
              "    .dataframe thead th {\n",
              "        text-align: right;\n",
              "    }\n",
              "</style>\n",
              "<table border=\"1\" class=\"dataframe\">\n",
              "  <thead>\n",
              "    <tr style=\"text-align: right;\">\n",
              "      <th></th>\n",
              "      <th>Age</th>\n",
              "    </tr>\n",
              "  </thead>\n",
              "  <tbody>\n",
              "    <tr>\n",
              "      <th>count</th>\n",
              "      <td>166857.000000</td>\n",
              "    </tr>\n",
              "    <tr>\n",
              "      <th>mean</th>\n",
              "      <td>34.734222</td>\n",
              "    </tr>\n",
              "    <tr>\n",
              "      <th>std</th>\n",
              "      <td>13.621521</td>\n",
              "    </tr>\n",
              "    <tr>\n",
              "      <th>min</th>\n",
              "      <td>4.000000</td>\n",
              "    </tr>\n",
              "    <tr>\n",
              "      <th>25%</th>\n",
              "      <td>24.000000</td>\n",
              "    </tr>\n",
              "    <tr>\n",
              "      <th>50%</th>\n",
              "      <td>32.000000</td>\n",
              "    </tr>\n",
              "    <tr>\n",
              "      <th>75%</th>\n",
              "      <td>44.000000</td>\n",
              "    </tr>\n",
              "    <tr>\n",
              "      <th>max</th>\n",
              "      <td>95.000000</td>\n",
              "    </tr>\n",
              "  </tbody>\n",
              "</table>\n",
              "</div><br><label><b>dtype:</b> float64</label>"
            ]
          },
          "metadata": {},
          "execution_count": 10
        }
      ]
    },
    {
      "cell_type": "code",
      "source": [
        "# create a normal distribution pd.Series to fill Nan values with\n",
        "normal_age_series = pd.Series(np.random.normal(loc=users.Age.mean(), scale=users.Age.std(), size=users[users.Age.isna()]['User-ID'].count()))\n",
        "\n",
        "# take the absolute value of temp_age_series\n",
        "abs_age_series=round(np.abs(normal_age_series),0)\n",
        "\n",
        "# sort users df so as NaN values in age to be first and reset index to match with index of abs_age_series. Then using fillna()\n",
        "users = users.sort_values('Age',na_position='first').reset_index(drop=True)\n",
        "users.Age.fillna(abs_age_series, inplace = True)"
      ],
      "metadata": {
        "colab": {
          "base_uri": "https://localhost:8080/"
        },
        "id": "mCXQgWJhfTsQ",
        "outputId": "e040a8ec-77f0-4a05-8ea9-fa26712e004f"
      },
      "execution_count": 11,
      "outputs": [
        {
          "output_type": "stream",
          "name": "stderr",
          "text": [
            "<ipython-input-11-e2c0e40fddab>:9: FutureWarning: A value is trying to be set on a copy of a DataFrame or Series through chained assignment using an inplace method.\n",
            "The behavior will change in pandas 3.0. This inplace method will never work because the intermediate object on which we are setting values always behaves as a copy.\n",
            "\n",
            "For example, when doing 'df[col].method(value, inplace=True)', try using 'df.method({col: value}, inplace=True)' or df[col] = df[col].method(value) instead, to perform the operation inplace on the original object.\n",
            "\n",
            "\n",
            "  users.Age.fillna(abs_age_series, inplace = True)\n"
          ]
        }
      ]
    },
    {
      "cell_type": "code",
      "source": [
        "users.Age.describe()"
      ],
      "metadata": {
        "colab": {
          "base_uri": "https://localhost:8080/",
          "height": 335
        },
        "id": "0xkjUmZSfWmd",
        "outputId": "465c25cb-8778-498a-f775-1e83dee166e3"
      },
      "execution_count": 12,
      "outputs": [
        {
          "output_type": "execute_result",
          "data": {
            "text/plain": [
              "count    278858.000000\n",
              "mean         34.726918\n",
              "std          13.574010\n",
              "min           0.000000\n",
              "25%          25.000000\n",
              "50%          33.000000\n",
              "75%          44.000000\n",
              "max         101.000000\n",
              "Name: Age, dtype: float64"
            ],
            "text/html": [
              "<div>\n",
              "<style scoped>\n",
              "    .dataframe tbody tr th:only-of-type {\n",
              "        vertical-align: middle;\n",
              "    }\n",
              "\n",
              "    .dataframe tbody tr th {\n",
              "        vertical-align: top;\n",
              "    }\n",
              "\n",
              "    .dataframe thead th {\n",
              "        text-align: right;\n",
              "    }\n",
              "</style>\n",
              "<table border=\"1\" class=\"dataframe\">\n",
              "  <thead>\n",
              "    <tr style=\"text-align: right;\">\n",
              "      <th></th>\n",
              "      <th>Age</th>\n",
              "    </tr>\n",
              "  </thead>\n",
              "  <tbody>\n",
              "    <tr>\n",
              "      <th>count</th>\n",
              "      <td>278858.000000</td>\n",
              "    </tr>\n",
              "    <tr>\n",
              "      <th>mean</th>\n",
              "      <td>34.726918</td>\n",
              "    </tr>\n",
              "    <tr>\n",
              "      <th>std</th>\n",
              "      <td>13.574010</td>\n",
              "    </tr>\n",
              "    <tr>\n",
              "      <th>min</th>\n",
              "      <td>0.000000</td>\n",
              "    </tr>\n",
              "    <tr>\n",
              "      <th>25%</th>\n",
              "      <td>25.000000</td>\n",
              "    </tr>\n",
              "    <tr>\n",
              "      <th>50%</th>\n",
              "      <td>33.000000</td>\n",
              "    </tr>\n",
              "    <tr>\n",
              "      <th>75%</th>\n",
              "      <td>44.000000</td>\n",
              "    </tr>\n",
              "    <tr>\n",
              "      <th>max</th>\n",
              "      <td>101.000000</td>\n",
              "    </tr>\n",
              "  </tbody>\n",
              "</table>\n",
              "</div><br><label><b>dtype:</b> float64</label>"
            ]
          },
          "metadata": {},
          "execution_count": 12
        }
      ]
    },
    {
      "cell_type": "code",
      "source": [
        "#percentage of missing values in 'Age' column\n",
        "(users['Age'].isnull().sum()/len(users))*100"
      ],
      "metadata": {
        "colab": {
          "base_uri": "https://localhost:8080/"
        },
        "id": "daUBaP1bfY53",
        "outputId": "a97bb594-a292-4193-9c1c-2ea54e0bb3c9"
      },
      "execution_count": 13,
      "outputs": [
        {
          "output_type": "execute_result",
          "data": {
            "text/plain": [
              "0.0"
            ]
          },
          "metadata": {},
          "execution_count": 13
        }
      ]
    },
    {
      "cell_type": "code",
      "source": [
        "def age_group(age):\n",
        "  '''\n",
        "  defines the age group of users\n",
        "  '''\n",
        "  if age<13:\n",
        "    x='Children'\n",
        "  elif age>=13 and age<18:\n",
        "    x='Teens'\n",
        "  elif age>=18 and age<36:\n",
        "    x='Youth'\n",
        "  elif age>=36 and age<56:\n",
        "    x='Middle aged adults'\n",
        "  else:\n",
        "    x='Elderly'\n",
        "  return x"
      ],
      "metadata": {
        "id": "xo0QwXUcfcb0"
      },
      "execution_count": 14,
      "outputs": []
    },
    {
      "cell_type": "code",
      "source": [
        "users['Age_group']=users['Age'].apply(lambda x: age_group(x))"
      ],
      "metadata": {
        "id": "yh3aucw8fdWL"
      },
      "execution_count": 15,
      "outputs": []
    },
    {
      "cell_type": "code",
      "source": [
        "#Age distribution of users\n",
        "sns.countplot(users['Age_group'],palette='Set2')"
      ],
      "metadata": {
        "colab": {
          "base_uri": "https://localhost:8080/",
          "height": 534
        },
        "id": "HWobOxXnffb7",
        "outputId": "e754aaf3-86d9-42b9-c6e8-711e06df08e3"
      },
      "execution_count": 16,
      "outputs": [
        {
          "output_type": "stream",
          "name": "stderr",
          "text": [
            "<ipython-input-16-3d042c3a599d>:2: FutureWarning: \n",
            "\n",
            "Passing `palette` without assigning `hue` is deprecated and will be removed in v0.14.0. Assign the `y` variable to `hue` and set `legend=False` for the same effect.\n",
            "\n",
            "  sns.countplot(users['Age_group'],palette='Set2')\n"
          ]
        },
        {
          "output_type": "execute_result",
          "data": {
            "text/plain": [
              "<Axes: xlabel='count', ylabel='Age_group'>"
            ]
          },
          "metadata": {},
          "execution_count": 16
        },
        {
          "output_type": "display_data",
          "data": {
            "text/plain": [
              "<Figure size 640x480 with 1 Axes>"
            ],
            "image/png": "[encoded data removed]"
          },
          "metadata": {}
        }
      ]
    },
    {
      "cell_type": "code",
      "source": [
        "#number of unique values in 'Location'\n",
        "users['Location'].nunique()"
      ],
      "metadata": {
        "colab": {
          "base_uri": "https://localhost:8080/"
        },
        "id": "Kq19R2YMfgyY",
        "outputId": "844dcb1c-e1cc-404f-a4e6-09854e97cd25"
      },
      "execution_count": 17,
      "outputs": [
        {
          "output_type": "execute_result",
          "data": {
            "text/plain": [
              "57339"
            ]
          },
          "metadata": {},
          "execution_count": 17
        }
      ]
    },
    {
      "cell_type": "markdown",
      "source": [
        "* there's definitely too many locations: it's needed to make some cleaning.\n"
      ],
      "metadata": {
        "id": "TmhTYA-Qfm9A"
      }
    },
    {
      "cell_type": "code",
      "source": [
        "users['Country'] = users['Location'].str.split(',').str[-1].str.strip().str.lower()\n",
        "users['Country'] = users['Country'].astype(str).apply(lambda x: re.sub(r'[^a-zA-Z0-9]', '', x).strip())\n",
        "# users['Country'].to_csv('countries.txt', index=False, header=False)\n",
        "users['Country'].unique()"
      ],
      "metadata": {
        "colab": {
          "base_uri": "https://localhost:8080/"
        },
        "id": "MsGblNRj3NAu",
        "outputId": "cf6f15bd-22ab-4da1-aecb-5fa434f8777e"
      },
      "execution_count": 18,
      "outputs": [
        {
          "output_type": "execute_result",
          "data": {
            "text/plain": [
              "array(['usa', 'russia', 'unitedkingdom', 'canada', 'germany',\n",
              "       'distritofederal', 'italy', 'australia', '', 'finland', 'spain',\n",
              "       'slovenia', 'peru', 'vietnam', 'portugal', 'pakistan', 'denmark',\n",
              "       'uae', 'greece', 'colombia', 'india', 'quit', 'lj', 'sweden',\n",
              "       'norway', 'philippines', 'switzerland', 'turkey', 'brazil',\n",
              "       'london', 'bulgaria', 'mexico', 'austria', 'malaysia', 'france',\n",
              "       'newzealand', 'albania', 'egypt', 'iran', 'argentina',\n",
              "       'netherlands', 'saudiarabia', 'poland', 'chile', 'indonesia',\n",
              "       'paraguay', 'afghanistan', 'estonia', 'clackamas', 'lesotho',\n",
              "       'yugoslavia', 'taiwan', 'china', 'costarica',\n",
              "       'britishvirginislands', 'nigeria', 'singapore', 'ireland',\n",
              "       'croatia', 'israel', 'romania', 'ethiopia', 'iceland',\n",
              "       'southafrica', 'calabria', 'alderney', 'puertorico', 'hongkong',\n",
              "       'latvia', 'luxembourg', 'na', 'srilanka', 'thailand', 'csa',\n",
              "       'phils', 'kazakhstan', 'japan', 'morocco', 'scotland', 'uruguay',\n",
              "       'slovakia', 'honduras', 'belarus', 'georgia', 'malta',\n",
              "       'faroeislands', 'eastafrica', 'belgium', 'space', 'southkorea',\n",
              "       'bosniaandherzegovina', 'cyprus', 'thephilippines', 'espaa',\n",
              "       'bahamas', 'trinidadandtobago', 'unitedarabemirates', 'ghana',\n",
              "       'bolivia', 'isreal', 'qatar', 'czechrepublic', 'fernandodelamora',\n",
              "       'guyana', 'venezuela', 'guatemala', '19104', 'uzbekistan',\n",
              "       'trinidad', 'deutschland', 'caymanislands', 'lafrance',\n",
              "       'minnehaha', 'bermuda', 'rwanda', 'azerbaijan', 'de', 'doodedoo',\n",
              "       'caribbeansea', 'usofa', 'afganstandholla', 'kosovo',\n",
              "       'serbiamontenegro', 'somalia', 'bangladesh', 'trinidadtobago',\n",
              "       'kuwait', 'tanzania', 'uk', 'tunisia', 'turkei',\n",
              "       'antiguaandbarbuda', 'iraq', 'srilankana', 'valtesse', 'lebanon',\n",
              "       'kyrgyzstan', 'hungary', 'nederlands', 'tdzimi', 'oman',\n",
              "       'antarctica', 'jamaica', 'itlay', 'palau',\n",
              "       'stvincentandthegrenadines', 'kenya', 'collin', 'zhengjiang',\n",
              "       'grenada', 'baxter', 'evilempire', 'mongolia', 'hennipen',\n",
              "       'litalia', 'italia', 'belize', 'rice', 'goodoldusa', 'england',\n",
              "       'polska', 'senegal', 'bbbzzzzz', 'saintlucia', 'cass', 'baltimore',\n",
              "       'hampden', 'ust', 'macedonia', 'bernalillo', 'effingham', 'wales',\n",
              "       'lake', 'windham', 'laos', 'unitedstated', 'thegreatwhitenorth',\n",
              "       'philippine', 'nicaragua', 'auckland', 'c', 'pasco',\n",
              "       'unitedstatesofamerica', 'ferrara', 'morgan', 'milano', 'europe',\n",
              "       'slo', 'lkjlj', 'marrion', 'cnina', 'haiti', 'cn', 'holland',\n",
              "       'jackson', 'lazio', 'dekalb', 'panama', 'mauritius', 'maricopa',\n",
              "       'ua', 'sanmarino', 'nrw', 'nyhamnslge', 'nepal', 'jersey', 'aruba',\n",
              "       'richmondcountry', 'zimbabwe', 'elsalvador', 'saintloius',\n",
              "       'lithuania', 'framingham', 'benin', 'monroe', 'hornyonic', 'nyc',\n",
              "       'unitedkindgonm', 'eeuu', 'eritrea', 'channelislands', 'jordan',\n",
              "       'guernsey', 'washtenaw', 'libya', 'universe', 'az', 'euskalherria',\n",
              "       'suisse', 'papuanewguinea', 'armenia', 'uganda', 'lachineternelle',\n",
              "       'macau', 'frome', 'bruneidarussalam', 'netherlandsantilles',\n",
              "       'niger', 'capetown', 'sthelena', 'sultanateofoman', 'ukraine',\n",
              "       'andorra', 'aroostook', 'fredonialandofthebraveandfree',\n",
              "       'princewilliam', 'bademnwrtemberg', 'gb', 'brunei', 'worcester',\n",
              "       'wood', 'rmi', 'burma', 'heaven', 'serbia', 'capeverde', 'osceola',\n",
              "       'vanwert', '87510', 'galiza', 'saudiaarabia', 'dublin', 'pr',\n",
              "       'none', 'angola', 'carter', 'myanmar', 'rapides', 'americansamoa',\n",
              "       'essex', 'chad', 'aaa', 'can', 'english', 'suriname', 'monaco',\n",
              "       'singaporeunitedkingdom', 'nowhere', 'unitedstates', 'ecuador',\n",
              "       'lombardia', 'vanuatu', 'mrida', 'antiguabarbuda', 'my',\n",
              "       'sanfranicsco', 'us', '02458', 'thenetherlands', 'travelling',\n",
              "       'belgi', 'pinallas', 'algeria', 'id', 'k1c7b1', 'rutherford', 'pa',\n",
              "       'bell', 'burkinafaso', 'country', 'serbiaandmontenegro', 'camden',\n",
              "       'tajikistan', 'dfg', 'chian', 'bfe', 'liaoning', 'unitedstatea',\n",
              "       'chinapeoplesrepublic', 'italien', 'clinton', 'venturacounty',\n",
              "       'gabon', 'basilicata', 'diy', 'liberia', 'inputerror', 'bladen',\n",
              "       'sardegna', 'thailoand', 'rosario', 'theworldtomorrow', 'barbados',\n",
              "       'cuba', 'inyourheart', 'burkinafasu', 'adsgfdr', 'henry', 'kz',\n",
              "       'moldova', 'unitedstatedofamerica', 'unit', 'rosello', 'granville',\n",
              "       'catalunya', 'englanduk', 'petrolwarnation', 'newlondon',\n",
              "       'laargentina', 'harvatija', '23232', 'zambia', 'copenhagen',\n",
              "       'canda', 'prc', 'phippines', 'brasil', 'sardinia', 'u', 'oakland',\n",
              "       'lecce', 'moambique', 'ventura', 'bahrain', 'europa', 'shelby',\n",
              "       'prchina', 'malaysian', 'fred', 'polk',\n",
              "       'usacurrentlylivinginengland', 'indiai', 'cook', 'mordor', 'z',\n",
              "       'fontana', 'kiribati', 'australii', 'fiji', 'ukrain',\n",
              "       'onondaganation', 'turkmenistan', 'mozambique', 'holysee',\n",
              "       'queensland', 'cananda', 'solano', 'unitestates', 'vorce', 'ca',\n",
              "       'lachineeternelle', 'xxxxxx', 'espanhagaliza', 'maracopa',\n",
              "       'palestine', 'ilcanada', 'cameroon', 'republicofpanama',\n",
              "       'labelgique', 'phila', 'guinea', 'sierraleone', 'rsa', 'neverland',\n",
              "       'westyorkshire', 'smith', 'pueblo', 'northernireland', 'pippo',\n",
              "       'trkiye', 'california', 'uyo', 'spotsylvania', 'der', 'livingston',\n",
              "       'scorea', 'hug', 'ussurfing', 'bosnia', 'exactlywhereiam', 'cadd0',\n",
              "       'botswana', 'euskadi', 'canadaeh', 'lecanada', 'korea', 'nh',\n",
              "       'yanhill', 'uusa', 'repsanmarino', 'johnson', 'maine', 'america',\n",
              "       '30064', 'buncombe', 'bucks', 'houston', 'slovakrepublik',\n",
              "       'fortaleza', 'in', 'pistlavakia', 'bavaria', 'safrica',\n",
              "       'saotomeandprincipe', 'djibouti', 'palmbeach', 'philippinies',\n",
              "       'northcarolina', 'losestadosunidosdenorteamerica',\n",
              "       'russianfederation', 'courtenay', 'mauritania', 'lee', 'hidalgo',\n",
              "       'xinyu', 'orangeco', 'texas', 'badenwrttemberg', 'unknown',\n",
              "       'tonga', 'a', 'cotedivoire', 'sanmateo', 'davidson', 'saintluica',\n",
              "       '85021', 'vaticancity', 'ohio', 'whatcom', 'nz', 'toscana',\n",
              "       'dominica', 'stclair', 'butler', 'autralia', 'congo', 'fairyland',\n",
              "       'wereglobal', 'ahrensburg', 'kern', 'cambodia',\n",
              "       'disgruntledstatesofamerica', 'capemay', 'thegambia',\n",
              "       'unitedsates', 'tyrtyrt', 'liushi', 'bih', 'bhutan', 'stthomasi',\n",
              "       'samoa', 'dominicanrepublic', 'fortbend', 'geermany', 'urugua',\n",
              "       'fulton', 'yakima', 'nomore', 'dauphin', '01776', 'homeofthevan',\n",
              "       'peoplesrepublicofchina', 'lane', 'saintvincentandthegrenadines',\n",
              "       'unitedstaes', 'nl', 'germay', 'yunling', 'roc', 'victoria', 'bkk',\n",
              "       'lasvizzera', 'austbritania', 'lornsenland', 'belgique',\n",
              "       'hernando', '2001322269', 'phillipines', 'malawi',\n",
              "       '5057chadwickct', 'deutschesreich', 'equatorialgeuinea',\n",
              "       'maldives', 'strongbadia', 'togo', 'micronesia', 'asturies',\n",
              "       'syria', 'l', 'sudan', 'basquecountry', 'maroc', 'northkorea',\n",
              "       'saintkittsandnevis', 'namibia', 'swaziland', 'madrid', 'mxico',\n",
              "       'yemen', 'algrie', 'guam', 'catalonia', 'per', 'bergued',\n",
              "       'swazilandia', 'sicilia', 'galizaneghra', 'unitedkindgdom',\n",
              "       'naontheroad', 'amalurra', 'monterrey', 'comoros',\n",
              "       'catalunyaspain', 'ouranos', 'faraway', 'fifi', 'roma',\n",
              "       'lawrenceville', 'marshallislands', 'hungaryandusa',\n",
              "       'everywhereandanywhere', 'republicofkorea', '3265422269',\n",
              "       'usacanada', 'ksa', 'ysa', 'mali', 'wmalaysia', 'solomonislands',\n",
              "       'madagascar', 'aotearoa', 'burlington', 'lleida', 'hereandthere',\n",
              "       'lalgrie', 'pender', 'guineabissau', 'the', 'vicenza',\n",
              "       'lemadagascar', 'orense', 'queenspark', 'lasuisse', 'hamilton',\n",
              "       'catalunyacatalonia', 'greecehellas', 'hillsborough', 'cherokee',\n",
              "       'usvirginislands', 'isleofman', 'goteborg', 'thing', 'unitedstate',\n",
              "       'wonderfulusa', 'tobago', 'cted',\n",
              "       'commonwealthofnorthernmarianaislands', 'santabarbara', 'alachua',\n",
              "       'missouri', 'citrus', 'allen', 'somewhereinspace', 'sanbernardino',\n",
              "       'x'], dtype=object)"
            ]
          },
          "metadata": {},
          "execution_count": 18
        }
      ]
    },
    {
      "cell_type": "markdown",
      "source": [
        "* It is visible that most of the countries are not a valid value: we're gonna filter them."
      ],
      "metadata": {
        "id": "NVgwbJs3f8B9"
      }
    },
    {
      "cell_type": "code",
      "execution_count": 19,
      "metadata": {
        "id": "wVELbmDywBZw"
      },
      "outputs": [],
      "source": [
        "# Standardizing country names\n",
        "users.loc[users['Country'].isin(['afganstandholla']), 'Country'] = 'afghanistan'\n",
        "users.loc[users['Country'].isin(['algrie','lalgrie']), 'Country'] = 'algeria'\n",
        "users.loc[users['Country'].isin(['andorra\"']), 'Country'] = 'andorra'\n",
        "users.loc[users['Country'].isin(['laargentina']), 'Country'] = 'argentina'\n",
        "users.loc[users['Country'].isin(['asturies','austria','az']), 'Country'] = 'austria'\n",
        "users.loc[users['Country'].isin(['australii', 'autralia', 'westernaustralia', 'australia\"']), 'Country'] = 'australia'\n",
        "users.loc[users['Country'].isin(['belgi','belgique','labelgique']), 'Country'] = 'belgium'\n",
        "users.loc[users['Country'].isin(['brasil']), 'Country'] = 'brazil'\n",
        "users.loc[users['Country'].isin(['bosniaandherzegovina','bosnia']), 'Country'] = 'bosnia and herzegovina'\n",
        "users.loc[users['Country'].isin(['britishvirginislands']), 'Country'] = 'british virgin islands'\n",
        "users.loc[users['Country'].isin(['bruneidarussalam']), 'Country'] = 'brunei'\n",
        "users.loc[users['Country'].isin(['burlington','can','canda','canadaeh','cananda','lecanada','ilcanada']), 'Country'] = 'canada'\n",
        "users.loc[users['Country'].isin(['chinaöð¹ú', 'chinaöð¹ú', 'peoplesrepublicofchina','roc','chian','chinapeoplesrepublic','zhengjiang','prchina','cnina','lachineeternelle', 'lachineternelle', 'liaoning', 'liushi']), 'Country'] = 'china'\n",
        "users.loc[users['Country'].isin(['capeverde']), 'Country'] = 'cape verde'\n",
        "users.loc[users['Country'].isin(['czechrepublic']), 'Country'] = 'czech republic'\n",
        "users.loc[users['Country'].isin(['copenhagen']), 'Country'] = 'denmark'\n",
        "users.loc[users['Country'].isin(['holysee','vaticancity']), 'Country'] = 'holy see'\n",
        "users.loc[users['Country'].isin(['equatorialgeuinea','guinea','guineabissau']), 'Country'] = 'equatorial guinea'\n",
        "users.loc[users['Country'].isin(['fifi']), 'Country'] = 'fiji'\n",
        "users.loc[users['Country'].isin(['deutschland', 'geermany', 'germay','bavaria','bademnwrtemberg','badenwrttemberg','de','der','deutschesreich','deutschland','dfg']), 'Country'] = 'germany'\n",
        "users.loc[users['Country'].isin(['citrus','cyprus','greecehellas']), 'Country'] = 'greece'\n",
        "users.loc[users['Country'].isin(['españa', 'espaã±a', 'catalunyaspain','catalonia','catalunya','orense','fortaleza','catalunyacatalonia','catalunyaspain',\n",
        "                                 'espaa','espanhagaliza','gabon','galiza','galizaneghra','madrid','lleida','sierraleone']), 'Country'] = 'spain'\n",
        "users.loc[users['Country'].isin(['hongkong']), 'Country'] = 'hong kong'\n",
        "users.loc[users['Country'].isin(['india\"', 'indiai']), 'Country'] = 'india'\n",
        "users.loc[users['Country'].isin(['italy\"', 'italia', 'italien', 'itlay','basilicata','calabria','ferrara','fontana','italia', 'italien', 'itlay', 'milano',\n",
        "                                 'lazio', 'lecce', 'lombardia', 'litalia','rosello','rosario','toscana','repsanmarino','roma','sanmarino','sardegna', 'sardinia','sicilia']), 'Country'] = 'italy'\n",
        "users.loc[users['Country'].isin(['dublin','northernireland','irland']), 'Country'] = 'ireland'\n",
        "users.loc[users['Country'].isin(['isreal']), 'Country'] = 'israel'\n",
        "users.loc[users['Country'].isin(['lafrance','basquecountry','cotedivoire']), 'Country'] = 'france'\n",
        "users.loc[users['Country'].isin(['kz']), 'Country'] = 'kazakhstan'\n",
        "users.loc[users['Country'].isin(['lemadagascar']), 'Country'] = 'madagascar'\n",
        "users.loc[users['Country'].isin(['méxico', 'mico']), 'Country'] = 'mexico'\n",
        "users.loc[users['Country'].isin(['burma']), 'Country'] = 'myanmar'\n",
        "users.loc[users['Country'].isin(['holland', 'netherlandsantilles', 'nederlands', 'nl', 'holland', 'thenetherlands']), 'Country'] = 'netherlands'\n",
        "users.loc[users['Country'].isin(['macedonia']), 'Country'] = 'north macedonia'\n",
        "users.loc[users['Country'].isin(['malaysia', 'malaysian']), 'Country'] = 'malaysia'\n",
        "users.loc[users['Country'].isin(['maroc']), 'Country'] = 'morocco'\n",
        "users.loc[users['Country'].isin(['marshallislands']), 'Country'] = 'marshall islands'\n",
        "users.loc[users['Country'].isin(['mexico', 'mxico', 'monterrey', 'mrida']), 'Country'] = 'mexico'\n",
        "users.loc[users['Country'].isin(['mozambique', 'moambique']), 'Country'] = 'mozambique'\n",
        "users.loc[users['Country'].isin(['antiguabarbuda','antiguaandbarbuda']), 'Country'] = 'antigua and barbuda'\n",
        "users.loc[users['Country'].isin(['newzealand', 'nz']), 'Country'] = 'new zealand'\n",
        "users.loc[users['Country'].isin(['northkorea']), 'Country'] = 'north korea'\n",
        "users.loc[users['Country'].isin(['papuanewguinea']), 'Country'] = 'papua new guinea'\n",
        "users.loc[users['Country'].isin(['republicofpanama']), 'Country'] = 'panama'\n",
        "users.loc[users['Country'].isin(['per',]), 'Country'] = 'peru'\n",
        "users.loc[users['Country'].isin(['philippine', 'philippines', 'philippinies', 'phillipines', 'phils', 'phippines','thephilippines']), 'Country'] = 'philippines'\n",
        "users.loc[users['Country'].isin(['poland', 'polska']), 'Country'] = 'poland'\n",
        "users.loc[users['Country'].isin(['puertorico', 'pr']), 'Country'] = 'puerto rico'\n",
        "users.loc[users['Country'].isin(['qatar']), 'Country'] = 'qatar'\n",
        "users.loc[users['Country'].isin(['russia', 'russianfederation']), 'Country'] = 'russia'\n",
        "users.loc[users['Country'].isin(['ksa']), 'Country'] = 'saudi arabia'\n",
        "users.loc[users['Country'].isin(['srilanka']), 'Country'] = 'sri lanka'\n",
        "users.loc[users['Country'].isin(['suisse', 'lasuisse', 'lasvizzera']), 'Country'] = 'switzerland'\n",
        "users.loc[users['Country'].isin(['capemay','capetown','southafrica','rsa','safrica']), 'Country'] = 'south africa'\n",
        "users.loc[users['Country'].isin(['southkorea','republicofkorea','scorea']), 'Country'] = 'south korea'\n",
        "users.loc[users['Country'].isin(['saudiaarabia', 'saudiarabia']), 'Country'] = 'saudi arabia'\n",
        "users.loc[users['Country'].isin(['singapore', 'singaporeunitedkingdom']), 'Country'] = 'singapore'\n",
        "users.loc[users['Country'].isin(['slovakia', 'slovakrepublik']), 'Country'] = 'slovakia'\n",
        "users.loc[users['Country'].isin(['turkey\"']), 'Country'] = 'turkey'\n",
        "users.loc[users['Country'].isin(['uae','ua']), 'Country'] = 'united arab emirates'\n",
        "users.loc[users['Country'].isin(['srilanka', 'srilankana']), 'Country'] = 'sri lanka'\n",
        "users.loc[users['Country'].isin(['serbia', 'serbiaandmontenegro', 'serbiamontenegro']), 'Country'] = 'serbia'\n",
        "users.loc[users['Country'].isin(['unitedkindgdom', 'unitedkindgonm', 'hamilton','hampden','unitedkingdom','gb', 'uk', 'austbritania','scotland',\n",
        "                                 'london','camden','england','englanduk','english','essex','wales']), 'Country'] = 'united kingdom'\n",
        "users.loc[users['Country'].isin(['clackamas','coutrenay','csa','maine','rutherford','goodoldusa',\n",
        "    'unite states', '01776', '02458', '19104', '23232', '30064', '85021', '87510', 'unitedsates','shelby','stclair','sthelena',\n",
        "    'unitedstaes', 'unitedstate', 'unitedstatea', 'unitedstated', 'america','gooldusa','goteborg','granville',\n",
        "    'unitedstatedofamerica', 'unitedstates', 'unitedstatesofamerica', 'us', 'usofa','spotsylvania',\n",
        "    'usvirginislands', 'usacanada', 'usacurrentlylivinginengland', 'uusa', 'usaa','guernsey','northcarolina','ohio','victoria',\n",
        "    'wonderfulusa', 'california', 'orangeco','baltimore','california','disgruntledstatesofamerica','sanmateo','santabarbara','saotomeandprincipe',\n",
        "    'hernando', 'hidalgo', 'hillsborough', 'houston', 'jackson', 'johnson', 'kern', 'sanbernardino','sanfranicsco',\n",
        "    'lawrenceville', 'lee', 'livingston', 'maine', 'maracopa', 'saintloius','saintlucia', 'saintluica','saintvincentandthegrenadines', 'stvincentandthegrenadines',\n",
        "    'maricopa', 'marrion', 'minnehaha', 'missouri', 'monroe', 'orangeco', 'pasco', 'unitestates','losestadosunidosdenorteamerica','palmbeach',\n",
        "    'pender', 'phila', 'pinallas', 'polk', 'princewilliam', 'pueblo', 'osceola','stthomasi','texas','trinidad', 'trinidadandtobago', 'trinidadtobago','hungaryandusa','oakland','nyc'\n",
        "]), 'Country'] = 'usa'\n",
        "users.loc[users['Country'].isin(['sultanateofoman']), 'Country'] = 'oman'\n",
        "users.loc[users['Country'].isin(['swaziland', 'swazilandia']), 'Country'] = 'eswatini'\n",
        "users.loc[users['Country'].isin(['thailand', 'thailoand']), 'Country'] = 'thailand'\n",
        "users.loc[users['Country'].isin(['thegambia']), 'Country'] = 'gambia'\n",
        "users.loc[users['Country'].isin(['turkei', 'turkey','trkiye']), 'Country'] = 'turkey'\n",
        "users.loc[users['Country'].isin(['ukrain', 'ukraine']), 'Country'] = 'ukraine'\n",
        "users.loc[users['Country'].isin(['dominicanrepublic']), 'Country'] = 'dominican republic'\n",
        "users.loc[users['Country'].isin(['unitedarabemirates']), 'Country'] = 'united arab emirates'\n",
        "users.loc[users['Country'].isin(['urugua', 'uruguay']), 'Country'] = 'uruguay'\n",
        "users.loc[users['Country'].isin(['costarica']), 'Country'] = 'costa rica'\n",
        "users.loc[users['Country'].isin(['\"','','id','rmi','pa','quit','lj','valtesse','tdzimi','3265422269','2001322269','3265422269','5057chadwickct', 'smith','solomonislands','solano','somewhereinspace', 'space','saintkittsandnevis','adsgfdr','ahrensburg','alderney','aroostook', 'aotearoa', 'allen', 'amalurra', 'ahrensburg', 'alachua','aroostook', 'aruba', 'xxxxxx',\n",
        "                                'azerbaijan','isleofman','baxter','bbbzzzzz','bell','rapides','faraway','my','travelling','tyrtyrt','wmalaysia','benin','bergued','bernalillo','bfe','bih','bkk','bladen','bucks','butler','c','ca','cadd0','carribeansea','carter','cass','universe', 'nowhere', 'x', 'y', 'a', 'öð¹ú', 'the', 'unknown', 'na', 'aaa', 'z',\n",
        "                                 'somewhereinspace', '[]','cn','collin', 'space', 'naontheroad', 'inyourheart', 'caymanislands','channelislands','eastafrica','eeuu','effingham','farawy','faroeislands','fernandodelamora',\n",
        "                                 'homeofthevan', 'everywhereandanywhere', 'strongbadia', 'mordor', 'cted','strongbadia','dauphin','davidson','dekalb','distritofederal','diy','dijbouti','doodedoo'\n",
        "                                 'evilempire','harvatija','heaven','hereandthere','homeofthevan', 'hornyonic', 'inputerror', 'inyourheart', 'k1c7b1', 'l', 'lane', 'mordor', 'nomore', 'none', 'ouranos', 'unknown', 'petrolwarnation','pippo', 'pistlavakia', 'fairyland','country','guam','fortbend','framingham','fred','fredonialandofthebraveandfree','frome','fulton', 'unknown',\n",
        "                                 'aaa','commonwealthofnorthernmarianaislands','comoros','cook','europa','europe','euskadi','euskalherria','everywhereandanywhere','evilempire','exactlywhereiam','fairyland',\n",
        "                                 'doodedoo','caribbeansea','hennipen','lake','windham','thegreatwhitenorth','auckland','morgan','slo','lkjlj','richmondcountry','wood','vanwert','lornsenland','faraway','unit','newlondon','u','oyo','thing','wereglobal','whatcom',\n",
        "                              'queenspark','rice','ust','nrw','ventura','nyhamnslge','clinton','cherokee','washtenaw','elsalvador','americansamoa','prc','nh','venturacounty','ysa','theworldtomorrow','burkinafasu','henry','onondaganation','vorce','neverland','westyorkshire','uyo','hug','ussurfing','yanhill','buncombe','in','courtenay','xinyu','yakima','yunling' ]), 'Country'] = 'unknown'\n"
      ]
    },
    {
      "cell_type": "code",
      "source": [
        "#Converting the country names to uppercase\n",
        "users['Country']=users['Country'].str.upper()"
      ],
      "metadata": {
        "id": "zabRgqwvUOlu"
      },
      "execution_count": 20,
      "outputs": []
    },
    {
      "cell_type": "code",
      "execution_count": 21,
      "metadata": {
        "colab": {
          "base_uri": "https://localhost:8080/"
        },
        "id": "ZkACHpGtwBZx",
        "outputId": "55c9b64f-6127-4392-a108-2d30cfd839d7"
      },
      "outputs": [
        {
          "output_type": "execute_result",
          "data": {
            "text/plain": [
              "Index(['User-ID', 'Age', 'Age_group', 'Country'], dtype='object')"
            ]
          },
          "metadata": {},
          "execution_count": 21
        }
      ],
      "source": [
        "#Dropping the column 'Location'\n",
        "users.drop('Location',axis=1,inplace=True)\n",
        "users.columns"
      ]
    },
    {
      "cell_type": "code",
      "execution_count": 22,
      "metadata": {
        "colab": {
          "base_uri": "https://localhost:8080/",
          "height": 489
        },
        "id": "7cVjdvTKwBZx",
        "outputId": "b69f7eed-bc21-4cfd-8f5c-47412403156a"
      },
      "outputs": [
        {
          "output_type": "execute_result",
          "data": {
            "text/plain": [
              "Country\n",
              "USA               139884\n",
              "CANADA             21666\n",
              "UNITED KINGDOM     18655\n",
              "GERMANY            17111\n",
              "SPAIN              13381\n",
              "                   ...  \n",
              "KIRIBATI               1\n",
              "WORCESTER              1\n",
              "SOMALIA                1\n",
              "VICENZA                1\n",
              "TOBAGO                 1\n",
              "Name: count, Length: 184, dtype: int64"
            ],
            "text/html": [
              "<div>\n",
              "<style scoped>\n",
              "    .dataframe tbody tr th:only-of-type {\n",
              "        vertical-align: middle;\n",
              "    }\n",
              "\n",
              "    .dataframe tbody tr th {\n",
              "        vertical-align: top;\n",
              "    }\n",
              "\n",
              "    .dataframe thead th {\n",
              "        text-align: right;\n",
              "    }\n",
              "</style>\n",
              "<table border=\"1\" class=\"dataframe\">\n",
              "  <thead>\n",
              "    <tr style=\"text-align: right;\">\n",
              "      <th></th>\n",
              "      <th>count</th>\n",
              "    </tr>\n",
              "    <tr>\n",
              "      <th>Country</th>\n",
              "      <th></th>\n",
              "    </tr>\n",
              "  </thead>\n",
              "  <tbody>\n",
              "    <tr>\n",
              "      <th>USA</th>\n",
              "      <td>139884</td>\n",
              "    </tr>\n",
              "    <tr>\n",
              "      <th>CANADA</th>\n",
              "      <td>21666</td>\n",
              "    </tr>\n",
              "    <tr>\n",
              "      <th>UNITED KINGDOM</th>\n",
              "      <td>18655</td>\n",
              "    </tr>\n",
              "    <tr>\n",
              "      <th>GERMANY</th>\n",
              "      <td>17111</td>\n",
              "    </tr>\n",
              "    <tr>\n",
              "      <th>SPAIN</th>\n",
              "      <td>13381</td>\n",
              "    </tr>\n",
              "    <tr>\n",
              "      <th>...</th>\n",
              "      <td>...</td>\n",
              "    </tr>\n",
              "    <tr>\n",
              "      <th>KIRIBATI</th>\n",
              "      <td>1</td>\n",
              "    </tr>\n",
              "    <tr>\n",
              "      <th>WORCESTER</th>\n",
              "      <td>1</td>\n",
              "    </tr>\n",
              "    <tr>\n",
              "      <th>SOMALIA</th>\n",
              "      <td>1</td>\n",
              "    </tr>\n",
              "    <tr>\n",
              "      <th>VICENZA</th>\n",
              "      <td>1</td>\n",
              "    </tr>\n",
              "    <tr>\n",
              "      <th>TOBAGO</th>\n",
              "      <td>1</td>\n",
              "    </tr>\n",
              "  </tbody>\n",
              "</table>\n",
              "<p>184 rows × 1 columns</p>\n",
              "</div><br><label><b>dtype:</b> int64</label>"
            ]
          },
          "metadata": {},
          "execution_count": 22
        }
      ],
      "source": [
        "users.Country.value_counts()"
      ]
    },
    {
      "cell_type": "code",
      "source": [
        "users.info()"
      ],
      "metadata": {
        "colab": {
          "base_uri": "https://localhost:8080/"
        },
        "id": "XPHeIf9-gdIS",
        "outputId": "0122844c-f033-4846-d2d0-611ada8fb322"
      },
      "execution_count": 23,
      "outputs": [
        {
          "output_type": "stream",
          "name": "stdout",
          "text": [
            "<class 'pandas.core.frame.DataFrame'>\n",
            "RangeIndex: 278858 entries, 0 to 278857\n",
            "Data columns (total 4 columns):\n",
            " #   Column     Non-Null Count   Dtype  \n",
            "---  ------     --------------   -----  \n",
            " 0   User-ID    278858 non-null  int64  \n",
            " 1   Age        278858 non-null  float64\n",
            " 2   Age_group  278858 non-null  object \n",
            " 3   Country    278858 non-null  object \n",
            "dtypes: float64(1), int64(1), object(2)\n",
            "memory usage: 8.5+ MB\n"
          ]
        }
      ]
    },
    {
      "cell_type": "code",
      "source": [
        "users.to_csv('users_cleaned.csv',index=False)"
      ],
      "metadata": {
        "id": "4y1PoPzavPDP"
      },
      "execution_count": 24,
      "outputs": []
    }
  ],
  "metadata": {
    "colab": {
      "provenance": [],
      "include_colab_link": true
    },
    "kernelspec": {
      "display_name": "Python 3 (ipykernel)",
      "language": "python",
      "name": "python3"
    },
    "language_info": {
      "codemirror_mode": {
        "name": "ipython",
        "version": 3
      },
      "file_extension": ".py",
      "mimetype": "text/x-python",
      "name": "python",
      "nbconvert_exporter": "python",
      "pygments_lexer": "ipython3",
      "version": "3.10.13"
    }
  },
  "nbformat": 4,
  "nbformat_minor": 0
}